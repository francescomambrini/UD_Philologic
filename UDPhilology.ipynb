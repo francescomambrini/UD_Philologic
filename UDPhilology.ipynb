{
 "cells": [
  {
   "cell_type": "markdown",
   "id": "6562e727-0409-40d8-9432-b65e496c2f5e",
   "metadata": {},
   "source": [
    "# UD, Philology and Greek Tragedy"
   ]
  },
  {
   "cell_type": "markdown",
   "id": "ddfe9386-4db8-41d5-9c2c-b35704e57af9",
   "metadata": {},
   "source": [
    "We demonstrate a couple of applications of Universal Dependencies for the philological research on Greek Tragedy. In particular, we leverage the power of a couple of formats and tools to generate alignments between trees and:\n",
    "* alternative versions\n",
    "* translations"
   ]
  },
  {
   "cell_type": "markdown",
   "id": "9e7a6068-9762-4cbf-af57-d20b1dc85963",
   "metadata": {},
   "source": [
    "The technologies we try to apply are:\n",
    "* [udapi](https://github.com/udapi/udapi-python) to read, manipulate and write UD trees\n",
    "* [iAligner](http://ialigner.com/index.php) for token alignment of paralel versions\n",
    "* udapi again to write a nice HTML serialization of our paired treebanks "
   ]
  },
  {
   "cell_type": "markdown",
   "id": "2737c735-3933-41b8-95dd-7c341b73242c",
   "metadata": {},
   "source": [
    "## Read the data"
   ]
  },
  {
   "cell_type": "markdown",
   "id": "f5a4dbe3-7488-4ce9-80f2-8f8edfe9a7c6",
   "metadata": {},
   "source": [
    "We start with sample data. We presuppose that the following treebanks are available in UD format:\n",
    "* a standard treebank of a Greek tragedy (you can use my trees from [katholou]())\n",
    "* an alternative version of the same text\n",
    "\n",
    "If you need to quickly generate UD treebank for testing purporses, you can use the pre-trained models and the REST-API for [udpipe](https://lindat.mff.cuni.cz/services/udpipe/)"
   ]
  },
  {
   "cell_type": "markdown",
   "id": "22f890fa-6e59-4c39-b16c-b2aa65442384",
   "metadata": {},
   "source": [
    "In this folder, you'll find one short sentence from Aeschylus, *Agamemnon* 412, in two versions: the original AGLDT treebank and a version (also treebanked by myself) from A.H. Sommerstein's new Loeb edition of Aeschylus  "
   ]
  },
  {
   "cell_type": "code",
   "execution_count": 1,
   "id": "70e67233-33a3-4525-9284-26061110743b",
   "metadata": {},
   "outputs": [],
   "source": [
    "from udapi.core.document import Document\n",
    "from udapi.block.write.html import Html as HtmlWriter"
   ]
  },
  {
   "cell_type": "code",
   "execution_count": 2,
   "id": "93931175-2582-4056-af88-c1869db99e85",
   "metadata": {},
   "outputs": [],
   "source": [
    "doc = Document()\n",
    "doc.load_conllu('data/ag_412_tb.conllu')"
   ]
  },
  {
   "cell_type": "code",
   "execution_count": 3,
   "id": "90c96257-aa5e-4a45-b295-076e5608cc03",
   "metadata": {},
   "outputs": [],
   "source": [
    "tree = doc.bundles[0].get_tree()"
   ]
  },
  {
   "cell_type": "code",
   "execution_count": 4,
   "id": "0b6cdeae-20ad-409f-b855-d15182263948",
   "metadata": {},
   "outputs": [
    {
     "name": "stdout",
     "output_type": "stream",
     "text": [
      "πάρεστι σιγὰς ἀτίμους ἀλοιδόρους ἄλγιστ' ἀφημένων ἰδεῖν.\n"
     ]
    }
   ],
   "source": [
    "print(tree.text)"
   ]
  },
  {
   "cell_type": "code",
   "execution_count": 5,
   "id": "e46f60e4-2abe-42bd-ad71-6dc68e39a607",
   "metadata": {},
   "outputs": [
    {
     "name": "stdout",
     "output_type": "stream",
     "text": [
      "# sent_id = 161\n",
      "# text = πάρεστι σιγὰς ἀτίμους ἀλοιδόρους ἄλγιστ' ἀφημένων ἰδεῖν.\n",
      "─┮\n",
      " ╰─┮ \u001b[33mπάρεστι\u001b[0m \u001b[31mVERB\u001b[0m \u001b[34mroot\u001b[0m\n",
      "   │ ╭─┮ \u001b[33mσιγὰς\u001b[0m \u001b[31mNOUN\u001b[0m \u001b[34mobj\u001b[0m\n",
      "   │ │ ┡─╼ \u001b[33mἀτίμους\u001b[0m \u001b[31mADJ\u001b[0m \u001b[34mamod\u001b[0m\n",
      "   │ │ ┡─╼ \u001b[33mἀλοιδόρους\u001b[0m \u001b[31mADJ\u001b[0m \u001b[34mamod\u001b[0m\n",
      "   │ │ │ ╭─╼ \u001b[33mἄλγιστ'\u001b[0m \u001b[31mADJ\u001b[0m \u001b[34mobl\u001b[0m\n",
      "   │ │ ╰─┶ \u001b[33mἀφημένων\u001b[0m \u001b[31mVERB\u001b[0m \u001b[34mnmod\u001b[0m\n",
      "   ┡─┶ \u001b[33mἰδεῖν\u001b[0m \u001b[31mVERB\u001b[0m \u001b[34mcsubj\u001b[0m\n",
      "   ╰─╼ \u001b[33m.\u001b[0m \u001b[31mPUNCT\u001b[0m \u001b[34mpunct\u001b[0m\n",
      "\n"
     ]
    }
   ],
   "source": [
    "tree.draw()"
   ]
  },
  {
   "cell_type": "markdown",
   "id": "f7394c4e-26f6-4bf0-82e1-64897a95322c",
   "metadata": {},
   "source": [
    "Now we:\n",
    "* load the Sommerstein version\n",
    "* then we create a new document with the two treebanks paired as two zones of a single bundle "
   ]
  },
  {
   "cell_type": "code",
   "execution_count": 6,
   "id": "74df121a-9655-4c17-9d61-6d723b8995c6",
   "metadata": {},
   "outputs": [],
   "source": [
    "som = Document()\n",
    "som.load_conllu('data/ag_412_Sommerstein.conllu')"
   ]
  },
  {
   "cell_type": "code",
   "execution_count": 7,
   "id": "41aecca0-82cd-49a1-bbe2-dd1cf632dadb",
   "metadata": {},
   "outputs": [],
   "source": [
    "newdoc = Document()\n",
    "bund = newdoc.create_bundle()\n",
    "tb = bund.add_tree(tree)\n",
    "tb.zone = 'grc_tb'\n",
    "lb = bund.add_tree(som.bundles[0].trees[0])\n",
    "lb.zone = 'grc_lb'"
   ]
  },
  {
   "cell_type": "markdown",
   "id": "48ba9a34-51a7-4aa5-b2b6-67ba4f701e16",
   "metadata": {},
   "source": [
    "Now the document `newdoc` has a single bundle (i.e. sentence) with 2 trees"
   ]
  },
  {
   "cell_type": "markdown",
   "id": "585d4c16-c4fc-42cf-af63-642a71128e5e",
   "metadata": {},
   "source": [
    "## Align the tokens "
   ]
  },
  {
   "cell_type": "markdown",
   "id": "697efe24-cd19-4cc0-ba11-086886d8cca8",
   "metadata": {},
   "source": [
    "As it can be seen, the text of the two zones of the bundle is slightly different:"
   ]
  },
  {
   "cell_type": "code",
   "execution_count": 8,
   "id": "b0270c0c-4fd3-4a9d-8707-76f15b542e8c",
   "metadata": {},
   "outputs": [
    {
     "name": "stdout",
     "output_type": "stream",
     "text": [
      "πάρεστι σιγὰς ἀτίμους ἀλοιδόρους ἄλγιστ' ἀφημένων ἰδεῖν.\n",
      "πάρεστι σιγὰς ἀτίμους ἀλοιδόρους ἀλιστοὺς ἀφειμένων ἰδεῖν.\n"
     ]
    }
   ],
   "source": [
    "for tree in bund.trees:\n",
    "    print(tree.text)"
   ]
  },
  {
   "cell_type": "markdown",
   "id": "0849ef4b-bf74-4791-9024-45ade2850a64",
   "metadata": {},
   "source": [
    "We ca use `iAligner` to align the tokens of the versions. I know, it looks like an overkill in this case, but obviously not everything is so charmingly easy..."
   ]
  },
  {
   "cell_type": "code",
   "execution_count": 9,
   "id": "0d6fe78e-1610-44fe-964d-26bb429c2f53",
   "metadata": {},
   "outputs": [],
   "source": [
    "from iAlignment.iAligner import iAligner\n",
    "from iAlignment.Viewer import Viewer"
   ]
  },
  {
   "cell_type": "code",
   "execution_count": 10,
   "id": "9983dcf8-adcb-44f7-9c83-f56a11f03c95",
   "metadata": {},
   "outputs": [],
   "source": [
    "aligner = iAligner()"
   ]
  },
  {
   "cell_type": "markdown",
   "id": "3f88f1a3-af9c-45ac-9587-0c7c3930a66c",
   "metadata": {},
   "source": [
    "As UD trees are already tokenized, we feed the tokens of the two sentences directly"
   ]
  },
  {
   "cell_type": "code",
   "execution_count": 11,
   "id": "a4677325-4eb0-4360-bac3-2a1b4d22fe94",
   "metadata": {},
   "outputs": [],
   "source": [
    "aligner.sentence1.tokens = [tok.form for tok in tb.descendants]\n",
    "aligner.sentence2.tokens = [tok.form for tok in lb.descendants]"
   ]
  },
  {
   "cell_type": "code",
   "execution_count": 12,
   "id": "3bbbdc4d-dd78-4174-a0e8-c48c848816bf",
   "metadata": {},
   "outputs": [],
   "source": [
    "aligner.initialization()\n",
    "aligner.fillMatrix()\n",
    "aligner.getOptimalAlignment()"
   ]
  },
  {
   "cell_type": "code",
   "execution_count": 13,
   "id": "6861f8f5-aa1c-48d2-9059-669c361e4f6e",
   "metadata": {},
   "outputs": [
    {
     "data": {
      "text/plain": [
       "[{'sentence1': 'πάρεστι',\n",
       "  'sentence2': 'πάρεστι',\n",
       "  'relation': 'Aligned-complete'},\n",
       " {'sentence1': 'σιγὰς', 'sentence2': 'σιγὰς', 'relation': 'Aligned-complete'},\n",
       " {'sentence1': 'ἀτίμους',\n",
       "  'sentence2': 'ἀτίμους',\n",
       "  'relation': 'Aligned-complete'},\n",
       " {'sentence1': 'ἀλοιδόρους',\n",
       "  'sentence2': 'ἀλοιδόρους',\n",
       "  'relation': 'Aligned-complete'},\n",
       " {'sentence1': \"ἄλγιστ'\", 'sentence2': 'ἀλιστοὺς', 'relation': 'notAligned'},\n",
       " {'sentence1': 'ἀφημένων', 'sentence2': 'ἀφειμένων', 'relation': 'notAligned'},\n",
       " {'sentence1': 'ἰδεῖν', 'sentence2': 'ἰδεῖν', 'relation': 'Aligned-complete'},\n",
       " {'sentence1': '.', 'sentence2': '.', 'relation': 'Aligned-complete'}]"
      ]
     },
     "execution_count": 13,
     "metadata": {},
     "output_type": "execute_result"
    }
   ],
   "source": [
    "alignment = aligner.optimal_alignment\n",
    "alignment"
   ]
  },
  {
   "cell_type": "markdown",
   "id": "3ea45cc8-88ed-4688-95ea-56bbf68a6152",
   "metadata": {},
   "source": [
    "We can visualize it live, but first we must embed some [CSS](http://ialigner.com/assets/css/style.css) from iAligner!"
   ]
  },
  {
   "cell_type": "code",
   "execution_count": 14,
   "id": "e10a049f-403f-4f3a-9cce-78aad8501602",
   "metadata": {},
   "outputs": [],
   "source": [
    "viewer = Viewer()\n",
    "h_al = viewer.alignmentToHtmlCode(alignment)"
   ]
  },
  {
   "cell_type": "code",
   "execution_count": 15,
   "id": "11ba9592-e983-4cbd-ad5b-0e9a1197ba10",
   "metadata": {},
   "outputs": [],
   "source": [
    "css_str = '''<style>.notAligned{\n",
    "    background-color:#E84A3F;\n",
    "    color:#FFF;\n",
    "}\n",
    ".aligned{\n",
    "    background-color:#BDB76B\n",
    "}\n",
    ".Aligned-complete{\n",
    "    background-color:#318203;\n",
    "    color:#FFF;\n",
    "}\n",
    ".Aligned-removedNonAlphanumeric{\n",
    "    background-color:#6BC934;\n",
    "    color:#FFF;\n",
    "}\n",
    "</style>'''"
   ]
  },
  {
   "cell_type": "code",
   "execution_count": 28,
   "id": "9e228515-bdfe-43a3-9817-036e9f1f7c1d",
   "metadata": {},
   "outputs": [
    {
     "data": {
      "text/html": [
       "<style>.notAligned{\n",
       "    background-color:#E84A3F;\n",
       "    color:#FFF;\n",
       "}\n",
       ".aligned{\n",
       "    background-color:#BDB76B\n",
       "}\n",
       ".Aligned-complete{\n",
       "    background-color:#318203;\n",
       "    color:#FFF;\n",
       "}\n",
       ".Aligned-removedNonAlphanumeric{\n",
       "    background-color:#6BC934;\n",
       "    color:#FFF;\n",
       "}\n",
       "</style><table class='table'><tr><td class='Aligned-complete'>πάρεστι</td><td class='Aligned-complete'>σιγὰς</td><td class='Aligned-complete'>ἀτίμους</td><td class='Aligned-complete'>ἀλοιδόρους</td><td class='notAligned'>ἄλγιστ'</td><td class='notAligned'>ἀφημένων</td><td class='Aligned-complete'>ἰδεῖν</td><td class='Aligned-complete'>.</td></tr><tr><td class='Aligned-complete'>πάρεστι</td><td class='Aligned-complete'>σιγὰς</td><td class='Aligned-complete'>ἀτίμους</td><td class='Aligned-complete'>ἀλοιδόρους</td><td class='notAligned'>ἀλιστοὺς</td><td class='notAligned'>ἀφειμένων</td><td class='Aligned-complete'>ἰδεῖν</td><td class='Aligned-complete'>.</td></tr></table>"
      ],
      "text/plain": [
       "<IPython.core.display.HTML object>"
      ]
     },
     "metadata": {},
     "output_type": "display_data"
    }
   ],
   "source": [
    "from IPython.core.display import display, HTML, SVG\n",
    "display(HTML(css_str + h_al))"
   ]
  },
  {
   "cell_type": "markdown",
   "id": "63668f9e-6390-4b94-aa4e-19d8555552da",
   "metadata": {},
   "source": [
    "## Write the html"
   ]
  },
  {
   "cell_type": "code",
   "execution_count": 17,
   "id": "7740331f-63a1-4580-82e6-5833706e1ecc",
   "metadata": {},
   "outputs": [],
   "source": [
    "writer = HtmlWriter(files='data/ag_412.html')"
   ]
  },
  {
   "cell_type": "code",
   "execution_count": null,
   "id": "37497da9-102d-4b84-b4bc-cf88ce6b6aad",
   "metadata": {},
   "outputs": [],
   "source": [
    "writer.apply_on_document(newdoc)"
   ]
  },
  {
   "cell_type": "markdown",
   "id": "b42dc854-eedb-4700-b721-0ddaf611c701",
   "metadata": {},
   "source": [
    "Udapi `Html writer` uses [this](https://github.com/ufal/js-treex-view) JavaScript library, which is probably not under strict maintainance or development. Basically, the TB data are serialized to JSON, added to the html page, and then the js library renders the JSON on the fly.\n",
    "\n",
    "Perhaps it's possible to improve the JS library or to add some information to the JSON data dump, but JavaScript is not really my cup of tea..."
   ]
  },
  {
   "cell_type": "code",
   "execution_count": 43,
   "id": "8252a0b9-54d8-4c69-a861-eb15d6d38c3f",
   "metadata": {},
   "outputs": [
    {
     "data": {
      "text/html": [
       "\n",
       "        <iframe\n",
       "            width=\"700\"\n",
       "            height=\"600\"\n",
       "            src=\"./data/ag_412.html\"\n",
       "            frameborder=\"0\"\n",
       "            allowfullscreen\n",
       "        ></iframe>\n",
       "        "
      ],
      "text/plain": [
       "<IPython.lib.display.IFrame at 0x7f12df96feb0>"
      ]
     },
     "execution_count": 43,
     "metadata": {},
     "output_type": "execute_result"
    }
   ],
   "source": [
    "from IPython.display import IFrame\n",
    "\n",
    "IFrame(src='./data/ag_412.html', width=700, height=600)"
   ]
  },
  {
   "cell_type": "markdown",
   "id": "0f7d7729-abce-4213-b70a-ba58420d1e1f",
   "metadata": {},
   "source": [
    "The amazing thing of this out-of-the box solution is that it is possible to **higlight words simultaneously in both trees by hovering on them** and it performs a sort of automatic alignment that, at least for a simple sentence like this one, works very effectively!"
   ]
  },
  {
   "cell_type": "markdown",
   "id": "a64384ad-c9a0-4953-b631-0b8edc0d5aec",
   "metadata": {},
   "source": [
    "Go ahead and `click on ἀφημένων` in the sentence above the trees! See that?"
   ]
  },
  {
   "cell_type": "markdown",
   "id": "a2eab991-036d-4520-aaef-ab433dc580d9",
   "metadata": {},
   "source": [
    "## Translation alignment"
   ]
  },
  {
   "cell_type": "markdown",
   "id": "1ce56ff1-8fd0-4384-a960-980628e1cc89",
   "metadata": {},
   "source": [
    "The first Italian translation I could lay my hands on (E. Romagnoli, 1922) translates this sentence as:\n",
    "\n",
    "```\n",
    "Vedi l'obbrobrio muto, nella doglia acutissima in disparte seduto.\n",
    "```\n",
    "\n",
    "I ran UDPipe 2 on that, and this is the result"
   ]
  },
  {
   "cell_type": "code",
   "execution_count": 18,
   "id": "4e42ca06-0cd4-4994-9517-fd394df006b9",
   "metadata": {},
   "outputs": [],
   "source": [
    "romagnoli_str = '''# generator = UDPipe 2, https://lindat.mff.cuni.cz/services/udpipe\n",
    "# udpipe_model = italian-isdt-ud-2.6-200830\n",
    "# udpipe_model_licence = CC BY-NC-SA\n",
    "# newdoc\n",
    "# newpar\n",
    "# sent_id = 1\n",
    "# text = Vedi l'obbrobrio muto, nella doglia acutissima in disparte seduto.\n",
    "1\tVedi\tvedere\tVERB\tV\tMood=Imp|Number=Sing|Person=2|Tense=Pres|VerbForm=Fin\t0\troot\t_\tTokenRange=0:4\n",
    "2\tl'\til\tDET\tRD\tDefinite=Def|Number=Sing|PronType=Art\t3\tdet\t_\tSpaceAfter=No|TokenRange=5:7\n",
    "3\tobbrobrio\tobbrobrio\tNOUN\tS\tGender=Masc|Number=Sing\t1\tobj\t_\tTokenRange=7:16\n",
    "4\tmuto\tmuto\tADJ\tA\tGender=Masc|Number=Sing\t3\tamod\t_\tSpaceAfter=No|TokenRange=17:21\n",
    "5\t,\t,\tPUNCT\tFF\t_\t1\tpunct\t_\tTokenRange=21:22\n",
    "6-7\tnella\t_\t_\t_\t_\t_\t_\t_\tTokenRange=23:28\n",
    "6\tin\tin\tADP\tE\t_\t8\tcase\t_\t_\n",
    "7\tla\til\tDET\tRD\tDefinite=Def|Gender=Fem|Number=Sing|PronType=Art\t8\tdet\t_\t_\n",
    "8\tdoglia\tdoglia\tNOUN\tS\tGender=Fem|Number=Sing\t1\tobl\t_\tTokenRange=29:35\n",
    "9\tacutissima\tacuto\tADJ\tA\tDegree=Abs|Gender=Fem|Number=Sing\t8\tamod\t_\tTokenRange=36:46\n",
    "10\tin\tin\tADP\tE\t_\t11\tcase\t_\tTokenRange=47:49\n",
    "11\tdisparte\tdisparte\tNOUN\tS\tGender=Masc|Number=Sing\t8\tnmod\t_\tTokenRange=50:58\n",
    "12\tseduto\tseduto\tADJ\tA\tGender=Masc|Number=Sing\t11\tamod\t_\tSpaceAfter=No|TokenRange=59:65\n",
    "13\t.\t.\tPUNCT\tFS\t_\t1\tpunct\t_\tSpaceAfter=No|TokenRange=65:66\n",
    "\n",
    "'''"
   ]
  },
  {
   "cell_type": "code",
   "execution_count": 19,
   "id": "1cdbfc74-7c80-4f7f-90a9-39746b87bc11",
   "metadata": {},
   "outputs": [],
   "source": [
    "trdoc = Document()\n",
    "trdoc.from_conllu_string(romagnoli_str)\n",
    "#trbund = trdoc.create_bundle()\n",
    "#trbund.add_tree(tb)"
   ]
  },
  {
   "cell_type": "code",
   "execution_count": 20,
   "id": "2c75e965-ba81-497b-a7ab-53d57b2fd6a0",
   "metadata": {},
   "outputs": [
    {
     "name": "stdout",
     "output_type": "stream",
     "text": [
      "# sent_id = 1\n",
      "# text = Vedi l'obbrobrio muto, nella doglia acutissima in disparte seduto.\n",
      "─┮\n",
      " ╰─┮ \u001b[33mVedi\u001b[0m \u001b[31mVERB\u001b[0m \u001b[34mroot\u001b[0m\n",
      "   │ ╭─╼ \u001b[33ml'\u001b[0m \u001b[31mDET\u001b[0m \u001b[34mdet\u001b[0m\n",
      "   ┡─┾ \u001b[33mobbrobrio\u001b[0m \u001b[31mNOUN\u001b[0m \u001b[34mobj\u001b[0m\n",
      "   │ ╰─╼ \u001b[33mmuto\u001b[0m \u001b[31mADJ\u001b[0m \u001b[34mamod\u001b[0m\n",
      "   ┡─╼ \u001b[33m,\u001b[0m \u001b[31mPUNCT\u001b[0m \u001b[34mpunct\u001b[0m\n",
      "   │ ╭─╼ \u001b[33min\u001b[0m \u001b[31mADP\u001b[0m \u001b[34mcase\u001b[0m\n",
      "   │ ┢─╼ \u001b[33mla\u001b[0m \u001b[31mDET\u001b[0m \u001b[34mdet\u001b[0m\n",
      "   ┡─┾ \u001b[33mdoglia\u001b[0m \u001b[31mNOUN\u001b[0m \u001b[34mobl\u001b[0m\n",
      "   │ ┡─╼ \u001b[33macutissima\u001b[0m \u001b[31mADJ\u001b[0m \u001b[34mamod\u001b[0m\n",
      "   │ │ ╭─╼ \u001b[33min\u001b[0m \u001b[31mADP\u001b[0m \u001b[34mcase\u001b[0m\n",
      "   │ ╰─┾ \u001b[33mdisparte\u001b[0m \u001b[31mNOUN\u001b[0m \u001b[34mnmod\u001b[0m\n",
      "   │   ╰─╼ \u001b[33mseduto\u001b[0m \u001b[31mADJ\u001b[0m \u001b[34mamod\u001b[0m\n",
      "   ╰─╼ \u001b[33m.\u001b[0m \u001b[31mPUNCT\u001b[0m \u001b[34mpunct\u001b[0m\n",
      "\n"
     ]
    }
   ],
   "source": [
    "trdoc.bundles[0].get_tree().draw()"
   ]
  },
  {
   "cell_type": "markdown",
   "id": "5c521a90-388a-47be-9760-137b0f682020",
   "metadata": {},
   "source": [
    "By the way, I'm not goin to tamper with the automatic parsing, but UDPipe got the phrase *in disparte seduto* wrong. Perhaps, the poetic word order confused the model; in standard Italian you would say: *seduto in disparte*"
   ]
  },
  {
   "cell_type": "code",
   "execution_count": 21,
   "id": "7fe3087e-8505-48dd-81d7-4f90ee21872e",
   "metadata": {},
   "outputs": [],
   "source": [
    "ittr = trdoc.bundles[0].get_tree()\n",
    "ittr.zone = 'it_rom'"
   ]
  },
  {
   "cell_type": "code",
   "execution_count": 22,
   "id": "4e0b42f4-353c-481b-94a1-d2d7dc017cbf",
   "metadata": {},
   "outputs": [
    {
     "data": {
      "text/plain": [
       "<udapi.core.root.Root at 0x7fe03c701400>"
      ]
     },
     "execution_count": 22,
     "metadata": {},
     "output_type": "execute_result"
    }
   ],
   "source": [
    "trbund = trdoc.bundles[0]\n",
    "trbund.add_tree(tb)"
   ]
  },
  {
   "cell_type": "markdown",
   "id": "06b7522d-c563-4e91-ab43-9ac469c1cc8c",
   "metadata": {},
   "source": [
    "We could export the whole \"package\" to an HTML visualization like before, but in this case, with extra-language alignment, it doesn't work as effectively as with intra-language parallel treees... What we can do instead is to export everything in the Treex XML fomat (a custom serialization for multi-treebank data used by the Prague Dependency Treebak). This format supports alignments from treebank of different zones; we could use an editor like [TrEd](https://universaldependencies.org/tools.html#tred) to build and visualize the alignment.\n",
    "\n",
    "**NOTE**: unfortunately, TrEd would need the `Treex` Perl framework to be able to open the .treex file and work with it, which is a gigantic pain in the b*** to [install](https://ufal.mff.cuni.cz/treex/install.html). Don't do it at home! I'll do it for you: you can buy me a beer next time we see each other..."
   ]
  },
  {
   "cell_type": "code",
   "execution_count": null,
   "id": "afc79e59-a50c-457f-ac7e-2ed002cac7d2",
   "metadata": {},
   "outputs": [],
   "source": [
    "# this would be to write everything to an HTML file\n",
    "tr_writer = Html(files='data/ag_412_transl.html')\n",
    "tr_writer.apply_on_document(trdoc)"
   ]
  },
  {
   "cell_type": "code",
   "execution_count": null,
   "id": "1616b192-3776-4a73-b232-5573c732c732",
   "metadata": {},
   "outputs": [],
   "source": [
    "# this is for Treex\n",
    "from udapi.block.write.treex import Treex\n",
    "\n",
    "treex = Treex\n",
    "treex_writer = Treex(files='data/ag412_transl.treex')\n",
    "treex_writer.apply_on_document(trdoc)"
   ]
  },
  {
   "cell_type": "markdown",
   "id": "292a05c0-0db5-48a1-8559-435f8e568b76",
   "metadata": {},
   "source": [
    "I have manually annotated the alignment between text and Italian translation and exported the results as an SVG image. Here is what we get:"
   ]
  },
  {
   "cell_type": "code",
   "execution_count": 29,
   "id": "97dfff9a-59e4-45db-9267-1e3e351f6166",
   "metadata": {},
   "outputs": [
    {
     "data": {
      "image/svg+xml": [
       "<svg xmlns=\"http://www.w3.org/2000/svg\" version=\"1.1\" onload=\"init(evt)\" onmousemove=\"mouse_move(evt)\" onmouseout=\"mouse_out(evt)\" height=\"533\" width=\"682\">\n",
       " <script type=\"text/ecmascript\">\n",
       "      var doc = null;\n",
       "      var root = null;\n",
       "      var css = null;\n",
       "      var last_target = null;\n",
       "      var svgNs = &quot;http://www.w3.org/2000/svg&quot;;\n",
       "\n",
       "      function init(event) {\n",
       "         doc = event.target.ownerDocument;\n",
       "         root = doc.documentElement;\n",
       "         if (root.styleSheets != null &amp;&amp; root.styleSheets[0] != null) css = root.styleSheets[0]\n",
       "         else if (doc.styleSheets != null &amp;&amp; doc.styleSheets[0] != null) css = doc.styleSheets[0];\n",
       "         top.zoomSVG = zoom;\n",
       "         if (top.svg_loaded) top.svg_loaded(doc);\n",
       "         if (top.setSVGTitle) top.setSVGTitle(get_title());\n",
       "         if (top.setSVGDesc) top.setSVGDesc(get_desc());\n",
       "         if (top.highlightSVGNodes) top.highlightSVGNodes(css);\n",
       "      }\n",
       "      function mouse_out (event) {\n",
       "        hide_tooltip(event);\n",
       "      }\n",
       "      function mouse_move (event) {\n",
       "         show_tooltip(event);\n",
       "      }\n",
       "      function get_title () {\n",
       "        var title = root.getElementsByTagName('title').item(0);\n",
       "        if (title &amp;&amp; title.parentNode == root) {\n",
       "           return title.firstChild.nodeValue;\n",
       "        } else {\n",
       "           return '';\n",
       "        }\n",
       "      }\n",
       "      function get_desc () {\n",
       "        var desc = root.getElementsByTagName('desc').item(0);\n",
       "        if (desc &amp;&amp; desc.parentNode == root) {\n",
       "           var n = desc.firstChild;\n",
       "           while (n &amp;&amp; n.nodeType != 1) n=n.nextSibling;\n",
       "           if (!n) n=desc.firstChild;\n",
       "           return n; // desc.firstChild.nodeValue;\n",
       "        } else {\n",
       "           return '';\n",
       "        }\n",
       "      }\n",
       "      function zoom (amount) {\n",
       "        var old_scale = root.currentScale;\n",
       "        var new_scale = old_scale + amount;\n",
       "        var rescale = new_scale/old_scale;\n",
       "        root.currentScale = new_scale;\n",
       "        root.setAttribute('width',Number(root.getAttribute('width'))*rescale);\n",
       "        root.setAttribute('height',Number(root.getAttribute('height'))*rescale);\n",
       "      }\n",
       "      function hide_tooltip(event) {\n",
       "         if (event.target == last_target &amp;&amp; top.changeToolTip) {\n",
       "            top.changeToolTip(&quot;&quot;);\n",
       "         }\n",
       "      }\n",
       "      function show_tooltip(event) {\n",
       "        var target = event.target;\n",
       "        if (!top.placeTip) return;\n",
       "        var x = event.clientX;\n",
       "        var y = event.clientY;\n",
       "        top.placeTip(x,y,root,event);\n",
       "        if ( last_target != target ) {\n",
       "          last_target = target;\n",
       "          if (top.onSVGMouseOver) top.onSVGMouseOver(target);\n",
       "          if (target==root) return;\n",
       "          var desc;\n",
       "          for (var i=0; i&lt;target.childNodes.length; i++) {\n",
       "            var n = target.childNodes[i];\n",
       "            if (n.nodeName == 'desc') {\n",
       "              desc = n;\n",
       "              break;\n",
       "            }\n",
       "          }\n",
       "          if ( desc ) {\n",
       "            tooltip_text = desc.firstChild.nodeValue;\n",
       "            if (tooltip_text == null) {\n",
       "              top.changeToolTip('');\n",
       "            } else {\n",
       "              top.changeToolTip(tooltip_text.split(/\\n/).join(&quot;&lt;br /&gt;&quot;));\n",
       "            }\n",
       "          }\n",
       "        }\n",
       "      }\n",
       "\n",
       "</script>\n",
       " <defs>\n",
       "  <style type=\"text/css\"/>\n",
       " </defs>\n",
       " <g transform=\"translate(5 5)\">\n",
       "  <path id=\"i6\" d=\"M38,91 L28,15\" fill=\"none\" stroke-linejoin=\"round\" stroke-linecap=\"butt\" stroke=\"#555555\" stroke-dasharray=\"none\" stroke-width=\"2\" class=\"line scale_width scale_arrow seg:0.0\"/>\n",
       "  <path id=\"i7\" d=\"M38,91 C38,91,185.5,151.4,319.673995492748,96.4568859134779\" fill=\"none\" stroke-linecap=\"butt\" stroke=\"#00ffff\" stroke-dasharray=\"none\" stroke-width=\"1\" stroke-linejoin=\"round\" class=\"line scale_width scale_arrow translation_missing seg:0.0\"/>\n",
       "  <g transform=\"translate(333,91)\">\n",
       "   <g transform=\"rotate(337)\">\n",
       "    <polygon id=\"i7\" stroke-width=\"0\" fill=\"#00ffff\" points=\"0,0 -18,-4 -16,0 -18,4\" class=\"line scale_width scale_arrow translation_missing seg:0.0\"/>\n",
       "   </g>\n",
       "  </g>\n",
       "  <path id=\"i15\" d=\"M48,245 L218,168\" fill=\"none\" stroke-linecap=\"butt\" stroke=\"#555555\" stroke-dasharray=\"none\" stroke-width=\"2\" stroke-linejoin=\"round\" class=\"line scale_width scale_arrow seg:0.0\"/>\n",
       "  <path id=\"i16\" d=\"M48,245 C48,245,213.5,309.72,365.588980440206,250.244478464712\" fill=\"none\" stroke-linejoin=\"round\" stroke=\"#00ffff\" stroke-linecap=\"butt\" stroke-width=\"1\" stroke-dasharray=\"none\" class=\"line scale_width scale_arrow translation seg:0.0\"/>\n",
       "  <g transform=\"translate(379,245)\">\n",
       "   <g transform=\"rotate(338)\">\n",
       "    <polygon id=\"i16\" stroke-width=\"0\" fill=\"#00ffff\" points=\"0,0 -18,-4 -16,0 -18,4\" class=\"line scale_width scale_arrow translation seg:0.0\"/>\n",
       "   </g>\n",
       "  </g>\n",
       "  <path id=\"i24\" d=\"M58,322 L48,245\" fill=\"none\" stroke-linejoin=\"round\" stroke-dasharray=\"none\" stroke-width=\"2\" stroke-linecap=\"butt\" stroke=\"#555555\" class=\"line scale_width scale_arrow seg:0.0\"/>\n",
       "  <path id=\"i32\" d=\"M121,322 L48,245\" fill=\"none\" stroke-linecap=\"butt\" stroke=\"#555555\" stroke-dasharray=\"none\" stroke-width=\"2\" stroke-linejoin=\"round\" class=\"line scale_width scale_arrow seg:0.0\"/>\n",
       "  <path id=\"i33\" d=\"M121,322 C121,322,276.206804691564,295.854420511794,359.601805539066,179.697449713349\" fill=\"none\" stroke-dasharray=\"none\" stroke-width=\"1\" stroke-linecap=\"butt\" stroke=\"#00ffff\" stroke-linejoin=\"round\" class=\"line scale_width scale_arrow translation seg:0.0\"/>\n",
       "  <g transform=\"translate(368,168)\">\n",
       "   <g transform=\"rotate(305)\">\n",
       "    <polygon id=\"i33\" stroke-width=\"0\" fill=\"#00ffff\" points=\"0,0 -18,-4 -16,0 -18,4\" class=\"line scale_width scale_arrow translation seg:0.0\"/>\n",
       "   </g>\n",
       "  </g>\n",
       "  <path id=\"i41\" d=\"M131,399 L208,322\" fill=\"none\" stroke-dasharray=\"none\" stroke-width=\"2\" stroke-linecap=\"butt\" stroke=\"#555555\" stroke-linejoin=\"round\" class=\"line scale_width scale_arrow seg:0.0\"/>\n",
       "  <path id=\"i42\" d=\"M131,399 C131,399,356.06107270441,392.692361806765,515.13112777546,254.44603708264\" fill=\"none\" stroke-linecap=\"butt\" stroke=\"#00ffff\" stroke-dasharray=\"none\" stroke-width=\"1\" stroke-linejoin=\"round\" class=\"line scale_width scale_arrow translation seg:0.0\"/>\n",
       "  <g transform=\"translate(526,245)\">\n",
       "   <g transform=\"rotate(319)\">\n",
       "    <polygon id=\"i42\" stroke-width=\"0\" fill=\"#00ffff\" points=\"0,0 -18,-4 -16,0 -18,4\" class=\"line scale_width scale_arrow translation seg:0.0\"/>\n",
       "   </g>\n",
       "  </g>\n",
       "  <path id=\"i43\" d=\"M131,399 C131,399,356.485455686096,348.970273368699,491.052436809158,179.282779486717\" fill=\"none\" stroke-linejoin=\"round\" stroke=\"#00ffff\" stroke-linecap=\"butt\" stroke-width=\"1\" stroke-dasharray=\"none\" class=\"line scale_width scale_arrow translation seg:0.0\"/>\n",
       "  <g transform=\"translate(500,168)\">\n",
       "   <g transform=\"rotate(308)\">\n",
       "    <polygon id=\"i43\" stroke-width=\"0\" fill=\"#00ffff\" points=\"0,0 -18,-4 -16,0 -18,4\" class=\"line scale_width scale_arrow translation seg:0.0\"/>\n",
       "   </g>\n",
       "  </g>\n",
       "  <path id=\"i44\" d=\"M131,399 C131,399,338.835705815514,388.055314206296,479.540998786744,254.897943908767\" fill=\"none\" stroke-dasharray=\"none\" stroke-width=\"1\" stroke-linecap=\"butt\" stroke=\"#00ffff\" stroke-linejoin=\"round\" class=\"line scale_width scale_arrow translation seg:0.0\"/>\n",
       "  <g transform=\"translate(490,245)\">\n",
       "   <g transform=\"rotate(316)\">\n",
       "    <polygon id=\"i44\" stroke-width=\"0\" fill=\"#00ffff\" points=\"0,0 -18,-4 -16,0 -18,4\" class=\"line scale_width scale_arrow translation seg:0.0\"/>\n",
       "   </g>\n",
       "  </g>\n",
       "  <path id=\"i45\" d=\"M131,399 C131,399,319.848726645779,382.793790909114,440.112111447516,255.46850801087\" fill=\"none\" stroke-linecap=\"butt\" stroke=\"#00ffff\" stroke-dasharray=\"none\" stroke-width=\"1\" stroke-linejoin=\"round\" class=\"line scale_width scale_arrow translation seg:0.0\"/>\n",
       "  <g transform=\"translate(450,245)\">\n",
       "   <g transform=\"rotate(313)\">\n",
       "    <polygon id=\"i45\" stroke-width=\"0\" fill=\"#00ffff\" points=\"0,0 -18,-4 -16,0 -18,4\" class=\"line scale_width scale_arrow translation seg:0.0\"/>\n",
       "   </g>\n",
       "  </g>\n",
       "  <path id=\"i53\" d=\"M208,322 L48,245\" fill=\"none\" stroke=\"#555555\" stroke-linecap=\"butt\" stroke-width=\"2\" stroke-dasharray=\"none\" stroke-linejoin=\"round\" class=\"line scale_width scale_arrow seg:0.0\"/>\n",
       "  <path id=\"i54\" d=\"M208,322 C208,322,412.5,396.08,603.460953872383,326.904511184029\" fill=\"none\" stroke-linejoin=\"round\" stroke-dasharray=\"none\" stroke-width=\"1\" stroke-linecap=\"butt\" stroke=\"#00ffff\" class=\"line scale_width scale_arrow translation seg:0.0\"/>\n",
       "  <g transform=\"translate(617,322)\">\n",
       "   <g transform=\"rotate(340)\">\n",
       "    <polygon id=\"i54\" stroke-width=\"0\" fill=\"#00ffff\" points=\"0,0 -18,-4 -16,0 -18,4\" class=\"line scale_width scale_arrow translation seg:0.0\"/>\n",
       "   </g>\n",
       "  </g>\n",
       "  <path id=\"i55\" d=\"M208,322 C208,322,421.477156617528,355.927084290828,594.640753387376,252.389791821718\" fill=\"none\" stroke-linejoin=\"round\" stroke-dasharray=\"none\" stroke-width=\"1\" stroke-linecap=\"butt\" stroke=\"#00ffff\" class=\"line scale_width scale_arrow translation seg:0.0\"/>\n",
       "  <g transform=\"translate(607,245)\">\n",
       "   <g transform=\"rotate(329)\">\n",
       "    <polygon id=\"i55\" stroke-width=\"0\" fill=\"#00ffff\" points=\"0,0 -18,-4 -16,0 -18,4\" class=\"line scale_width scale_arrow translation seg:0.0\"/>\n",
       "   </g>\n",
       "  </g>\n",
       "  <path id=\"i56\" d=\"M208,322 C208,322,372,386.36,522.595271896117,327.260538419304\" fill=\"none\" stroke-linecap=\"butt\" stroke=\"#00ffff\" stroke-dasharray=\"none\" stroke-width=\"1\" stroke-linejoin=\"round\" class=\"line scale_width scale_arrow translation seg:0.0\"/>\n",
       "  <g transform=\"translate(536,322)\">\n",
       "   <g transform=\"rotate(338)\">\n",
       "    <polygon id=\"i56\" stroke-width=\"0\" fill=\"#00ffff\" points=\"0,0 -18,-4 -16,0 -18,4\" class=\"line scale_width scale_arrow translation seg:0.0\"/>\n",
       "   </g>\n",
       "  </g>\n",
       "  <path id=\"i64\" d=\"M218,168 L38,91\" fill=\"none\" stroke-linecap=\"butt\" stroke=\"#555555\" stroke-dasharray=\"none\" stroke-width=\"2\" stroke-linejoin=\"round\" class=\"line scale_width scale_arrow seg:0.0\"/>\n",
       "  <path id=\"i65\" d=\"M218,168 C218,168,298.649162862215,164.073425053957,326.873875348423,104.031906873261\" fill=\"none\" stroke-linejoin=\"round\" stroke=\"#00ffff\" stroke-linecap=\"butt\" stroke-width=\"1\" stroke-dasharray=\"none\" class=\"line scale_width scale_arrow translation seg:0.0\"/>\n",
       "  <g transform=\"translate(333,91)\">\n",
       "   <g transform=\"rotate(295)\">\n",
       "    <polygon id=\"i65\" stroke-width=\"0\" fill=\"#00ffff\" points=\"0,0 -18,-4 -16,0 -18,4\" class=\"line scale_width scale_arrow translation seg:0.0\"/>\n",
       "   </g>\n",
       "  </g>\n",
       "  <path id=\"i73\" d=\"M263,168 L38,91\" fill=\"none\" stroke-linejoin=\"round\" stroke-dasharray=\"none\" stroke-width=\"2\" stroke-linecap=\"butt\" stroke=\"#555555\" class=\"line scale_width scale_arrow seg:0.0\"/>\n",
       "  <path id=\"i86\" d=\"M333,91 L323,15\" fill=\"none\" stroke-linejoin=\"round\" stroke-dasharray=\"none\" stroke-width=\"2\" stroke-linecap=\"butt\" stroke=\"#555555\" class=\"line scale_width scale_arrow seg:0.0\"/>\n",
       "  <path id=\"i94\" d=\"M343,245 L368,168\" fill=\"none\" stroke-linejoin=\"round\" stroke=\"#555555\" stroke-linecap=\"butt\" stroke-width=\"2\" stroke-dasharray=\"none\" class=\"line scale_width scale_arrow seg:0.0\"/>\n",
       "  <path id=\"i102\" d=\"M368,168 L333,91\" fill=\"none\" stroke-linejoin=\"round\" stroke=\"#555555\" stroke-linecap=\"butt\" stroke-width=\"2\" stroke-dasharray=\"none\" class=\"line scale_width scale_arrow seg:0.0\"/>\n",
       "  <path id=\"i110\" d=\"M379,245 L368,168\" fill=\"none\" stroke-linejoin=\"round\" stroke-linecap=\"butt\" stroke=\"#555555\" stroke-dasharray=\"none\" stroke-width=\"2\" class=\"line scale_width scale_arrow seg:0.0\"/>\n",
       "  <path id=\"i118\" d=\"M440,168 L333,91\" fill=\"none\" stroke-linejoin=\"round\" stroke=\"#555555\" stroke-linecap=\"butt\" stroke-width=\"2\" stroke-dasharray=\"none\" class=\"line scale_width scale_arrow seg:0.0\"/>\n",
       "  <path id=\"i126\" d=\"M450,245 L500,168\" fill=\"none\" stroke-width=\"2\" stroke-dasharray=\"none\" stroke=\"#555555\" stroke-linecap=\"butt\" stroke-linejoin=\"round\" class=\"line scale_width scale_arrow seg:0.0\"/>\n",
       "  <path id=\"i134\" d=\"M490,245 L500,168\" fill=\"none\" stroke-linejoin=\"round\" stroke=\"#555555\" stroke-linecap=\"butt\" stroke-width=\"2\" stroke-dasharray=\"none\" class=\"line scale_width scale_arrow seg:0.0\"/>\n",
       "  <path id=\"i142\" d=\"M500,168 L333,91\" fill=\"none\" stroke-linejoin=\"round\" stroke-linecap=\"butt\" stroke=\"#555555\" stroke-dasharray=\"none\" stroke-width=\"2\" class=\"line scale_width scale_arrow seg:0.0\"/>\n",
       "  <path id=\"i150\" d=\"M526,245 L500,168\" fill=\"none\" stroke-linejoin=\"round\" stroke-dasharray=\"none\" stroke-width=\"2\" stroke-linecap=\"butt\" stroke=\"#555555\" class=\"line scale_width scale_arrow seg:0.0\"/>\n",
       "  <path id=\"i158\" d=\"M536,322 L607,245\" fill=\"none\" stroke-linecap=\"butt\" stroke=\"#555555\" stroke-dasharray=\"none\" stroke-width=\"2\" stroke-linejoin=\"round\" class=\"line scale_width scale_arrow seg:0.0\"/>\n",
       "  <path id=\"i166\" d=\"M607,245 L500,168\" fill=\"none\" stroke-linejoin=\"round\" stroke-linecap=\"butt\" stroke=\"#555555\" stroke-dasharray=\"none\" stroke-width=\"2\" class=\"line scale_width scale_arrow seg:0.0\"/>\n",
       "  <path id=\"i174\" d=\"M617,322 L607,245\" fill=\"none\" stroke-linejoin=\"round\" stroke-dasharray=\"none\" stroke-width=\"2\" stroke-linecap=\"butt\" stroke=\"#555555\" class=\"line scale_width scale_arrow seg:0.0\"/>\n",
       "  <path id=\"i182\" d=\"M627,168 L333,91\" fill=\"none\" stroke-linejoin=\"round\" stroke-linecap=\"butt\" stroke=\"#555555\" stroke-dasharray=\"none\" stroke-width=\"2\" class=\"line scale_width scale_arrow seg:0.0\"/>\n",
       "  <ellipse id=\"i1\" cx=\"28.5\" cy=\"15\" rx=\"3.5\" ry=\"3.5\" stroke-width=\"1\" stroke-dasharray=\"none\" stroke=\"#000000\" fill=\"#ff6666\" class=\"point node #1-grc seg:0.0\">\n",
       "   <desc>sentence: πάρεστι σιγὰς ἀτίμους ἀλοιδόρους ἄλγιστ' ἀφημένων ἰδεῖν.\n",
       "</desc>\n",
       "  </ellipse>\n",
       "  <ellipse id=\"i8\" cx=\"38.5\" cy=\"91.9\" rx=\"3.5\" ry=\"3.5\" stroke-width=\"1\" stroke-dasharray=\"none\" stroke=\"#000000\" fill=\"#ff6666\" class=\"point node #1-grc-n1 seg:0.0\"/>\n",
       "  <ellipse id=\"i17\" cx=\"48.5\" cy=\"245.7\" rx=\"3.5\" ry=\"3.5\" stroke-width=\"1\" stroke-dasharray=\"none\" stroke=\"#000000\" fill=\"#ff6666\" class=\"point node #1-grc-n2 seg:0.0\"/>\n",
       "  <ellipse id=\"i25\" cx=\"58.5\" cy=\"322.6\" rx=\"3.5\" ry=\"3.5\" stroke-width=\"1\" stroke-dasharray=\"none\" stroke=\"#000000\" fill=\"#ff6666\" class=\"point node #1-grc-n3 seg:0.0\"/>\n",
       "  <ellipse id=\"i34\" cx=\"121.5\" cy=\"322.6\" rx=\"3.5\" ry=\"3.5\" stroke-width=\"1\" stroke-dasharray=\"none\" stroke=\"#000000\" fill=\"#ff6666\" class=\"point node #1-grc-n4 seg:0.0\"/>\n",
       "  <ellipse id=\"i46\" cx=\"131.5\" cy=\"399.5\" rx=\"3.5\" ry=\"3.5\" stroke-width=\"1\" stroke-dasharray=\"none\" stroke=\"#000000\" fill=\"#ff6666\" class=\"point node #1-grc-n5 seg:0.0\"/>\n",
       "  <ellipse id=\"i57\" cx=\"208.5\" cy=\"322.6\" rx=\"3.5\" ry=\"3.5\" stroke-width=\"1\" stroke-dasharray=\"none\" stroke=\"#000000\" fill=\"#ff6666\" class=\"point node #1-grc-n6 seg:0.0\"/>\n",
       "  <ellipse id=\"i66\" cx=\"218.5\" cy=\"168.8\" rx=\"3.5\" ry=\"3.5\" stroke-width=\"1\" stroke-dasharray=\"none\" stroke=\"#000000\" fill=\"#ff6666\" class=\"point node #1-grc-n7 seg:0.0\"/>\n",
       "  <ellipse id=\"i74\" cx=\"263.5\" cy=\"168.8\" rx=\"3.5\" ry=\"3.5\" stroke-width=\"1\" stroke-dasharray=\"none\" stroke=\"#000000\" fill=\"#ff6666\" class=\"point node #1-grc-n8 seg:0.0\"/>\n",
       "  <ellipse id=\"i81\" cx=\"323.5\" cy=\"15\" rx=\"3.5\" ry=\"3.5\" stroke-width=\"1\" stroke-dasharray=\"none\" stroke=\"#000000\" fill=\"#ff6666\" class=\"point node #1-it seg:0.0\">\n",
       "   <desc>sentence: Vedi l'obbrobrio muto, nella doglia acutissima in disparte seduto.\n",
       "</desc>\n",
       "  </ellipse>\n",
       "  <ellipse id=\"i87\" cx=\"333.5\" cy=\"91.9\" rx=\"3.5\" ry=\"3.5\" stroke-width=\"1\" stroke-dasharray=\"none\" stroke=\"#000000\" fill=\"#ff6666\" class=\"point node #1-it-n1 seg:0.0\"/>\n",
       "  <ellipse id=\"i95\" cx=\"343.5\" cy=\"245.7\" rx=\"3.5\" ry=\"3.5\" stroke-width=\"1\" stroke-dasharray=\"none\" stroke=\"#000000\" fill=\"#ff6666\" class=\"point node #1-it-n2 seg:0.0\"/>\n",
       "  <ellipse id=\"i103\" cx=\"368.5\" cy=\"168.8\" rx=\"3.5\" ry=\"3.5\" stroke-width=\"1\" stroke-dasharray=\"none\" stroke=\"#000000\" fill=\"#ff6666\" class=\"point node #1-it-n3 seg:0.0\"/>\n",
       "  <ellipse id=\"i111\" cx=\"379.5\" cy=\"245.7\" rx=\"3.5\" ry=\"3.5\" stroke-width=\"1\" stroke-dasharray=\"none\" stroke=\"#000000\" fill=\"#ff6666\" class=\"point node #1-it-n4 seg:0.0\"/>\n",
       "  <ellipse id=\"i119\" cx=\"440.5\" cy=\"168.8\" rx=\"3.5\" ry=\"3.5\" stroke-width=\"1\" stroke-dasharray=\"none\" stroke=\"#000000\" fill=\"#ff6666\" class=\"point node #1-it-n5 seg:0.0\"/>\n",
       "  <ellipse id=\"i127\" cx=\"450.5\" cy=\"245.7\" rx=\"3.5\" ry=\"3.5\" stroke-width=\"1\" stroke-dasharray=\"none\" stroke=\"#000000\" fill=\"#ff6666\" class=\"point node #1-it-n6 seg:0.0\"/>\n",
       "  <ellipse id=\"i135\" cx=\"490.5\" cy=\"245.7\" rx=\"3.5\" ry=\"3.5\" stroke-width=\"1\" stroke-dasharray=\"none\" stroke=\"#000000\" fill=\"#ff6666\" class=\"point node #1-it-n7 seg:0.0\"/>\n",
       "  <ellipse id=\"i143\" cx=\"500.5\" cy=\"168.8\" rx=\"3.5\" ry=\"3.5\" stroke-width=\"1\" stroke-dasharray=\"none\" stroke=\"#000000\" fill=\"#ff6666\" class=\"point node #1-it-n8 seg:0.0\"/>\n",
       "  <ellipse id=\"i151\" cx=\"526.5\" cy=\"245.7\" rx=\"3.5\" ry=\"3.5\" stroke-width=\"1\" stroke-dasharray=\"none\" stroke=\"#000000\" fill=\"#ff6666\" class=\"point node #1-it-n9 seg:0.0\"/>\n",
       "  <ellipse id=\"i159\" cx=\"536.5\" cy=\"322.6\" rx=\"3.5\" ry=\"3.5\" stroke-width=\"1\" stroke-dasharray=\"none\" stroke=\"#000000\" fill=\"#ff6666\" class=\"point node #1-it-n10 seg:0.0\"/>\n",
       "  <ellipse id=\"i167\" cx=\"607.5\" cy=\"245.7\" rx=\"3.5\" ry=\"3.5\" stroke-width=\"1\" stroke-dasharray=\"none\" stroke=\"#000000\" fill=\"#ff6666\" class=\"point node #1-it-n11 seg:0.0\"/>\n",
       "  <ellipse id=\"i175\" cx=\"617.5\" cy=\"322.6\" rx=\"3.5\" ry=\"3.5\" stroke-width=\"1\" stroke-dasharray=\"none\" stroke=\"#000000\" fill=\"#ff6666\" class=\"point node #1-it-n12 seg:0.0\"/>\n",
       "  <ellipse id=\"i183\" cx=\"627.5\" cy=\"168.8\" rx=\"3.5\" ry=\"3.5\" stroke-width=\"1\" stroke-dasharray=\"none\" stroke=\"#000000\" fill=\"#ff6666\" class=\"point node #1-it-n13 seg:0.0\"/>\n",
       "  <rect id=\"i3\" x=\"24\" y=\"24\" width=\"41\" height=\"17\" stroke-width=\"0\" stroke-dasharray=\"none\" stroke=\"#ffffff\" fill=\"#ffffff\" fill-opacity=\"0.9\" stroke-opacity=\"0.9\" class=\"textbg seg:0.0\"/>\n",
       "  <rect id=\"i5\" x=\"24\" y=\"39\" width=\"84\" height=\"17\" stroke-width=\"0\" stroke-dasharray=\"none\" stroke=\"#ffffff\" fill=\"#ffffff\" fill-opacity=\"0.9\" stroke-opacity=\"0.9\" class=\"textbg seg:0.0\"/>\n",
       "  <rect id=\"i10\" x=\"34\" y=\"101\" width=\"54\" height=\"17\" stroke-width=\"0\" stroke-dasharray=\"none\" stroke=\"#ffffff\" fill=\"#ffffff\" fill-opacity=\"0.9\" stroke-opacity=\"0.9\" class=\"textbg seg:0.0\"/>\n",
       "  <rect id=\"i12\" x=\"34\" y=\"116\" width=\"28\" height=\"17\" stroke-width=\"0\" stroke-dasharray=\"none\" stroke=\"#ffffff\" fill=\"#ffffff\" fill-opacity=\"0.9\" stroke-opacity=\"0.9\" class=\"textbg seg:0.0\"/>\n",
       "  <rect id=\"i14\" x=\"34\" y=\"131\" width=\"37\" height=\"17\" stroke-width=\"0\" stroke-dasharray=\"none\" stroke=\"#ffffff\" fill=\"#ffffff\" fill-opacity=\"0.9\" stroke-opacity=\"0.9\" class=\"textbg seg:0.0\"/>\n",
       "  <rect id=\"i19\" x=\"44\" y=\"255\" width=\"39\" height=\"17\" stroke-width=\"0\" stroke-dasharray=\"none\" stroke=\"#ffffff\" fill=\"#ffffff\" fill-opacity=\"0.9\" stroke-opacity=\"0.9\" class=\"textbg seg:0.0\"/>\n",
       "  <rect id=\"i21\" x=\"44\" y=\"270\" width=\"22\" height=\"17\" stroke-width=\"0\" stroke-dasharray=\"none\" stroke=\"#ffffff\" fill=\"#ffffff\" fill-opacity=\"0.9\" stroke-opacity=\"0.9\" class=\"textbg seg:0.0\"/>\n",
       "  <rect id=\"i23\" x=\"44\" y=\"285\" width=\"42\" height=\"17\" stroke-width=\"0\" stroke-dasharray=\"none\" stroke=\"#ffffff\" fill=\"#ffffff\" fill-opacity=\"0.9\" stroke-opacity=\"0.9\" class=\"textbg seg:0.0\"/>\n",
       "  <rect id=\"i27\" x=\"54\" y=\"332\" width=\"55\" height=\"17\" stroke-width=\"0\" stroke-dasharray=\"none\" stroke=\"#ffffff\" fill=\"#ffffff\" fill-opacity=\"0.9\" stroke-opacity=\"0.9\" class=\"textbg seg:0.0\"/>\n",
       "  <rect id=\"i29\" x=\"54\" y=\"347\" width=\"39\" height=\"17\" stroke-width=\"0\" stroke-dasharray=\"none\" stroke=\"#ffffff\" fill=\"#ffffff\" fill-opacity=\"0.9\" stroke-opacity=\"0.9\" class=\"textbg seg:0.0\"/>\n",
       "  <rect id=\"i31\" x=\"54\" y=\"362\" width=\"25\" height=\"17\" stroke-width=\"0\" stroke-dasharray=\"none\" stroke=\"#ffffff\" fill=\"#ffffff\" fill-opacity=\"0.9\" stroke-opacity=\"0.9\" class=\"textbg seg:0.0\"/>\n",
       "  <rect id=\"i36\" x=\"117\" y=\"332\" width=\"79\" height=\"17\" stroke-width=\"0\" stroke-dasharray=\"none\" stroke=\"#ffffff\" fill=\"#ffffff\" fill-opacity=\"0.9\" stroke-opacity=\"0.9\" class=\"textbg seg:0.0\"/>\n",
       "  <rect id=\"i38\" x=\"117\" y=\"347\" width=\"39\" height=\"17\" stroke-width=\"0\" stroke-dasharray=\"none\" stroke=\"#ffffff\" fill=\"#ffffff\" fill-opacity=\"0.9\" stroke-opacity=\"0.9\" class=\"textbg seg:0.0\"/>\n",
       "  <rect id=\"i40\" x=\"117\" y=\"362\" width=\"25\" height=\"17\" stroke-width=\"0\" stroke-dasharray=\"none\" stroke=\"#ffffff\" fill=\"#ffffff\" fill-opacity=\"0.9\" stroke-opacity=\"0.9\" class=\"textbg seg:0.0\"/>\n",
       "  <rect id=\"i48\" x=\"127\" y=\"409\" width=\"51\" height=\"17\" stroke-width=\"0\" stroke-dasharray=\"none\" stroke=\"#ffffff\" fill=\"#ffffff\" fill-opacity=\"0.9\" stroke-opacity=\"0.9\" class=\"textbg seg:0.0\"/>\n",
       "  <rect id=\"i50\" x=\"127\" y=\"424\" width=\"22\" height=\"17\" stroke-width=\"0\" stroke-dasharray=\"none\" stroke=\"#ffffff\" fill=\"#ffffff\" fill-opacity=\"0.9\" stroke-opacity=\"0.9\" class=\"textbg seg:0.0\"/>\n",
       "  <rect id=\"i52\" x=\"127\" y=\"439\" width=\"25\" height=\"17\" stroke-width=\"0\" stroke-dasharray=\"none\" stroke=\"#ffffff\" fill=\"#ffffff\" fill-opacity=\"0.9\" stroke-opacity=\"0.9\" class=\"textbg seg:0.0\"/>\n",
       "  <rect id=\"i59\" x=\"204\" y=\"332\" width=\"68\" height=\"17\" stroke-width=\"0\" stroke-dasharray=\"none\" stroke=\"#ffffff\" fill=\"#ffffff\" fill-opacity=\"0.9\" stroke-opacity=\"0.9\" class=\"textbg seg:0.0\"/>\n",
       "  <rect id=\"i61\" x=\"204\" y=\"347\" width=\"39\" height=\"17\" stroke-width=\"0\" stroke-dasharray=\"none\" stroke=\"#ffffff\" fill=\"#ffffff\" fill-opacity=\"0.9\" stroke-opacity=\"0.9\" class=\"textbg seg:0.0\"/>\n",
       "  <rect id=\"i63\" x=\"204\" y=\"362\" width=\"37\" height=\"17\" stroke-width=\"0\" stroke-dasharray=\"none\" stroke=\"#ffffff\" fill=\"#ffffff\" fill-opacity=\"0.9\" stroke-opacity=\"0.9\" class=\"textbg seg:0.0\"/>\n",
       "  <rect id=\"i68\" x=\"214\" y=\"178\" width=\"32\" height=\"17\" stroke-width=\"0\" stroke-dasharray=\"none\" stroke=\"#ffffff\" fill=\"#ffffff\" fill-opacity=\"0.9\" stroke-opacity=\"0.9\" class=\"textbg seg:0.0\"/>\n",
       "  <rect id=\"i70\" x=\"214\" y=\"193\" width=\"36\" height=\"17\" stroke-width=\"0\" stroke-dasharray=\"none\" stroke=\"#ffffff\" fill=\"#ffffff\" fill-opacity=\"0.9\" stroke-opacity=\"0.9\" class=\"textbg seg:0.0\"/>\n",
       "  <rect id=\"i72\" x=\"214\" y=\"208\" width=\"37\" height=\"17\" stroke-width=\"0\" stroke-dasharray=\"none\" stroke=\"#ffffff\" fill=\"#ffffff\" fill-opacity=\"0.9\" stroke-opacity=\"0.9\" class=\"textbg seg:0.0\"/>\n",
       "  <rect id=\"i76\" x=\"259\" y=\"178\" width=\"6\" height=\"17\" stroke-width=\"0\" stroke-dasharray=\"none\" stroke=\"#ffffff\" fill=\"#ffffff\" fill-opacity=\"0.9\" stroke-opacity=\"0.9\" class=\"textbg seg:0.0\"/>\n",
       "  <rect id=\"i78\" x=\"259\" y=\"193\" width=\"38\" height=\"17\" stroke-width=\"0\" stroke-dasharray=\"none\" stroke=\"#ffffff\" fill=\"#ffffff\" fill-opacity=\"0.9\" stroke-opacity=\"0.9\" class=\"textbg seg:0.0\"/>\n",
       "  <rect id=\"i80\" x=\"259\" y=\"208\" width=\"47\" height=\"17\" stroke-width=\"0\" stroke-dasharray=\"none\" stroke=\"#ffffff\" fill=\"#ffffff\" fill-opacity=\"0.9\" stroke-opacity=\"0.9\" class=\"textbg seg:0.0\"/>\n",
       "  <rect id=\"i83\" x=\"319\" y=\"24\" width=\"41\" height=\"17\" stroke-width=\"0\" stroke-dasharray=\"none\" stroke=\"#ffffff\" fill=\"#ffffff\" fill-opacity=\"0.9\" stroke-opacity=\"0.9\" class=\"textbg seg:0.0\"/>\n",
       "  <rect id=\"i85\" x=\"319\" y=\"39\" width=\"86\" height=\"17\" stroke-width=\"0\" stroke-dasharray=\"none\" stroke=\"#ffffff\" fill=\"#ffffff\" fill-opacity=\"0.9\" stroke-opacity=\"0.9\" class=\"textbg seg:0.0\"/>\n",
       "  <rect id=\"i89\" x=\"329\" y=\"101\" width=\"31\" height=\"17\" stroke-width=\"0\" stroke-dasharray=\"none\" stroke=\"#ffffff\" fill=\"#ffffff\" fill-opacity=\"0.9\" stroke-opacity=\"0.9\" class=\"textbg seg:0.0\"/>\n",
       "  <rect id=\"i91\" x=\"329\" y=\"116\" width=\"28\" height=\"17\" stroke-width=\"0\" stroke-dasharray=\"none\" stroke=\"#ffffff\" fill=\"#ffffff\" fill-opacity=\"0.9\" stroke-opacity=\"0.9\" class=\"textbg seg:0.0\"/>\n",
       "  <rect id=\"i93\" x=\"329\" y=\"131\" width=\"37\" height=\"17\" stroke-width=\"0\" stroke-dasharray=\"none\" stroke=\"#ffffff\" fill=\"#ffffff\" fill-opacity=\"0.9\" stroke-opacity=\"0.9\" class=\"textbg seg:0.0\"/>\n",
       "  <rect id=\"i97\" x=\"339\" y=\"255\" width=\"10\" height=\"17\" stroke-width=\"0\" stroke-dasharray=\"none\" stroke=\"#ffffff\" fill=\"#ffffff\" fill-opacity=\"0.9\" stroke-opacity=\"0.9\" class=\"textbg seg:0.0\"/>\n",
       "  <rect id=\"i99\" x=\"339\" y=\"270\" width=\"23\" height=\"17\" stroke-width=\"0\" stroke-dasharray=\"none\" stroke=\"#ffffff\" fill=\"#ffffff\" fill-opacity=\"0.9\" stroke-opacity=\"0.9\" class=\"textbg seg:0.0\"/>\n",
       "  <rect id=\"i101\" x=\"339\" y=\"285\" width=\"28\" height=\"17\" stroke-width=\"0\" stroke-dasharray=\"none\" stroke=\"#ffffff\" fill=\"#ffffff\" fill-opacity=\"0.9\" stroke-opacity=\"0.9\" class=\"textbg seg:0.0\"/>\n",
       "  <rect id=\"i105\" x=\"364\" y=\"178\" width=\"64\" height=\"17\" stroke-width=\"0\" stroke-dasharray=\"none\" stroke=\"#ffffff\" fill=\"#ffffff\" fill-opacity=\"0.9\" stroke-opacity=\"0.9\" class=\"textbg seg:0.0\"/>\n",
       "  <rect id=\"i107\" x=\"364\" y=\"193\" width=\"22\" height=\"17\" stroke-width=\"0\" stroke-dasharray=\"none\" stroke=\"#ffffff\" fill=\"#ffffff\" fill-opacity=\"0.9\" stroke-opacity=\"0.9\" class=\"textbg seg:0.0\"/>\n",
       "  <rect id=\"i109\" x=\"364\" y=\"208\" width=\"42\" height=\"17\" stroke-width=\"0\" stroke-dasharray=\"none\" stroke=\"#ffffff\" fill=\"#ffffff\" fill-opacity=\"0.9\" stroke-opacity=\"0.9\" class=\"textbg seg:0.0\"/>\n",
       "  <rect id=\"i113\" x=\"375\" y=\"255\" width=\"36\" height=\"17\" stroke-width=\"0\" stroke-dasharray=\"none\" stroke=\"#ffffff\" fill=\"#ffffff\" fill-opacity=\"0.9\" stroke-opacity=\"0.9\" class=\"textbg seg:0.0\"/>\n",
       "  <rect id=\"i115\" x=\"375\" y=\"270\" width=\"39\" height=\"17\" stroke-width=\"0\" stroke-dasharray=\"none\" stroke=\"#ffffff\" fill=\"#ffffff\" fill-opacity=\"0.9\" stroke-opacity=\"0.9\" class=\"textbg seg:0.0\"/>\n",
       "  <rect id=\"i117\" x=\"375\" y=\"285\" width=\"25\" height=\"17\" stroke-width=\"0\" stroke-dasharray=\"none\" stroke=\"#ffffff\" fill=\"#ffffff\" fill-opacity=\"0.9\" stroke-opacity=\"0.9\" class=\"textbg seg:0.0\"/>\n",
       "  <rect id=\"i121\" x=\"436\" y=\"178\" width=\"6\" height=\"17\" stroke-width=\"0\" stroke-dasharray=\"none\" stroke=\"#ffffff\" fill=\"#ffffff\" fill-opacity=\"0.9\" stroke-opacity=\"0.9\" class=\"textbg seg:0.0\"/>\n",
       "  <rect id=\"i123\" x=\"436\" y=\"193\" width=\"38\" height=\"17\" stroke-width=\"0\" stroke-dasharray=\"none\" stroke=\"#ffffff\" fill=\"#ffffff\" fill-opacity=\"0.9\" stroke-opacity=\"0.9\" class=\"textbg seg:0.0\"/>\n",
       "  <rect id=\"i125\" x=\"436\" y=\"208\" width=\"47\" height=\"17\" stroke-width=\"0\" stroke-dasharray=\"none\" stroke=\"#ffffff\" fill=\"#ffffff\" fill-opacity=\"0.9\" stroke-opacity=\"0.9\" class=\"textbg seg:0.0\"/>\n",
       "  <rect id=\"i129\" x=\"446\" y=\"255\" width=\"14\" height=\"17\" stroke-width=\"0\" stroke-dasharray=\"none\" stroke=\"#ffffff\" fill=\"#ffffff\" fill-opacity=\"0.9\" stroke-opacity=\"0.9\" class=\"textbg seg:0.0\"/>\n",
       "  <rect id=\"i131\" x=\"446\" y=\"270\" width=\"32\" height=\"17\" stroke-width=\"0\" stroke-dasharray=\"none\" stroke=\"#ffffff\" fill=\"#ffffff\" fill-opacity=\"0.9\" stroke-opacity=\"0.9\" class=\"textbg seg:0.0\"/>\n",
       "  <rect id=\"i133\" x=\"446\" y=\"285\" width=\"29\" height=\"17\" stroke-width=\"0\" stroke-dasharray=\"none\" stroke=\"#ffffff\" fill=\"#ffffff\" fill-opacity=\"0.9\" stroke-opacity=\"0.9\" class=\"textbg seg:0.0\"/>\n",
       "  <rect id=\"i137\" x=\"486\" y=\"255\" width=\"14\" height=\"17\" stroke-width=\"0\" stroke-dasharray=\"none\" stroke=\"#ffffff\" fill=\"#ffffff\" fill-opacity=\"0.9\" stroke-opacity=\"0.9\" class=\"textbg seg:0.0\"/>\n",
       "  <rect id=\"i139\" x=\"486\" y=\"270\" width=\"23\" height=\"17\" stroke-width=\"0\" stroke-dasharray=\"none\" stroke=\"#ffffff\" fill=\"#ffffff\" fill-opacity=\"0.9\" stroke-opacity=\"0.9\" class=\"textbg seg:0.0\"/>\n",
       "  <rect id=\"i141\" x=\"486\" y=\"285\" width=\"28\" height=\"17\" stroke-width=\"0\" stroke-dasharray=\"none\" stroke=\"#ffffff\" fill=\"#ffffff\" fill-opacity=\"0.9\" stroke-opacity=\"0.9\" class=\"textbg seg:0.0\"/>\n",
       "  <rect id=\"i145\" x=\"496\" y=\"178\" width=\"42\" height=\"17\" stroke-width=\"0\" stroke-dasharray=\"none\" stroke=\"#ffffff\" fill=\"#ffffff\" fill-opacity=\"0.9\" stroke-opacity=\"0.9\" class=\"textbg seg:0.0\"/>\n",
       "  <rect id=\"i147\" x=\"496\" y=\"193\" width=\"22\" height=\"17\" stroke-width=\"0\" stroke-dasharray=\"none\" stroke=\"#ffffff\" fill=\"#ffffff\" fill-opacity=\"0.9\" stroke-opacity=\"0.9\" class=\"textbg seg:0.0\"/>\n",
       "  <rect id=\"i149\" x=\"496\" y=\"208\" width=\"42\" height=\"17\" stroke-width=\"0\" stroke-dasharray=\"none\" stroke=\"#ffffff\" fill=\"#ffffff\" fill-opacity=\"0.9\" stroke-opacity=\"0.9\" class=\"textbg seg:0.0\"/>\n",
       "  <rect id=\"i153\" x=\"522\" y=\"255\" width=\"73\" height=\"17\" stroke-width=\"0\" stroke-dasharray=\"none\" stroke=\"#ffffff\" fill=\"#ffffff\" fill-opacity=\"0.9\" stroke-opacity=\"0.9\" class=\"textbg seg:0.0\"/>\n",
       "  <rect id=\"i155\" x=\"522\" y=\"270\" width=\"39\" height=\"17\" stroke-width=\"0\" stroke-dasharray=\"none\" stroke=\"#ffffff\" fill=\"#ffffff\" fill-opacity=\"0.9\" stroke-opacity=\"0.9\" class=\"textbg seg:0.0\"/>\n",
       "  <rect id=\"i157\" x=\"522\" y=\"285\" width=\"25\" height=\"17\" stroke-width=\"0\" stroke-dasharray=\"none\" stroke=\"#ffffff\" fill=\"#ffffff\" fill-opacity=\"0.9\" stroke-opacity=\"0.9\" class=\"textbg seg:0.0\"/>\n",
       "  <rect id=\"i161\" x=\"532\" y=\"332\" width=\"14\" height=\"17\" stroke-width=\"0\" stroke-dasharray=\"none\" stroke=\"#ffffff\" fill=\"#ffffff\" fill-opacity=\"0.9\" stroke-opacity=\"0.9\" class=\"textbg seg:0.0\"/>\n",
       "  <rect id=\"i163\" x=\"532\" y=\"347\" width=\"32\" height=\"17\" stroke-width=\"0\" stroke-dasharray=\"none\" stroke=\"#ffffff\" fill=\"#ffffff\" fill-opacity=\"0.9\" stroke-opacity=\"0.9\" class=\"textbg seg:0.0\"/>\n",
       "  <rect id=\"i165\" x=\"532\" y=\"362\" width=\"29\" height=\"17\" stroke-width=\"0\" stroke-dasharray=\"none\" stroke=\"#ffffff\" fill=\"#ffffff\" fill-opacity=\"0.9\" stroke-opacity=\"0.9\" class=\"textbg seg:0.0\"/>\n",
       "  <rect id=\"i169\" x=\"603\" y=\"255\" width=\"55\" height=\"17\" stroke-width=\"0\" stroke-dasharray=\"none\" stroke=\"#ffffff\" fill=\"#ffffff\" fill-opacity=\"0.9\" stroke-opacity=\"0.9\" class=\"textbg seg:0.0\"/>\n",
       "  <rect id=\"i171\" x=\"603\" y=\"270\" width=\"39\" height=\"17\" stroke-width=\"0\" stroke-dasharray=\"none\" stroke=\"#ffffff\" fill=\"#ffffff\" fill-opacity=\"0.9\" stroke-opacity=\"0.9\" class=\"textbg seg:0.0\"/>\n",
       "  <rect id=\"i173\" x=\"603\" y=\"285\" width=\"42\" height=\"17\" stroke-width=\"0\" stroke-dasharray=\"none\" stroke=\"#ffffff\" fill=\"#ffffff\" fill-opacity=\"0.9\" stroke-opacity=\"0.9\" class=\"textbg seg:0.0\"/>\n",
       "  <rect id=\"i177\" x=\"613\" y=\"332\" width=\"46\" height=\"17\" stroke-width=\"0\" stroke-dasharray=\"none\" stroke=\"#ffffff\" fill=\"#ffffff\" fill-opacity=\"0.9\" stroke-opacity=\"0.9\" class=\"textbg seg:0.0\"/>\n",
       "  <rect id=\"i179\" x=\"613\" y=\"347\" width=\"39\" height=\"17\" stroke-width=\"0\" stroke-dasharray=\"none\" stroke=\"#ffffff\" fill=\"#ffffff\" fill-opacity=\"0.9\" stroke-opacity=\"0.9\" class=\"textbg seg:0.0\"/>\n",
       "  <rect id=\"i181\" x=\"613\" y=\"362\" width=\"25\" height=\"17\" stroke-width=\"0\" stroke-dasharray=\"none\" stroke=\"#ffffff\" fill=\"#ffffff\" fill-opacity=\"0.9\" stroke-opacity=\"0.9\" class=\"textbg seg:0.0\"/>\n",
       "  <rect id=\"i185\" x=\"623\" y=\"178\" width=\"6\" height=\"17\" stroke-width=\"0\" stroke-dasharray=\"none\" stroke=\"#ffffff\" fill=\"#ffffff\" fill-opacity=\"0.9\" stroke-opacity=\"0.9\" class=\"textbg seg:0.0\"/>\n",
       "  <rect id=\"i187\" x=\"623\" y=\"193\" width=\"38\" height=\"17\" stroke-width=\"0\" stroke-dasharray=\"none\" stroke=\"#ffffff\" fill=\"#ffffff\" fill-opacity=\"0.9\" stroke-opacity=\"0.9\" class=\"textbg seg:0.0\"/>\n",
       "  <rect id=\"i189\" x=\"623\" y=\"208\" width=\"47\" height=\"17\" stroke-width=\"0\" stroke-dasharray=\"none\" stroke=\"#ffffff\" fill=\"#ffffff\" fill-opacity=\"0.9\" stroke-opacity=\"0.9\" class=\"textbg seg:0.0\"/>\n",
       "  <text x=\"25\" y=\"37\" id=\"i2\" text-anchor=\"start\" font-family=\"DejaVu Sans\" font-weight=\"normal\" font-size=\"13\" font-slant=\"roman\" fill=\"#000000\" width=\"0\" class=\"plaintext text_item seg:0.0\">a-tree</text>\n",
       "  <text x=\"25\" y=\"52\" id=\"i4\" text-anchor=\"start\" font-family=\"DejaVu Sans\" font-weight=\"normal\" font-size=\"13\" font-slant=\"roman\" fill=\"#000000\" width=\"0\" class=\"plaintext text_item seg:0.0\">zone=grc_tb</text>\n",
       "  <text x=\"35\" y=\"114\" id=\"i9\" text-anchor=\"start\" font-family=\"DejaVu Sans\" font-weight=\"normal\" font-size=\"13\" font-slant=\"roman\" fill=\"#000000\" width=\"0\" class=\"plaintext text_item seg:0.0\">πάρεστι</text>\n",
       "  <text x=\"35\" y=\"129\" id=\"i11\" text-anchor=\"start\" font-family=\"DejaVu Sans\" font-weight=\"normal\" font-size=\"13\" font-slant=\"roman\" fill=\"#00008b\" width=\"0\" class=\"plaintext text_item seg:0.0\">root</text>\n",
       "  <text x=\"35\" y=\"144\" id=\"i13\" text-anchor=\"start\" font-family=\"DejaVu Sans\" font-weight=\"normal\" font-size=\"13\" font-slant=\"roman\" fill=\"#004048\" width=\"0\" class=\"plaintext text_item seg:0.0\">VERB</text>\n",
       "  <text x=\"45\" y=\"268\" id=\"i18\" text-anchor=\"start\" font-family=\"DejaVu Sans\" font-weight=\"normal\" font-size=\"13\" font-slant=\"roman\" fill=\"#000000\" width=\"0\" class=\"plaintext text_item seg:0.0\">σιγὰς</text>\n",
       "  <text x=\"45\" y=\"283\" id=\"i20\" text-anchor=\"start\" font-family=\"DejaVu Sans\" font-weight=\"normal\" font-size=\"13\" font-slant=\"roman\" fill=\"#00008b\" width=\"0\" class=\"plaintext text_item seg:0.0\">obj</text>\n",
       "  <text x=\"45\" y=\"298\" id=\"i22\" text-anchor=\"start\" font-family=\"DejaVu Sans\" font-weight=\"normal\" font-size=\"13\" font-slant=\"roman\" fill=\"#004048\" width=\"0\" class=\"plaintext text_item seg:0.0\">NOUN</text>\n",
       "  <text x=\"55\" y=\"345\" id=\"i26\" text-anchor=\"start\" font-family=\"DejaVu Sans\" font-weight=\"normal\" font-size=\"13\" font-slant=\"roman\" fill=\"#000000\" width=\"0\" class=\"plaintext text_item seg:0.0\">ἀτίμους</text>\n",
       "  <text x=\"55\" y=\"360\" id=\"i28\" text-anchor=\"start\" font-family=\"DejaVu Sans\" font-weight=\"normal\" font-size=\"13\" font-slant=\"roman\" fill=\"#00008b\" width=\"0\" class=\"plaintext text_item seg:0.0\">amod</text>\n",
       "  <text x=\"55\" y=\"375\" id=\"i30\" text-anchor=\"start\" font-family=\"DejaVu Sans\" font-weight=\"normal\" font-size=\"13\" font-slant=\"roman\" fill=\"#004048\" width=\"0\" class=\"plaintext text_item seg:0.0\">ADJ</text>\n",
       "  <text x=\"118\" y=\"345\" id=\"i35\" text-anchor=\"start\" font-family=\"DejaVu Sans\" font-weight=\"normal\" font-size=\"13\" font-slant=\"roman\" fill=\"#000000\" width=\"0\" class=\"plaintext text_item seg:0.0\">ἀλοιδόρους</text>\n",
       "  <text x=\"118\" y=\"360\" id=\"i37\" text-anchor=\"start\" font-family=\"DejaVu Sans\" font-weight=\"normal\" font-size=\"13\" font-slant=\"roman\" fill=\"#00008b\" width=\"0\" class=\"plaintext text_item seg:0.0\">amod</text>\n",
       "  <text x=\"118\" y=\"375\" id=\"i39\" text-anchor=\"start\" font-family=\"DejaVu Sans\" font-weight=\"normal\" font-size=\"13\" font-slant=\"roman\" fill=\"#004048\" width=\"0\" class=\"plaintext text_item seg:0.0\">ADJ</text>\n",
       "  <text x=\"128\" y=\"422\" id=\"i47\" text-anchor=\"start\" font-family=\"DejaVu Sans\" font-weight=\"normal\" font-size=\"13\" font-slant=\"roman\" fill=\"#000000\" width=\"0\" class=\"plaintext text_item seg:0.0\">ἄλγιστ'</text>\n",
       "  <text x=\"128\" y=\"437\" id=\"i49\" text-anchor=\"start\" font-family=\"DejaVu Sans\" font-weight=\"normal\" font-size=\"13\" font-slant=\"roman\" fill=\"#00008b\" width=\"0\" class=\"plaintext text_item seg:0.0\">obl</text>\n",
       "  <text x=\"128\" y=\"452\" id=\"i51\" text-anchor=\"start\" font-family=\"DejaVu Sans\" font-weight=\"normal\" font-size=\"13\" font-slant=\"roman\" fill=\"#004048\" width=\"0\" class=\"plaintext text_item seg:0.0\">ADJ</text>\n",
       "  <text x=\"205\" y=\"345\" id=\"i58\" text-anchor=\"start\" font-family=\"DejaVu Sans\" font-weight=\"normal\" font-size=\"13\" font-slant=\"roman\" fill=\"#000000\" width=\"0\" class=\"plaintext text_item seg:0.0\">ἀφημένων</text>\n",
       "  <text x=\"205\" y=\"360\" id=\"i60\" text-anchor=\"start\" font-family=\"DejaVu Sans\" font-weight=\"normal\" font-size=\"13\" font-slant=\"roman\" fill=\"#00008b\" width=\"0\" class=\"plaintext text_item seg:0.0\">nmod</text>\n",
       "  <text x=\"205\" y=\"375\" id=\"i62\" text-anchor=\"start\" font-family=\"DejaVu Sans\" font-weight=\"normal\" font-size=\"13\" font-slant=\"roman\" fill=\"#004048\" width=\"0\" class=\"plaintext text_item seg:0.0\">VERB</text>\n",
       "  <text x=\"215\" y=\"191\" id=\"i67\" text-anchor=\"start\" font-family=\"DejaVu Sans\" font-weight=\"normal\" font-size=\"13\" font-slant=\"roman\" fill=\"#000000\" width=\"0\" class=\"plaintext text_item seg:0.0\">ἰδεῖν</text>\n",
       "  <text x=\"215\" y=\"206\" id=\"i69\" text-anchor=\"start\" font-family=\"DejaVu Sans\" font-weight=\"normal\" font-size=\"13\" font-slant=\"roman\" fill=\"#00008b\" width=\"0\" class=\"plaintext text_item seg:0.0\">csubj</text>\n",
       "  <text x=\"215\" y=\"221\" id=\"i71\" text-anchor=\"start\" font-family=\"DejaVu Sans\" font-weight=\"normal\" font-size=\"13\" font-slant=\"roman\" fill=\"#004048\" width=\"0\" class=\"plaintext text_item seg:0.0\">VERB</text>\n",
       "  <text x=\"260\" y=\"191\" id=\"i75\" text-anchor=\"start\" font-family=\"DejaVu Sans\" font-weight=\"normal\" font-size=\"13\" font-slant=\"roman\" fill=\"#000000\" width=\"0\" class=\"plaintext text_item seg:0.0\">.</text>\n",
       "  <text x=\"260\" y=\"206\" id=\"i77\" text-anchor=\"start\" font-family=\"DejaVu Sans\" font-weight=\"normal\" font-size=\"13\" font-slant=\"roman\" fill=\"#00008b\" width=\"0\" class=\"plaintext text_item seg:0.0\">punct</text>\n",
       "  <text x=\"260\" y=\"221\" id=\"i79\" text-anchor=\"start\" font-family=\"DejaVu Sans\" font-weight=\"normal\" font-size=\"13\" font-slant=\"roman\" fill=\"#004048\" width=\"0\" class=\"plaintext text_item seg:0.0\">PUNCT</text>\n",
       "  <text x=\"320\" y=\"37\" id=\"i82\" text-anchor=\"start\" font-family=\"DejaVu Sans\" font-weight=\"normal\" font-size=\"13\" font-slant=\"roman\" fill=\"#000000\" width=\"0\" class=\"plaintext text_item seg:0.0\">a-tree</text>\n",
       "  <text x=\"320\" y=\"52\" id=\"i84\" text-anchor=\"start\" font-family=\"DejaVu Sans\" font-weight=\"normal\" font-size=\"13\" font-slant=\"roman\" fill=\"#000000\" width=\"0\" class=\"plaintext text_item seg:0.0\">zone=it_rom</text>\n",
       "  <text x=\"330\" y=\"114\" id=\"i88\" text-anchor=\"start\" font-family=\"DejaVu Sans\" font-weight=\"normal\" font-size=\"13\" font-slant=\"roman\" fill=\"#000000\" width=\"0\" class=\"plaintext text_item seg:0.0\">Vedi</text>\n",
       "  <text x=\"330\" y=\"129\" id=\"i90\" text-anchor=\"start\" font-family=\"DejaVu Sans\" font-weight=\"normal\" font-size=\"13\" font-slant=\"roman\" fill=\"#00008b\" width=\"0\" class=\"plaintext text_item seg:0.0\">root</text>\n",
       "  <text x=\"330\" y=\"144\" id=\"i92\" text-anchor=\"start\" font-family=\"DejaVu Sans\" font-weight=\"normal\" font-size=\"13\" font-slant=\"roman\" fill=\"#004048\" width=\"0\" class=\"plaintext text_item seg:0.0\">VERB</text>\n",
       "  <text x=\"340\" y=\"268\" id=\"i96\" text-anchor=\"start\" font-family=\"DejaVu Sans\" font-weight=\"normal\" font-size=\"13\" font-slant=\"roman\" fill=\"#000000\" width=\"0\" class=\"plaintext text_item seg:0.0\">l'</text>\n",
       "  <text x=\"340\" y=\"283\" id=\"i98\" text-anchor=\"start\" font-family=\"DejaVu Sans\" font-weight=\"normal\" font-size=\"13\" font-slant=\"roman\" fill=\"#00008b\" width=\"0\" class=\"plaintext text_item seg:0.0\">det</text>\n",
       "  <text x=\"340\" y=\"298\" id=\"i100\" text-anchor=\"start\" font-family=\"DejaVu Sans\" font-weight=\"normal\" font-size=\"13\" font-slant=\"roman\" fill=\"#004048\" width=\"0\" class=\"plaintext text_item seg:0.0\">DET</text>\n",
       "  <text x=\"365\" y=\"191\" id=\"i104\" text-anchor=\"start\" font-family=\"DejaVu Sans\" font-weight=\"normal\" font-size=\"13\" font-slant=\"roman\" fill=\"#000000\" width=\"0\" class=\"plaintext text_item seg:0.0\">obbrobrio</text>\n",
       "  <text x=\"365\" y=\"206\" id=\"i106\" text-anchor=\"start\" font-family=\"DejaVu Sans\" font-weight=\"normal\" font-size=\"13\" font-slant=\"roman\" fill=\"#00008b\" width=\"0\" class=\"plaintext text_item seg:0.0\">obj</text>\n",
       "  <text x=\"365\" y=\"221\" id=\"i108\" text-anchor=\"start\" font-family=\"DejaVu Sans\" font-weight=\"normal\" font-size=\"13\" font-slant=\"roman\" fill=\"#004048\" width=\"0\" class=\"plaintext text_item seg:0.0\">NOUN</text>\n",
       "  <text x=\"376\" y=\"268\" id=\"i112\" text-anchor=\"start\" font-family=\"DejaVu Sans\" font-weight=\"normal\" font-size=\"13\" font-slant=\"roman\" fill=\"#000000\" width=\"0\" class=\"plaintext text_item seg:0.0\">muto</text>\n",
       "  <text x=\"376\" y=\"283\" id=\"i114\" text-anchor=\"start\" font-family=\"DejaVu Sans\" font-weight=\"normal\" font-size=\"13\" font-slant=\"roman\" fill=\"#00008b\" width=\"0\" class=\"plaintext text_item seg:0.0\">amod</text>\n",
       "  <text x=\"376\" y=\"298\" id=\"i116\" text-anchor=\"start\" font-family=\"DejaVu Sans\" font-weight=\"normal\" font-size=\"13\" font-slant=\"roman\" fill=\"#004048\" width=\"0\" class=\"plaintext text_item seg:0.0\">ADJ</text>\n",
       "  <text x=\"437\" y=\"191\" id=\"i120\" text-anchor=\"start\" font-family=\"DejaVu Sans\" font-weight=\"normal\" font-size=\"13\" font-slant=\"roman\" fill=\"#000000\" width=\"0\" class=\"plaintext text_item seg:0.0\">,</text>\n",
       "  <text x=\"437\" y=\"206\" id=\"i122\" text-anchor=\"start\" font-family=\"DejaVu Sans\" font-weight=\"normal\" font-size=\"13\" font-slant=\"roman\" fill=\"#00008b\" width=\"0\" class=\"plaintext text_item seg:0.0\">punct</text>\n",
       "  <text x=\"437\" y=\"221\" id=\"i124\" text-anchor=\"start\" font-family=\"DejaVu Sans\" font-weight=\"normal\" font-size=\"13\" font-slant=\"roman\" fill=\"#004048\" width=\"0\" class=\"plaintext text_item seg:0.0\">PUNCT</text>\n",
       "  <text x=\"447\" y=\"268\" id=\"i128\" text-anchor=\"start\" font-family=\"DejaVu Sans\" font-weight=\"normal\" font-size=\"13\" font-slant=\"roman\" fill=\"#000000\" width=\"0\" class=\"plaintext text_item seg:0.0\">in</text>\n",
       "  <text x=\"447\" y=\"283\" id=\"i130\" text-anchor=\"start\" font-family=\"DejaVu Sans\" font-weight=\"normal\" font-size=\"13\" font-slant=\"roman\" fill=\"#00008b\" width=\"0\" class=\"plaintext text_item seg:0.0\">case</text>\n",
       "  <text x=\"447\" y=\"298\" id=\"i132\" text-anchor=\"start\" font-family=\"DejaVu Sans\" font-weight=\"normal\" font-size=\"13\" font-slant=\"roman\" fill=\"#004048\" width=\"0\" class=\"plaintext text_item seg:0.0\">ADP</text>\n",
       "  <text x=\"487\" y=\"268\" id=\"i136\" text-anchor=\"start\" font-family=\"DejaVu Sans\" font-weight=\"normal\" font-size=\"13\" font-slant=\"roman\" fill=\"#000000\" width=\"0\" class=\"plaintext text_item seg:0.0\">la</text>\n",
       "  <text x=\"487\" y=\"283\" id=\"i138\" text-anchor=\"start\" font-family=\"DejaVu Sans\" font-weight=\"normal\" font-size=\"13\" font-slant=\"roman\" fill=\"#00008b\" width=\"0\" class=\"plaintext text_item seg:0.0\">det</text>\n",
       "  <text x=\"487\" y=\"298\" id=\"i140\" text-anchor=\"start\" font-family=\"DejaVu Sans\" font-weight=\"normal\" font-size=\"13\" font-slant=\"roman\" fill=\"#004048\" width=\"0\" class=\"plaintext text_item seg:0.0\">DET</text>\n",
       "  <text x=\"497\" y=\"191\" id=\"i144\" text-anchor=\"start\" font-family=\"DejaVu Sans\" font-weight=\"normal\" font-size=\"13\" font-slant=\"roman\" fill=\"#000000\" width=\"0\" class=\"plaintext text_item seg:0.0\">doglia</text>\n",
       "  <text x=\"497\" y=\"206\" id=\"i146\" text-anchor=\"start\" font-family=\"DejaVu Sans\" font-weight=\"normal\" font-size=\"13\" font-slant=\"roman\" fill=\"#00008b\" width=\"0\" class=\"plaintext text_item seg:0.0\">obl</text>\n",
       "  <text x=\"497\" y=\"221\" id=\"i148\" text-anchor=\"start\" font-family=\"DejaVu Sans\" font-weight=\"normal\" font-size=\"13\" font-slant=\"roman\" fill=\"#004048\" width=\"0\" class=\"plaintext text_item seg:0.0\">NOUN</text>\n",
       "  <text x=\"523\" y=\"268\" id=\"i152\" text-anchor=\"start\" font-family=\"DejaVu Sans\" font-weight=\"normal\" font-size=\"13\" font-slant=\"roman\" fill=\"#000000\" width=\"0\" class=\"plaintext text_item seg:0.0\">acutissima</text>\n",
       "  <text x=\"523\" y=\"283\" id=\"i154\" text-anchor=\"start\" font-family=\"DejaVu Sans\" font-weight=\"normal\" font-size=\"13\" font-slant=\"roman\" fill=\"#00008b\" width=\"0\" class=\"plaintext text_item seg:0.0\">amod</text>\n",
       "  <text x=\"523\" y=\"298\" id=\"i156\" text-anchor=\"start\" font-family=\"DejaVu Sans\" font-weight=\"normal\" font-size=\"13\" font-slant=\"roman\" fill=\"#004048\" width=\"0\" class=\"plaintext text_item seg:0.0\">ADJ</text>\n",
       "  <text x=\"533\" y=\"345\" id=\"i160\" text-anchor=\"start\" font-family=\"DejaVu Sans\" font-weight=\"normal\" font-size=\"13\" font-slant=\"roman\" fill=\"#000000\" width=\"0\" class=\"plaintext text_item seg:0.0\">in</text>\n",
       "  <text x=\"533\" y=\"360\" id=\"i162\" text-anchor=\"start\" font-family=\"DejaVu Sans\" font-weight=\"normal\" font-size=\"13\" font-slant=\"roman\" fill=\"#00008b\" width=\"0\" class=\"plaintext text_item seg:0.0\">case</text>\n",
       "  <text x=\"533\" y=\"375\" id=\"i164\" text-anchor=\"start\" font-family=\"DejaVu Sans\" font-weight=\"normal\" font-size=\"13\" font-slant=\"roman\" fill=\"#004048\" width=\"0\" class=\"plaintext text_item seg:0.0\">ADP</text>\n",
       "  <text x=\"604\" y=\"268\" id=\"i168\" text-anchor=\"start\" font-family=\"DejaVu Sans\" font-weight=\"normal\" font-size=\"13\" font-slant=\"roman\" fill=\"#000000\" width=\"0\" class=\"plaintext text_item seg:0.0\">disparte</text>\n",
       "  <text x=\"604\" y=\"283\" id=\"i170\" text-anchor=\"start\" font-family=\"DejaVu Sans\" font-weight=\"normal\" font-size=\"13\" font-slant=\"roman\" fill=\"#00008b\" width=\"0\" class=\"plaintext text_item seg:0.0\">nmod</text>\n",
       "  <text x=\"604\" y=\"298\" id=\"i172\" text-anchor=\"start\" font-family=\"DejaVu Sans\" font-weight=\"normal\" font-size=\"13\" font-slant=\"roman\" fill=\"#004048\" width=\"0\" class=\"plaintext text_item seg:0.0\">NOUN</text>\n",
       "  <text x=\"614\" y=\"345\" id=\"i176\" text-anchor=\"start\" font-family=\"DejaVu Sans\" font-weight=\"normal\" font-size=\"13\" font-slant=\"roman\" fill=\"#000000\" width=\"0\" class=\"plaintext text_item seg:0.0\">seduto</text>\n",
       "  <text x=\"614\" y=\"360\" id=\"i178\" text-anchor=\"start\" font-family=\"DejaVu Sans\" font-weight=\"normal\" font-size=\"13\" font-slant=\"roman\" fill=\"#00008b\" width=\"0\" class=\"plaintext text_item seg:0.0\">amod</text>\n",
       "  <text x=\"614\" y=\"375\" id=\"i180\" text-anchor=\"start\" font-family=\"DejaVu Sans\" font-weight=\"normal\" font-size=\"13\" font-slant=\"roman\" fill=\"#004048\" width=\"0\" class=\"plaintext text_item seg:0.0\">ADJ</text>\n",
       "  <text x=\"624\" y=\"191\" id=\"i184\" text-anchor=\"start\" font-family=\"DejaVu Sans\" font-weight=\"normal\" font-size=\"13\" font-slant=\"roman\" fill=\"#000000\" width=\"0\" class=\"plaintext text_item seg:0.0\">.</text>\n",
       "  <text x=\"624\" y=\"206\" id=\"i186\" text-anchor=\"start\" font-family=\"DejaVu Sans\" font-weight=\"normal\" font-size=\"13\" font-slant=\"roman\" fill=\"#00008b\" width=\"0\" class=\"plaintext text_item seg:0.0\">punct</text>\n",
       "  <text x=\"624\" y=\"221\" id=\"i188\" text-anchor=\"start\" font-family=\"DejaVu Sans\" font-weight=\"normal\" font-size=\"13\" font-slant=\"roman\" fill=\"#004048\" width=\"0\" class=\"plaintext text_item seg:0.0\">PUNCT</text>\n",
       "  <text x=\"0\" y=\"486.3\" id=\"i190\" text-anchor=\"start\" font-family=\"DejaVu Sans\" font-weight=\"normal\" font-size=\"13\" font-slant=\"roman\" fill=\"#000000\" width=\"0\" class=\"vline text_item\">[it_rom] Vedi l' obbrobrio muto, in la doglia acutissima in disparte seduto.</text>\n",
       "  <text x=\"0\" y=\"501.6\" id=\"i191\" text-anchor=\"start\" font-family=\"DejaVu Sans\" font-weight=\"normal\" font-size=\"13\" font-slant=\"roman\" fill=\"#000000\" width=\"0\" class=\"vline text_item\">[grc_tb] πάρεστι σιγὰς ἀτίμους ἀλοιδόρους ἄλγιστ' ἀφημένων ἰδεῖν.</text>\n",
       "  <text x=\"0\" y=\"516.9\" id=\"i192\" text-anchor=\"start\" font-family=\"DejaVu Sans\" font-weight=\"normal\" font-size=\"13\" font-slant=\"roman\" fill=\"#000000\" width=\"0\" class=\"vline text_item\"/>\n",
       " </g>\n",
       "</svg>"
      ],
      "text/plain": [
       "<IPython.core.display.SVG object>"
      ]
     },
     "metadata": {},
     "output_type": "display_data"
    }
   ],
   "source": [
    "display(SVG('data/ag_transl.svg'))"
   ]
  },
  {
   "cell_type": "markdown",
   "id": "2fe5c023-7a0a-4dda-8ac9-eb9a7d66e4bb",
   "metadata": {},
   "source": [
    "That's not bad at all! It would be even better if we could get the same alignment arrow to toggle even in the HTML export... But unfortunately the JS library [seems](https://github.com/ufal/js-treex-view/issues/1) unable to handle non-dependency relations between nodes, and the package is not maintained anymore. More savy JS programmers may find cool solutions... ;-)"
   ]
  }
 ],
 "metadata": {
  "kernelspec": {
   "display_name": "Python 3",
   "language": "python",
   "name": "python3"
  },
  "language_info": {
   "codemirror_mode": {
    "name": "ipython",
    "version": 3
   },
   "file_extension": ".py",
   "mimetype": "text/x-python",
   "name": "python",
   "nbconvert_exporter": "python",
   "pygments_lexer": "ipython3",
   "version": "3.8.5"
  }
 },
 "nbformat": 4,
 "nbformat_minor": 5
}
