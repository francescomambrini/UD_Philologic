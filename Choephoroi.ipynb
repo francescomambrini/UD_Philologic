{
 "cells": [
  {
   "cell_type": "markdown",
   "id": "42865410-dd26-4aa8-820c-ec722fa7e2a6",
   "metadata": {},
   "source": [
    "# Daphne: Choephoroi"
   ]
  },
  {
   "cell_type": "markdown",
   "id": "23f132e0-e9d4-44ec-893c-bdc344d126d1",
   "metadata": {},
   "source": [
    "Companion notebook to illustrate the ongoing revision of the Treebank for the [Daphne UD]() version."
   ]
  },
  {
   "cell_type": "markdown",
   "id": "5974bc86-8a79-423b-9223-38b2d4a60955",
   "metadata": {},
   "source": [
    "## Useful resources"
   ]
  },
  {
   "cell_type": "markdown",
   "id": "8780c1df-e90e-4785-aa61-3d2d6ae468fa",
   "metadata": {},
   "source": [
    "As it is known, *Choephoroi* survive only in a single Medieval manuscript (and copies of it). By far, then, the most fascinating resource available online today is the digitized version of this manuscript, the Laurentianus 32.9 in Florence. This manuscript is abbreviated as **M** in the apparatus of Aeschylus, **L** in those of Sophocles.\n",
    "\n",
    "An index of the pages of the Laur.32.9 can be found in the [Catalogue](https://play.google.com/books/reader?id=T-VVAAAAcAAJ&hl=en&pg=GBS.RA3-PA131) by Ang. Mar. Bandinius, col. 133. From there we learn that the *Cho.* starts at page 136. We can then use the digitized images of the Biblioteca Laurentiana to read the pages:\n",
    "\n",
    "* http://mss.bmlonline.it/s.aspx?Id=AWOIscHBI1A4r7GxMJ4Q&c=II.%20Aeschyli%20tragoediae%20VII#/oro/279\n",
    "\n",
    "This is unbelievable!"
   ]
  },
  {
   "cell_type": "markdown",
   "id": "35b44ccc-fe0e-4a3b-8751-7850bffb962b",
   "metadata": {},
   "source": [
    "## Imports and definitions"
   ]
  },
  {
   "cell_type": "markdown",
   "id": "276a9c65-0e7b-4739-b0a5-08a741757850",
   "metadata": {},
   "source": [
    "We import the code that we need and we create classes and functions that will be used in the notebook"
   ]
  },
  {
   "cell_type": "code",
   "execution_count": 67,
   "id": "5a4751bc-a0ed-40d2-847a-9d6eb0e8cbee",
   "metadata": {},
   "outputs": [],
   "source": [
    "from udapi.core.document import Document\n",
    "from udapi.block.write.html import Html as HtmlWriter\n",
    "import io\n",
    "import contextlib"
   ]
  },
  {
   "cell_type": "code",
   "execution_count": 68,
   "id": "f077c0fd-fe36-4391-b507-235fead86b8f",
   "metadata": {},
   "outputs": [],
   "source": [
    "from IPython.core.display import display, HTML, SVG"
   ]
  },
  {
   "cell_type": "code",
   "execution_count": 69,
   "id": "dfc84852-75b1-463e-aab9-eac339d8b3fb",
   "metadata": {},
   "outputs": [],
   "source": [
    "tbpath = '/home/francesco/Documents/nextcloud/Documents/Projects/katholou_manual/daphne/choephori/tlg0085.tlg006.daphne_tb-grc1.conllu'"
   ]
  },
  {
   "cell_type": "code",
   "execution_count": 81,
   "id": "1a10936e-8c9e-45f5-836e-73530d7e344a",
   "metadata": {},
   "outputs": [],
   "source": [
    "doc = Document()\n",
    "doc.load_conllu(tbpath)"
   ]
  },
  {
   "cell_type": "code",
   "execution_count": 82,
   "id": "d76db592-28ee-4964-b761-fffcda9dcf19",
   "metadata": {},
   "outputs": [
    {
     "name": "stdout",
     "output_type": "stream",
     "text": [
      "# sent_id = 16\n",
      "# text = πρέπει παρηὶς φοίνισσ' ἀμυγμοῖς ὄνυχος ἄλοκι νεοτόμῳ·\n",
      "─┮\n",
      " ╰─┮ \u001b[33mπρέπει\u001b[0m \u001b[31mVERB\u001b[0m \u001b[34mroot\u001b[0m\n",
      "   ┡─┮ \u001b[33mπαρηὶς\u001b[0m \u001b[31mNOUN\u001b[0m \u001b[34mnsubj\u001b[0m\n",
      "   │ ╰─╼ \u001b[33mφοίνισσ'\u001b[0m \u001b[31mADJ\u001b[0m \u001b[34mamod\u001b[0m\n",
      "   ┡─┮ \u001b[33mἀμυγμοῖς\u001b[0m \u001b[31mNOUN\u001b[0m \u001b[34mobl\u001b[0m\n",
      "   │ │ ╭─╼ \u001b[33mὄνυχος\u001b[0m \u001b[31mNOUN\u001b[0m \u001b[34mnmod\u001b[0m\n",
      "   │ ╰─┾ \u001b[33mἄλοκι\u001b[0m \u001b[31mNOUN\u001b[0m \u001b[34mappos\u001b[0m\n",
      "   │   ╰─╼ \u001b[33mνεοτόμῳ\u001b[0m \u001b[31mADJ\u001b[0m \u001b[34mamod\u001b[0m\n",
      "   ╰─╼ \u001b[33m·\u001b[0m \u001b[31mPUNCT\u001b[0m \u001b[34mpunct\u001b[0m\n",
      "\n"
     ]
    }
   ],
   "source": [
    "sent1 = doc.bundles[15].get_tree()\n",
    "sent2 = doc.bundles[16].get_tree()\n",
    "sent3 = doc.bundles[19].get_tree()\n",
    "sent.draw()"
   ]
  },
  {
   "cell_type": "code",
   "execution_count": 84,
   "id": "d659dc84-fa93-49ff-b234-2412c06bbbf0",
   "metadata": {},
   "outputs": [],
   "source": [
    "class AlignedDoc(Document):\n",
    "    \n",
    "    def aligned_bundle(self, sents, zones):\n",
    "        bund = self.create_bundle()\n",
    "        for sent, zone in zip(sents, zones):\n",
    "            t = self.add_tree(bund, sent, zone)\n",
    "        return bund\n",
    "    \n",
    "    def add_tree(self, bund, sent, zone):\n",
    "        t = bund.add_tree(sent)\n",
    "        t.zone = zone\n",
    "        return t\n",
    "    \n",
    "    def to_html_string(self):\n",
    "        fh = io.StringIO()\n",
    "        with contextlib.redirect_stdout(fh):\n",
    "            HtmlWriter().apply_on_document(self)\n",
    "        return fh.getvalue()"
   ]
  },
  {
   "cell_type": "code",
   "execution_count": 85,
   "id": "09bebf5e-774d-44dc-9c44-90d9e696c6f7",
   "metadata": {},
   "outputs": [],
   "source": [
    "aligndoc = AlignedDoc()"
   ]
  },
  {
   "cell_type": "code",
   "execution_count": 86,
   "id": "8aac78f3-2b00-46e3-88cc-66327c7e85c5",
   "metadata": {},
   "outputs": [],
   "source": [
    "altdoc = Document()\n",
    "altdoc.load_conllu('data/a_cho/Alternative.conllu')"
   ]
  },
  {
   "cell_type": "markdown",
   "id": "48588055-0076-49cc-8bab-3a82100a332b",
   "metadata": {},
   "source": [
    "## Discussions "
   ]
  },
  {
   "cell_type": "markdown",
   "id": "74b9779b-3540-4341-bf7e-cca0120f483e",
   "metadata": {},
   "source": [
    "Here some trees of the revised version, aligned with the older one (and some other selected versions). We start by loading the libraries we'll use and the data"
   ]
  },
  {
   "cell_type": "code",
   "execution_count": 87,
   "id": "5aeda572-a411-4bf2-9242-f8395b853213",
   "metadata": {},
   "outputs": [],
   "source": [
    "zones = ['grc_tb', 'old_tb']"
   ]
  },
  {
   "cell_type": "markdown",
   "id": "46f1c28a-6ee6-41e9-ad15-675d3a5ddb5f",
   "metadata": {},
   "source": [
    "### Sentence 15"
   ]
  },
  {
   "cell_type": "code",
   "execution_count": 89,
   "id": "e5c34f8c-b3aa-433e-a9a8-08b3a10b7c14",
   "metadata": {},
   "outputs": [],
   "source": [
    "bund1 = aligndoc.aligned_bundle([sent1, altdoc.bundles[0].get_tree()], zones)"
   ]
  },
  {
   "cell_type": "code",
   "execution_count": 90,
   "id": "f1de6a39-d868-49e6-83c5-d8ccd8e7fb97",
   "metadata": {},
   "outputs": [],
   "source": [
    "h = aligndoc.to_html_string()"
   ]
  },
  {
   "cell_type": "code",
   "execution_count": 91,
   "id": "e22fd320-e2a8-49c0-8cc9-b397874ff68e",
   "metadata": {},
   "outputs": [
    {
     "data": {
      "text/html": [
       "<!DOCTYPE html><html lang=\"en\"><head><meta charset=\"UTF-8\">\n",
       "<title>Udapi viewer</title>\n",
       "<script src=\"https://code.jquery.com/jquery-2.1.4.min.js\"></script>\n",
       "<script src=\"https://cdn.rawgit.com/eligrey/FileSaver.js/1.3.4/FileSaver.min.js\"></script>\n",
       "<script src=\"https://cdn.rawgit.com/ufal/js-treex-view/gh-pages/js-treex-view.js\"></script>\n",
       "</head>\n",
       "<body>\n",
       "<button style=\"float:right\" type=\"submit\" onclick=\"saveTree()\"><span>Save as SVG</span></button><div id=\"treex-view\"></div><script>\n",
       "data=[\n",
       "{\"zones\":{\"grc_tb\":{\"sentence\":\"ἰαλτὸς ἐκ δόμων ἔβαν χοὰς προπομπὸς ὀξύχειρι σὺν κτύπῳ.\",\"trees\":{\"a\":{\"language\":\"grc_tb\",\"nodes\":[\n",
       "{\"id\":\"n15\",\"parent\":null,\"firstson\":\"n15-4\",\"labels\":[\"zone=grc_tb\",\"id=15\"]}\n",
       ",{\"id\":\"n15-1\",\"parent\":\"n15-4\",\"order\":1,\"rbrother\":\"n15-3\",\"data\":{\"ord\":1,\"form\":\"ἰαλτὸς\",\"lemma\":\"ἰαλτός\",\"upos\":\"ADJ\",\"xpos\":\"a-s---fn-\",\"feats\":\"Case=Nom|Gender=Fem|Number=Sing\",\"deprel\":\"advcl:compl\",\"misc\":\"Ref=22\",\"id\":\"15#1\"},\"labels\":[\"ἰαλτὸς\",\"#{#bb0000}ADJ\",\"#{#0000bb}advcl:compl\"],\"hint\":\"lemma=ἰαλτός\\nCase=Nom\\nGender=Fem\\nNumber=Sing\"}\n",
       ",{\"id\":\"n15-2\",\"parent\":\"n15-3\",\"order\":2,\"data\":{\"ord\":2,\"form\":\"ἐκ\",\"lemma\":\"ἐκ\",\"upos\":\"ADP\",\"xpos\":\"r--------\",\"feats\":\"_\",\"deprel\":\"case\",\"misc\":\"Ref=22\",\"id\":\"15#2\"},\"labels\":[\"ἐκ\",\"#{#bb0000}ADP\",\"#{#0000bb}case\"],\"hint\":\"lemma=ἐκ\\n_\"}\n",
       ",{\"id\":\"n15-3\",\"parent\":\"n15-4\",\"order\":3,\"firstson\":\"n15-2\",\"rbrother\":\"n15-6\",\"data\":{\"ord\":3,\"form\":\"δόμων\",\"lemma\":\"δόμος\",\"upos\":\"NOUN\",\"xpos\":\"n-p---mg-\",\"feats\":\"Case=Gen|Gender=Masc|Number=Plur\",\"deprel\":\"obl:arg\",\"misc\":\"Ref=22\",\"id\":\"15#3\"},\"labels\":[\"δόμων\",\"#{#bb0000}NOUN\",\"#{#0000bb}obl:arg\"],\"hint\":\"lemma=δόμος\\nCase=Gen\\nGender=Masc\\nNumber=Plur\"}\n",
       ",{\"id\":\"n15-4\",\"parent\":\"n15\",\"order\":4,\"firstson\":\"n15-1\",\"data\":{\"ord\":4,\"form\":\"ἔβαν\",\"lemma\":\"βαίνω\",\"upos\":\"VERB\",\"xpos\":\"v1saia---\",\"feats\":\"Mood=Ind|Number=Sing|Person=1|Tense=Past|Voice=Act\",\"deprel\":\"root\",\"misc\":\"Ref=22\",\"id\":\"15#4\"},\"labels\":[\"ἔβαν\",\"#{#bb0000}VERB\",\"#{#0000bb}root\"],\"hint\":\"lemma=βαίνω\\nMood=Ind\\nNumber=Sing\\nPerson=1\\nTense=Past\\nVoice=Act\"}\n",
       ",{\"id\":\"n15-5\",\"parent\":\"n15-6\",\"order\":5,\"rbrother\":\"n15-9\",\"data\":{\"ord\":5,\"form\":\"χοὰς\",\"lemma\":\"χοή\",\"upos\":\"NOUN\",\"xpos\":\"n-p---fa-\",\"feats\":\"Case=Acc|Gender=Fem|Number=Plur\",\"deprel\":\"obj\",\"misc\":\"Ref=23|Ruling=ArgOfAdj\",\"id\":\"15#5\"},\"labels\":[\"χοὰς\",\"#{#bb0000}NOUN\",\"#{#0000bb}obj\"],\"hint\":\"lemma=χοή\\nCase=Acc\\nGender=Fem\\nNumber=Plur\"}\n",
       ",{\"id\":\"n15-6\",\"parent\":\"n15-4\",\"order\":6,\"firstson\":\"n15-5\",\"rbrother\":\"n15-10\",\"data\":{\"ord\":6,\"form\":\"προπομπὸς\",\"lemma\":\"προπομπός\",\"upos\":\"ADJ\",\"xpos\":\"a-s---fn-\",\"feats\":\"Case=Nom|Gender=Fem|Number=Sing\",\"deprel\":\"advcl:compl\",\"misc\":\"Ref=23\",\"id\":\"15#6\"},\"labels\":[\"προπομπὸς\",\"#{#bb0000}ADJ\",\"#{#0000bb}advcl:compl\"],\"hint\":\"lemma=προπομπός\\nCase=Nom\\nGender=Fem\\nNumber=Sing\"}\n",
       ",{\"id\":\"n15-7\",\"parent\":\"n15-9\",\"order\":7,\"rbrother\":\"n15-8\",\"data\":{\"ord\":7,\"form\":\"ὀξύχειρι\",\"lemma\":\"ὀξύχειρ\",\"upos\":\"NOUN\",\"xpos\":\"n-s---md-\",\"feats\":\"Case=Dat|Gender=Masc|Number=Sing\",\"deprel\":\"nmod\",\"misc\":\"Ref=23\",\"id\":\"15#7\"},\"labels\":[\"ὀξύχειρι\",\"#{#bb0000}NOUN\",\"#{#0000bb}nmod\"],\"hint\":\"lemma=ὀξύχειρ\\nCase=Dat\\nGender=Masc\\nNumber=Sing\"}\n",
       ",{\"id\":\"n15-8\",\"parent\":\"n15-9\",\"order\":8,\"data\":{\"ord\":8,\"form\":\"σὺν\",\"lemma\":\"σύν\",\"upos\":\"ADP\",\"xpos\":\"r--------\",\"feats\":\"_\",\"deprel\":\"case\",\"misc\":\"Ref=23\",\"id\":\"15#8\"},\"labels\":[\"σὺν\",\"#{#bb0000}ADP\",\"#{#0000bb}case\"],\"hint\":\"lemma=σύν\\n_\"}\n",
       ",{\"id\":\"n15-9\",\"parent\":\"n15-6\",\"order\":9,\"firstson\":\"n15-7\",\"data\":{\"ord\":9,\"form\":\"κτύπῳ\",\"lemma\":\"κτύπος\",\"upos\":\"NOUN\",\"xpos\":\"n-s---md-\",\"feats\":\"Case=Dat|Gender=Masc|Number=Sing\",\"deprel\":\"obl\",\"misc\":\"Ref=23|SpaceAfter=No\",\"id\":\"15#9\"},\"labels\":[\"κτύπῳ\",\"#{#bb0000}NOUN\",\"#{#0000bb}obl\"],\"hint\":\"lemma=κτύπος\\nCase=Dat\\nGender=Masc\\nNumber=Sing\"}\n",
       ",{\"id\":\"n15-10\",\"parent\":\"n15-4\",\"order\":10,\"data\":{\"ord\":10,\"form\":\".\",\"lemma\":\".\",\"upos\":\"PUNCT\",\"xpos\":\"u--------\",\"feats\":\"_\",\"deprel\":\"punct\",\"misc\":\"Ref=23\",\"id\":\"15#10\"},\"labels\":[\".\",\"#{#bb0000}PUNCT\",\"#{#0000bb}punct\"],\"hint\":\"lemma=.\\n_\"}\n",
       "]}}}\n",
       ",\"old_tb\":{\"sentence\":\"ἰαλτὸς ἐκ δόμων ἔβαν χοὰς προπομποῦσ' ὀξύχειρι σὺν κόπῳ.\",\"trees\":{\"a\":{\"language\":\"old_tb\",\"nodes\":[\n",
       "{\"id\":\"n15\",\"parent\":null,\"firstson\":\"n15-4\",\"labels\":[\"zone=old_tb\",\"id=15\"]}\n",
       ",{\"id\":\"n15-1\",\"parent\":\"n15-4\",\"order\":1,\"rbrother\":\"n15-3\",\"data\":{\"ord\":1,\"form\":\"ἰαλτὸς\",\"lemma\":\"ἰαλτός\",\"upos\":\"ADJ\",\"xpos\":\"a-s---fn-\",\"feats\":\"Case=Nom|Gender=Fem|Number=Sing\",\"deprel\":\"advcl:compl\",\"misc\":\"Ref=22\",\"id\":\"15#1\"},\"labels\":[\"ἰαλτὸς\",\"#{#bb0000}ADJ\",\"#{#0000bb}advcl:compl\"],\"hint\":\"lemma=ἰαλτός\\nCase=Nom\\nGender=Fem\\nNumber=Sing\"}\n",
       ",{\"id\":\"n15-2\",\"parent\":\"n15-3\",\"order\":2,\"data\":{\"ord\":2,\"form\":\"ἐκ\",\"lemma\":\"ἐκ\",\"upos\":\"ADP\",\"xpos\":\"r--------\",\"feats\":\"_\",\"deprel\":\"case\",\"misc\":\"Ref=22\",\"id\":\"15#2\"},\"labels\":[\"ἐκ\",\"#{#bb0000}ADP\",\"#{#0000bb}case\"],\"hint\":\"lemma=ἐκ\\n_\"}\n",
       ",{\"id\":\"n15-3\",\"parent\":\"n15-4\",\"order\":3,\"firstson\":\"n15-2\",\"rbrother\":\"n15-6\",\"data\":{\"ord\":3,\"form\":\"δόμων\",\"lemma\":\"δόμος\",\"upos\":\"NOUN\",\"xpos\":\"n-p---mg-\",\"feats\":\"Case=Gen|Gender=Masc|Number=Plur\",\"deprel\":\"obl:arg\",\"misc\":\"Ref=22\",\"id\":\"15#3\"},\"labels\":[\"δόμων\",\"#{#bb0000}NOUN\",\"#{#0000bb}obl:arg\"],\"hint\":\"lemma=δόμος\\nCase=Gen\\nGender=Masc\\nNumber=Plur\"}\n",
       ",{\"id\":\"n15-4\",\"parent\":\"n15\",\"order\":4,\"firstson\":\"n15-1\",\"data\":{\"ord\":4,\"form\":\"ἔβαν\",\"lemma\":\"βαίνω\",\"upos\":\"VERB\",\"xpos\":\"v1saia---\",\"feats\":\"Mood=Ind|Number=Sing|Person=1|Tense=Past|Voice=Act\",\"deprel\":\"root\",\"misc\":\"Ref=22\",\"id\":\"15#4\"},\"labels\":[\"ἔβαν\",\"#{#bb0000}VERB\",\"#{#0000bb}root\"],\"hint\":\"lemma=βαίνω\\nMood=Ind\\nNumber=Sing\\nPerson=1\\nTense=Past\\nVoice=Act\"}\n",
       ",{\"id\":\"n15-5\",\"parent\":\"n15-6\",\"order\":5,\"rbrother\":\"n15-9\",\"data\":{\"ord\":5,\"form\":\"χοὰς\",\"lemma\":\"χοή\",\"upos\":\"NOUN\",\"xpos\":\"n-p---fa-\",\"feats\":\"Case=Acc|Gender=Fem|Number=Plur\",\"deprel\":\"obj\",\"misc\":\"Ref=23|Ruling=ArgOfAdj\",\"id\":\"15#5\"},\"labels\":[\"χοὰς\",\"#{#bb0000}NOUN\",\"#{#0000bb}obj\"],\"hint\":\"lemma=χοή\\nCase=Acc\\nGender=Fem\\nNumber=Plur\"}\n",
       ",{\"id\":\"n15-6\",\"parent\":\"n15-4\",\"order\":6,\"firstson\":\"n15-5\",\"rbrother\":\"n15-10\",\"data\":{\"ord\":6,\"form\":\"προπομποῦσ'\",\"lemma\":\"προπέμπω\",\"upos\":\"VERB\",\"xpos\":\"a-s---fn-\",\"feats\":\"Case=Nom|Gender=Fem|Number=Sing\",\"deprel\":\"advcl\",\"misc\":\"Ref=23\",\"id\":\"15#6\"},\"labels\":[\"προπομποῦσ'\",\"#{#bb0000}VERB\",\"#{#0000bb}advcl\"],\"hint\":\"lemma=προπέμπω\\nCase=Nom\\nGender=Fem\\nNumber=Sing\"}\n",
       ",{\"id\":\"n15-7\",\"parent\":\"n15-9\",\"order\":7,\"rbrother\":\"n15-8\",\"data\":{\"ord\":7,\"form\":\"ὀξύχειρι\",\"lemma\":\"ὀξύχειρ\",\"upos\":\"NOUN\",\"xpos\":\"n-s---md-\",\"feats\":\"Case=Dat|Gender=Masc|Number=Sing\",\"deprel\":\"nmod\",\"misc\":\"Ref=23\",\"id\":\"15#7\"},\"labels\":[\"ὀξύχειρι\",\"#{#bb0000}NOUN\",\"#{#0000bb}nmod\"],\"hint\":\"lemma=ὀξύχειρ\\nCase=Dat\\nGender=Masc\\nNumber=Sing\"}\n",
       ",{\"id\":\"n15-8\",\"parent\":\"n15-9\",\"order\":8,\"data\":{\"ord\":8,\"form\":\"σὺν\",\"lemma\":\"σύν\",\"upos\":\"ADP\",\"xpos\":\"r--------\",\"feats\":\"_\",\"deprel\":\"case\",\"misc\":\"Ref=23\",\"id\":\"15#8\"},\"labels\":[\"σὺν\",\"#{#bb0000}ADP\",\"#{#0000bb}case\"],\"hint\":\"lemma=σύν\\n_\"}\n",
       ",{\"id\":\"n15-9\",\"parent\":\"n15-6\",\"order\":9,\"firstson\":\"n15-7\",\"data\":{\"ord\":9,\"form\":\"κόπῳ\",\"lemma\":\"κόπος\",\"upos\":\"NOUN\",\"xpos\":\"n-s---md-\",\"feats\":\"Case=Dat|Gender=Masc|Number=Sing\",\"deprel\":\"obl\",\"misc\":\"Ref=23|SpaceAfter=No\",\"id\":\"15#9\"},\"labels\":[\"κόπῳ\",\"#{#bb0000}NOUN\",\"#{#0000bb}obl\"],\"hint\":\"lemma=κόπος\\nCase=Dat\\nGender=Masc\\nNumber=Sing\"}\n",
       ",{\"id\":\"n15-10\",\"parent\":\"n15-4\",\"order\":10,\"data\":{\"ord\":10,\"form\":\".\",\"lemma\":\".\",\"upos\":\"PUNCT\",\"xpos\":\"u--------\",\"feats\":\"_\",\"deprel\":\"punct\",\"misc\":\"Ref=23\",\"id\":\"15#10\"},\"labels\":[\".\",\"#{#bb0000}PUNCT\",\"#{#0000bb}punct\"],\"hint\":\"lemma=.\\n_\"}\n",
       "]}}}\n",
       "},\"desc\":[[\"[grc_tb]\",\"label\"],[\" \",\"space\"],[\"ἰαλτὸς\",\"n15-1\"],[\" \",\"space\"],[\"ἐκ\",\"n15-2\"],[\" \",\"space\"],[\"δόμων\",\"n15-3\"],[\" \",\"space\"],[\"ἔβαν\",\"n15-4\"],[\" \",\"space\"],[\"χοὰς\",\"n15-5\"],[\" \",\"space\"],[\"προπομπὸς\",\"n15-6\"],[\" \",\"space\"],[\"ὀξύχειρι\",\"n15-7\"],[\" \",\"space\"],[\"σὺν\",\"n15-8\"],[\" \",\"space\"],[\"κτύπῳ\",\"n15-9\"],[\".\",\"n15-10\"],[\" \",\"space\"],[\"\\n\",\"newline\"],[\"[old_tb]\",\"label\"],[\" \",\"space\"],[\"ἰαλτὸς\",\"n15-1\"],[\" \",\"space\"],[\"ἐκ\",\"n15-2\"],[\" \",\"space\"],[\"δόμων\",\"n15-3\"],[\" \",\"space\"],[\"ἔβαν\",\"n15-4\"],[\" \",\"space\"],[\"χοὰς\",\"n15-5\"],[\" \",\"space\"],[\"προπομποῦσ'\",\"n15-6\"],[\" \",\"space\"],[\"ὀξύχειρι\",\"n15-7\"],[\" \",\"space\"],[\"σὺν\",\"n15-8\"],[\" \",\"space\"],[\"κόπῳ\",\"n15-9\"],[\".\",\"n15-10\"],[\" \",\"space\"],[\"\\n\",\"newline\"]]}\n",
       "];\n",
       "$('#treex-view').treexView(data);\n",
       "function saveTree() {\n",
       "         var svg_el = jQuery('svg');\n",
       "         if (svg_el.length) {\n",
       "            var svg = new Blob([svg_el.parent().html()], {type: \"image/svg+xml\"});\n",
       "            saveAs(svg, 'tree.svg');\n",
       "         }\n",
       "        }\n",
       "</script></body></html>\n"
      ],
      "text/plain": [
       "<IPython.core.display.HTML object>"
      ]
     },
     "metadata": {},
     "output_type": "display_data"
    }
   ],
   "source": [
    "display(HTML(h))"
   ]
  },
  {
   "cell_type": "markdown",
   "id": "42d25452-3e3b-4305-b9bd-c9dc22967b5e",
   "metadata": {},
   "source": [
    "### Sentence 15"
   ]
  },
  {
   "cell_type": "code",
   "execution_count": 92,
   "id": "8bd19118-a403-4502-8b06-c1efb78a201a",
   "metadata": {
    "tags": []
   },
   "outputs": [
    {
     "data": {
      "text/html": [
       "<!DOCTYPE html><html lang=\"en\"><head><meta charset=\"UTF-8\">\n",
       "<title>Udapi viewer</title>\n",
       "<script src=\"https://code.jquery.com/jquery-2.1.4.min.js\"></script>\n",
       "<script src=\"https://cdn.rawgit.com/eligrey/FileSaver.js/1.3.4/FileSaver.min.js\"></script>\n",
       "<script src=\"https://cdn.rawgit.com/ufal/js-treex-view/gh-pages/js-treex-view.js\"></script>\n",
       "</head>\n",
       "<body>\n",
       "<button style=\"float:right\" type=\"submit\" onclick=\"saveTree()\"><span>Save as SVG</span></button><div id=\"treex-view\"></div><script>\n",
       "data=[\n",
       "{\"zones\":{\"grc_tb\":{\"sentence\":\"ἰαλτὸς ἐκ δόμων ἔβαν χοὰς προπομπὸς ὀξύχειρι σὺν κτύπῳ.\",\"trees\":{\"a\":{\"language\":\"grc_tb\",\"nodes\":[\n",
       "{\"id\":\"n15\",\"parent\":null,\"firstson\":\"n15-4\",\"labels\":[\"zone=grc_tb\",\"id=15\"]}\n",
       ",{\"id\":\"n15-1\",\"parent\":\"n15-4\",\"order\":1,\"rbrother\":\"n15-3\",\"data\":{\"ord\":1,\"form\":\"ἰαλτὸς\",\"lemma\":\"ἰαλτός\",\"upos\":\"ADJ\",\"xpos\":\"a-s---fn-\",\"feats\":\"Case=Nom|Gender=Fem|Number=Sing\",\"deprel\":\"advcl:compl\",\"misc\":\"Ref=22\",\"id\":\"15#1\"},\"labels\":[\"ἰαλτὸς\",\"#{#bb0000}ADJ\",\"#{#0000bb}advcl:compl\"],\"hint\":\"lemma=ἰαλτός\\nCase=Nom\\nGender=Fem\\nNumber=Sing\"}\n",
       ",{\"id\":\"n15-2\",\"parent\":\"n15-3\",\"order\":2,\"data\":{\"ord\":2,\"form\":\"ἐκ\",\"lemma\":\"ἐκ\",\"upos\":\"ADP\",\"xpos\":\"r--------\",\"feats\":\"_\",\"deprel\":\"case\",\"misc\":\"Ref=22\",\"id\":\"15#2\"},\"labels\":[\"ἐκ\",\"#{#bb0000}ADP\",\"#{#0000bb}case\"],\"hint\":\"lemma=ἐκ\\n_\"}\n",
       ",{\"id\":\"n15-3\",\"parent\":\"n15-4\",\"order\":3,\"firstson\":\"n15-2\",\"rbrother\":\"n15-6\",\"data\":{\"ord\":3,\"form\":\"δόμων\",\"lemma\":\"δόμος\",\"upos\":\"NOUN\",\"xpos\":\"n-p---mg-\",\"feats\":\"Case=Gen|Gender=Masc|Number=Plur\",\"deprel\":\"obl:arg\",\"misc\":\"Ref=22\",\"id\":\"15#3\"},\"labels\":[\"δόμων\",\"#{#bb0000}NOUN\",\"#{#0000bb}obl:arg\"],\"hint\":\"lemma=δόμος\\nCase=Gen\\nGender=Masc\\nNumber=Plur\"}\n",
       ",{\"id\":\"n15-4\",\"parent\":\"n15\",\"order\":4,\"firstson\":\"n15-1\",\"data\":{\"ord\":4,\"form\":\"ἔβαν\",\"lemma\":\"βαίνω\",\"upos\":\"VERB\",\"xpos\":\"v1saia---\",\"feats\":\"Mood=Ind|Number=Sing|Person=1|Tense=Past|Voice=Act\",\"deprel\":\"root\",\"misc\":\"Ref=22\",\"id\":\"15#4\"},\"labels\":[\"ἔβαν\",\"#{#bb0000}VERB\",\"#{#0000bb}root\"],\"hint\":\"lemma=βαίνω\\nMood=Ind\\nNumber=Sing\\nPerson=1\\nTense=Past\\nVoice=Act\"}\n",
       ",{\"id\":\"n15-5\",\"parent\":\"n15-6\",\"order\":5,\"rbrother\":\"n15-9\",\"data\":{\"ord\":5,\"form\":\"χοὰς\",\"lemma\":\"χοή\",\"upos\":\"NOUN\",\"xpos\":\"n-p---fa-\",\"feats\":\"Case=Acc|Gender=Fem|Number=Plur\",\"deprel\":\"obj\",\"misc\":\"Ref=23|Ruling=ArgOfAdj\",\"id\":\"15#5\"},\"labels\":[\"χοὰς\",\"#{#bb0000}NOUN\",\"#{#0000bb}obj\"],\"hint\":\"lemma=χοή\\nCase=Acc\\nGender=Fem\\nNumber=Plur\"}\n",
       ",{\"id\":\"n15-6\",\"parent\":\"n15-4\",\"order\":6,\"firstson\":\"n15-5\",\"rbrother\":\"n15-10\",\"data\":{\"ord\":6,\"form\":\"προπομπὸς\",\"lemma\":\"προπομπός\",\"upos\":\"ADJ\",\"xpos\":\"a-s---fn-\",\"feats\":\"Case=Nom|Gender=Fem|Number=Sing\",\"deprel\":\"advcl:compl\",\"misc\":\"Ref=23\",\"id\":\"15#6\"},\"labels\":[\"προπομπὸς\",\"#{#bb0000}ADJ\",\"#{#0000bb}advcl:compl\"],\"hint\":\"lemma=προπομπός\\nCase=Nom\\nGender=Fem\\nNumber=Sing\"}\n",
       ",{\"id\":\"n15-7\",\"parent\":\"n15-9\",\"order\":7,\"rbrother\":\"n15-8\",\"data\":{\"ord\":7,\"form\":\"ὀξύχειρι\",\"lemma\":\"ὀξύχειρ\",\"upos\":\"NOUN\",\"xpos\":\"n-s---md-\",\"feats\":\"Case=Dat|Gender=Masc|Number=Sing\",\"deprel\":\"nmod\",\"misc\":\"Ref=23\",\"id\":\"15#7\"},\"labels\":[\"ὀξύχειρι\",\"#{#bb0000}NOUN\",\"#{#0000bb}nmod\"],\"hint\":\"lemma=ὀξύχειρ\\nCase=Dat\\nGender=Masc\\nNumber=Sing\"}\n",
       ",{\"id\":\"n15-8\",\"parent\":\"n15-9\",\"order\":8,\"data\":{\"ord\":8,\"form\":\"σὺν\",\"lemma\":\"σύν\",\"upos\":\"ADP\",\"xpos\":\"r--------\",\"feats\":\"_\",\"deprel\":\"case\",\"misc\":\"Ref=23\",\"id\":\"15#8\"},\"labels\":[\"σὺν\",\"#{#bb0000}ADP\",\"#{#0000bb}case\"],\"hint\":\"lemma=σύν\\n_\"}\n",
       ",{\"id\":\"n15-9\",\"parent\":\"n15-6\",\"order\":9,\"firstson\":\"n15-7\",\"data\":{\"ord\":9,\"form\":\"κτύπῳ\",\"lemma\":\"κτύπος\",\"upos\":\"NOUN\",\"xpos\":\"n-s---md-\",\"feats\":\"Case=Dat|Gender=Masc|Number=Sing\",\"deprel\":\"obl\",\"misc\":\"Ref=23|SpaceAfter=No\",\"id\":\"15#9\"},\"labels\":[\"κτύπῳ\",\"#{#bb0000}NOUN\",\"#{#0000bb}obl\"],\"hint\":\"lemma=κτύπος\\nCase=Dat\\nGender=Masc\\nNumber=Sing\"}\n",
       ",{\"id\":\"n15-10\",\"parent\":\"n15-4\",\"order\":10,\"data\":{\"ord\":10,\"form\":\".\",\"lemma\":\".\",\"upos\":\"PUNCT\",\"xpos\":\"u--------\",\"feats\":\"_\",\"deprel\":\"punct\",\"misc\":\"Ref=23\",\"id\":\"15#10\"},\"labels\":[\".\",\"#{#bb0000}PUNCT\",\"#{#0000bb}punct\"],\"hint\":\"lemma=.\\n_\"}\n",
       "]}}}\n",
       ",\"old_tb\":{\"sentence\":\"ἰαλτὸς ἐκ δόμων ἔβαν χοὰς προπομποῦσ' ὀξύχειρι σὺν κόπῳ.\",\"trees\":{\"a\":{\"language\":\"old_tb\",\"nodes\":[\n",
       "{\"id\":\"n15\",\"parent\":null,\"firstson\":\"n15-4\",\"labels\":[\"zone=old_tb\",\"id=15\"]}\n",
       ",{\"id\":\"n15-1\",\"parent\":\"n15-4\",\"order\":1,\"rbrother\":\"n15-3\",\"data\":{\"ord\":1,\"form\":\"ἰαλτὸς\",\"lemma\":\"ἰαλτός\",\"upos\":\"ADJ\",\"xpos\":\"a-s---fn-\",\"feats\":\"Case=Nom|Gender=Fem|Number=Sing\",\"deprel\":\"advcl:compl\",\"misc\":\"Ref=22\",\"id\":\"15#1\"},\"labels\":[\"ἰαλτὸς\",\"#{#bb0000}ADJ\",\"#{#0000bb}advcl:compl\"],\"hint\":\"lemma=ἰαλτός\\nCase=Nom\\nGender=Fem\\nNumber=Sing\"}\n",
       ",{\"id\":\"n15-2\",\"parent\":\"n15-3\",\"order\":2,\"data\":{\"ord\":2,\"form\":\"ἐκ\",\"lemma\":\"ἐκ\",\"upos\":\"ADP\",\"xpos\":\"r--------\",\"feats\":\"_\",\"deprel\":\"case\",\"misc\":\"Ref=22\",\"id\":\"15#2\"},\"labels\":[\"ἐκ\",\"#{#bb0000}ADP\",\"#{#0000bb}case\"],\"hint\":\"lemma=ἐκ\\n_\"}\n",
       ",{\"id\":\"n15-3\",\"parent\":\"n15-4\",\"order\":3,\"firstson\":\"n15-2\",\"rbrother\":\"n15-6\",\"data\":{\"ord\":3,\"form\":\"δόμων\",\"lemma\":\"δόμος\",\"upos\":\"NOUN\",\"xpos\":\"n-p---mg-\",\"feats\":\"Case=Gen|Gender=Masc|Number=Plur\",\"deprel\":\"obl:arg\",\"misc\":\"Ref=22\",\"id\":\"15#3\"},\"labels\":[\"δόμων\",\"#{#bb0000}NOUN\",\"#{#0000bb}obl:arg\"],\"hint\":\"lemma=δόμος\\nCase=Gen\\nGender=Masc\\nNumber=Plur\"}\n",
       ",{\"id\":\"n15-4\",\"parent\":\"n15\",\"order\":4,\"firstson\":\"n15-1\",\"data\":{\"ord\":4,\"form\":\"ἔβαν\",\"lemma\":\"βαίνω\",\"upos\":\"VERB\",\"xpos\":\"v1saia---\",\"feats\":\"Mood=Ind|Number=Sing|Person=1|Tense=Past|Voice=Act\",\"deprel\":\"root\",\"misc\":\"Ref=22\",\"id\":\"15#4\"},\"labels\":[\"ἔβαν\",\"#{#bb0000}VERB\",\"#{#0000bb}root\"],\"hint\":\"lemma=βαίνω\\nMood=Ind\\nNumber=Sing\\nPerson=1\\nTense=Past\\nVoice=Act\"}\n",
       ",{\"id\":\"n15-5\",\"parent\":\"n15-6\",\"order\":5,\"rbrother\":\"n15-9\",\"data\":{\"ord\":5,\"form\":\"χοὰς\",\"lemma\":\"χοή\",\"upos\":\"NOUN\",\"xpos\":\"n-p---fa-\",\"feats\":\"Case=Acc|Gender=Fem|Number=Plur\",\"deprel\":\"obj\",\"misc\":\"Ref=23|Ruling=ArgOfAdj\",\"id\":\"15#5\"},\"labels\":[\"χοὰς\",\"#{#bb0000}NOUN\",\"#{#0000bb}obj\"],\"hint\":\"lemma=χοή\\nCase=Acc\\nGender=Fem\\nNumber=Plur\"}\n",
       ",{\"id\":\"n15-6\",\"parent\":\"n15-4\",\"order\":6,\"firstson\":\"n15-5\",\"rbrother\":\"n15-10\",\"data\":{\"ord\":6,\"form\":\"προπομποῦσ'\",\"lemma\":\"προπέμπω\",\"upos\":\"VERB\",\"xpos\":\"a-s---fn-\",\"feats\":\"Case=Nom|Gender=Fem|Number=Sing\",\"deprel\":\"advcl\",\"misc\":\"Ref=23\",\"id\":\"15#6\"},\"labels\":[\"προπομποῦσ'\",\"#{#bb0000}VERB\",\"#{#0000bb}advcl\"],\"hint\":\"lemma=προπέμπω\\nCase=Nom\\nGender=Fem\\nNumber=Sing\"}\n",
       ",{\"id\":\"n15-7\",\"parent\":\"n15-9\",\"order\":7,\"rbrother\":\"n15-8\",\"data\":{\"ord\":7,\"form\":\"ὀξύχειρι\",\"lemma\":\"ὀξύχειρ\",\"upos\":\"NOUN\",\"xpos\":\"n-s---md-\",\"feats\":\"Case=Dat|Gender=Masc|Number=Sing\",\"deprel\":\"nmod\",\"misc\":\"Ref=23\",\"id\":\"15#7\"},\"labels\":[\"ὀξύχειρι\",\"#{#bb0000}NOUN\",\"#{#0000bb}nmod\"],\"hint\":\"lemma=ὀξύχειρ\\nCase=Dat\\nGender=Masc\\nNumber=Sing\"}\n",
       ",{\"id\":\"n15-8\",\"parent\":\"n15-9\",\"order\":8,\"data\":{\"ord\":8,\"form\":\"σὺν\",\"lemma\":\"σύν\",\"upos\":\"ADP\",\"xpos\":\"r--------\",\"feats\":\"_\",\"deprel\":\"case\",\"misc\":\"Ref=23\",\"id\":\"15#8\"},\"labels\":[\"σὺν\",\"#{#bb0000}ADP\",\"#{#0000bb}case\"],\"hint\":\"lemma=σύν\\n_\"}\n",
       ",{\"id\":\"n15-9\",\"parent\":\"n15-6\",\"order\":9,\"firstson\":\"n15-7\",\"data\":{\"ord\":9,\"form\":\"κόπῳ\",\"lemma\":\"κόπος\",\"upos\":\"NOUN\",\"xpos\":\"n-s---md-\",\"feats\":\"Case=Dat|Gender=Masc|Number=Sing\",\"deprel\":\"obl\",\"misc\":\"Ref=23|SpaceAfter=No\",\"id\":\"15#9\"},\"labels\":[\"κόπῳ\",\"#{#bb0000}NOUN\",\"#{#0000bb}obl\"],\"hint\":\"lemma=κόπος\\nCase=Dat\\nGender=Masc\\nNumber=Sing\"}\n",
       ",{\"id\":\"n15-10\",\"parent\":\"n15-4\",\"order\":10,\"data\":{\"ord\":10,\"form\":\".\",\"lemma\":\".\",\"upos\":\"PUNCT\",\"xpos\":\"u--------\",\"feats\":\"_\",\"deprel\":\"punct\",\"misc\":\"Ref=23\",\"id\":\"15#10\"},\"labels\":[\".\",\"#{#bb0000}PUNCT\",\"#{#0000bb}punct\"],\"hint\":\"lemma=.\\n_\"}\n",
       "]}}}\n",
       "},\"desc\":[[\"[grc_tb]\",\"label\"],[\" \",\"space\"],[\"ἰαλτὸς\",\"n15-1\"],[\" \",\"space\"],[\"ἐκ\",\"n15-2\"],[\" \",\"space\"],[\"δόμων\",\"n15-3\"],[\" \",\"space\"],[\"ἔβαν\",\"n15-4\"],[\" \",\"space\"],[\"χοὰς\",\"n15-5\"],[\" \",\"space\"],[\"προπομπὸς\",\"n15-6\"],[\" \",\"space\"],[\"ὀξύχειρι\",\"n15-7\"],[\" \",\"space\"],[\"σὺν\",\"n15-8\"],[\" \",\"space\"],[\"κτύπῳ\",\"n15-9\"],[\".\",\"n15-10\"],[\" \",\"space\"],[\"\\n\",\"newline\"],[\"[old_tb]\",\"label\"],[\" \",\"space\"],[\"ἰαλτὸς\",\"n15-1\"],[\" \",\"space\"],[\"ἐκ\",\"n15-2\"],[\" \",\"space\"],[\"δόμων\",\"n15-3\"],[\" \",\"space\"],[\"ἔβαν\",\"n15-4\"],[\" \",\"space\"],[\"χοὰς\",\"n15-5\"],[\" \",\"space\"],[\"προπομποῦσ'\",\"n15-6\"],[\" \",\"space\"],[\"ὀξύχειρι\",\"n15-7\"],[\" \",\"space\"],[\"σὺν\",\"n15-8\"],[\" \",\"space\"],[\"κόπῳ\",\"n15-9\"],[\".\",\"n15-10\"],[\" \",\"space\"],[\"\\n\",\"newline\"]]}\n",
       ",{\"zones\":{\"grc_tb\":{\"sentence\":\"πρέπει παρηὶς φοίνισσ' ἀμυγμοῖς ὄνυχος ἄλοκι νεοτόμῳ·\",\"trees\":{\"a\":{\"language\":\"grc_tb\",\"nodes\":[\n",
       "{\"id\":\"n16\",\"parent\":null,\"firstson\":\"n16-1\",\"labels\":[\"zone=grc_tb\",\"id=16\"]}\n",
       ",{\"id\":\"n16-1\",\"parent\":\"n16\",\"order\":1,\"firstson\":\"n16-2\",\"data\":{\"ord\":1,\"form\":\"πρέπει\",\"lemma\":\"πρέπω\",\"upos\":\"VERB\",\"xpos\":\"v3spia---\",\"feats\":\"Mood=Ind|Number=Sing|Person=3|Tense=Pres|Voice=Act\",\"deprel\":\"root\",\"misc\":\"Ref=24\",\"id\":\"16#1\"},\"labels\":[\"πρέπει\",\"#{#bb0000}VERB\",\"#{#0000bb}root\"],\"hint\":\"lemma=πρέπω\\nMood=Ind\\nNumber=Sing\\nPerson=3\\nTense=Pres\\nVoice=Act\"}\n",
       ",{\"id\":\"n16-2\",\"parent\":\"n16-1\",\"order\":2,\"firstson\":\"n16-3\",\"rbrother\":\"n16-4\",\"data\":{\"ord\":2,\"form\":\"παρηὶς\",\"lemma\":\"παρηίς\",\"upos\":\"NOUN\",\"xpos\":\"n-s---fn-\",\"feats\":\"Case=Nom|Gender=Fem|Number=Sing\",\"deprel\":\"nsubj\",\"misc\":\"Ref=24\",\"id\":\"16#2\"},\"labels\":[\"παρηὶς\",\"#{#bb0000}NOUN\",\"#{#0000bb}nsubj\"],\"hint\":\"lemma=παρηίς\\nCase=Nom\\nGender=Fem\\nNumber=Sing\"}\n",
       ",{\"id\":\"n16-3\",\"parent\":\"n16-2\",\"order\":3,\"data\":{\"ord\":3,\"form\":\"φοίνισσ'\",\"lemma\":\"φοῖνιξ\",\"upos\":\"ADJ\",\"xpos\":\"a-s---fn-\",\"feats\":\"Case=Nom|Gender=Fem|Number=Sing\",\"deprel\":\"amod\",\"misc\":\"Ref=24\",\"id\":\"16#3\"},\"labels\":[\"φοίνισσ'\",\"#{#bb0000}ADJ\",\"#{#0000bb}amod\"],\"hint\":\"lemma=φοῖνιξ\\nCase=Nom\\nGender=Fem\\nNumber=Sing\"}\n",
       ",{\"id\":\"n16-4\",\"parent\":\"n16-1\",\"order\":4,\"firstson\":\"n16-6\",\"rbrother\":\"n16-8\",\"data\":{\"ord\":4,\"form\":\"ἀμυγμοῖς\",\"lemma\":\"ἀμυγμός\",\"upos\":\"NOUN\",\"xpos\":\"n-p---md-\",\"feats\":\"Case=Dat|Gender=Masc|Number=Plur\",\"deprel\":\"obl\",\"misc\":\"Ref=24\",\"id\":\"16#4\"},\"labels\":[\"ἀμυγμοῖς\",\"#{#bb0000}NOUN\",\"#{#0000bb}obl\"],\"hint\":\"lemma=ἀμυγμός\\nCase=Dat\\nGender=Masc\\nNumber=Plur\"}\n",
       ",{\"id\":\"n16-5\",\"parent\":\"n16-6\",\"order\":5,\"rbrother\":\"n16-7\",\"data\":{\"ord\":5,\"form\":\"ὄνυχος\",\"lemma\":\"ὄνυξ\",\"upos\":\"NOUN\",\"xpos\":\"n-s---mg-\",\"feats\":\"Case=Gen|Gender=Masc|Number=Sing\",\"deprel\":\"nmod\",\"misc\":\"Ref=25\",\"id\":\"16#5\"},\"labels\":[\"ὄνυχος\",\"#{#bb0000}NOUN\",\"#{#0000bb}nmod\"],\"hint\":\"lemma=ὄνυξ\\nCase=Gen\\nGender=Masc\\nNumber=Sing\"}\n",
       ",{\"id\":\"n16-6\",\"parent\":\"n16-4\",\"order\":6,\"firstson\":\"n16-5\",\"data\":{\"ord\":6,\"form\":\"ἄλοκι\",\"lemma\":\"αὖλαξ\",\"upos\":\"NOUN\",\"xpos\":\"n-s---fd-\",\"feats\":\"Case=Dat|Gender=Fem|Number=Sing\",\"deprel\":\"appos\",\"misc\":\"Ref=25\",\"id\":\"16#6\"},\"labels\":[\"ἄλοκι\",\"#{#bb0000}NOUN\",\"#{#0000bb}appos\"],\"hint\":\"lemma=αὖλαξ\\nCase=Dat\\nGender=Fem\\nNumber=Sing\"}\n",
       ",{\"id\":\"n16-7\",\"parent\":\"n16-6\",\"order\":7,\"data\":{\"ord\":7,\"form\":\"νεοτόμῳ\",\"lemma\":\"νεότομος\",\"upos\":\"ADJ\",\"xpos\":\"a-s---fd-\",\"feats\":\"Case=Dat|Gender=Fem|Number=Sing\",\"deprel\":\"amod\",\"misc\":\"Ref=25|SpaceAfter=No\",\"id\":\"16#7\"},\"labels\":[\"νεοτόμῳ\",\"#{#bb0000}ADJ\",\"#{#0000bb}amod\"],\"hint\":\"lemma=νεότομος\\nCase=Dat\\nGender=Fem\\nNumber=Sing\"}\n",
       ",{\"id\":\"n16-8\",\"parent\":\"n16-1\",\"order\":8,\"data\":{\"ord\":8,\"form\":\"·\",\"lemma\":\"·\",\"upos\":\"PUNCT\",\"xpos\":\"u--------\",\"feats\":\"_\",\"deprel\":\"punct\",\"misc\":\"Ref=25\",\"id\":\"16#8\"},\"labels\":[\"·\",\"#{#bb0000}PUNCT\",\"#{#0000bb}punct\"],\"hint\":\"lemma=·\\n_\"}\n",
       "]}}}\n",
       ",\"old_tb\":{\"sentence\":\"πρέπει παρηὶς φοινίοις ἀμυγμοῖς ὄνυχος ἄλοκι νεοτόμῳ·\",\"trees\":{\"a\":{\"language\":\"old_tb\",\"nodes\":[\n",
       "{\"id\":\"n16\",\"parent\":null,\"firstson\":\"n16-1\",\"labels\":[\"zone=old_tb\",\"id=16\"]}\n",
       ",{\"id\":\"n16-1\",\"parent\":\"n16\",\"order\":1,\"firstson\":\"n16-2\",\"data\":{\"ord\":1,\"form\":\"πρέπει\",\"lemma\":\"πρέπω\",\"upos\":\"VERB\",\"xpos\":\"v3spia---\",\"feats\":\"Mood=Ind|Number=Sing|Person=3|Tense=Pres|Voice=Act\",\"deprel\":\"root\",\"misc\":\"Ref=24\",\"id\":\"16#1\"},\"labels\":[\"πρέπει\",\"#{#bb0000}VERB\",\"#{#0000bb}root\"],\"hint\":\"lemma=πρέπω\\nMood=Ind\\nNumber=Sing\\nPerson=3\\nTense=Pres\\nVoice=Act\"}\n",
       ",{\"id\":\"n16-2\",\"parent\":\"n16-1\",\"order\":2,\"rbrother\":\"n16-4\",\"data\":{\"ord\":2,\"form\":\"παρηὶς\",\"lemma\":\"παρηίς\",\"upos\":\"NOUN\",\"xpos\":\"n-s---fn-\",\"feats\":\"Case=Nom|Gender=Fem|Number=Sing\",\"deprel\":\"nsubj\",\"misc\":\"Ref=24\",\"id\":\"16#2\"},\"labels\":[\"παρηὶς\",\"#{#bb0000}NOUN\",\"#{#0000bb}nsubj\"],\"hint\":\"lemma=παρηίς\\nCase=Nom\\nGender=Fem\\nNumber=Sing\"}\n",
       ",{\"id\":\"n16-3\",\"parent\":\"n16-4\",\"order\":3,\"rbrother\":\"n16-6\",\"data\":{\"ord\":3,\"form\":\"φοινίοις\",\"lemma\":\"φοίνιος\",\"upos\":\"ADJ\",\"xpos\":\"a-p---md-\",\"feats\":\"Case=Dat|Gender=Masc|Number=Plur\",\"deprel\":\"amod\",\"misc\":\"Ref=24\",\"id\":\"16#3\"},\"labels\":[\"φοινίοις\",\"#{#bb0000}ADJ\",\"#{#0000bb}amod\"],\"hint\":\"lemma=φοίνιος\\nCase=Dat\\nGender=Masc\\nNumber=Plur\"}\n",
       ",{\"id\":\"n16-4\",\"parent\":\"n16-1\",\"order\":4,\"firstson\":\"n16-3\",\"rbrother\":\"n16-8\",\"data\":{\"ord\":4,\"form\":\"ἀμυγμοῖς\",\"lemma\":\"ἀμυγμός\",\"upos\":\"NOUN\",\"xpos\":\"n-p---md-\",\"feats\":\"Case=Dat|Gender=Masc|Number=Plur\",\"deprel\":\"obj\",\"misc\":\"Ref=24\",\"id\":\"16#4\"},\"labels\":[\"ἀμυγμοῖς\",\"#{#bb0000}NOUN\",\"#{#0000bb}obj\"],\"hint\":\"lemma=ἀμυγμός\\nCase=Dat\\nGender=Masc\\nNumber=Plur\"}\n",
       ",{\"id\":\"n16-5\",\"parent\":\"n16-6\",\"order\":5,\"rbrother\":\"n16-7\",\"data\":{\"ord\":5,\"form\":\"ὄνυχος\",\"lemma\":\"ὄνυξ\",\"upos\":\"NOUN\",\"xpos\":\"n-s---mg-\",\"feats\":\"Case=Gen|Gender=Masc|Number=Sing\",\"deprel\":\"nmod\",\"misc\":\"Ref=25\",\"id\":\"16#5\"},\"labels\":[\"ὄνυχος\",\"#{#bb0000}NOUN\",\"#{#0000bb}nmod\"],\"hint\":\"lemma=ὄνυξ\\nCase=Gen\\nGender=Masc\\nNumber=Sing\"}\n",
       ",{\"id\":\"n16-6\",\"parent\":\"n16-4\",\"order\":6,\"firstson\":\"n16-5\",\"data\":{\"ord\":6,\"form\":\"ἄλοκι\",\"lemma\":\"αὖλαξ\",\"upos\":\"NOUN\",\"xpos\":\"n-s---fd-\",\"feats\":\"Case=Dat|Gender=Fem|Number=Sing\",\"deprel\":\"appos\",\"misc\":\"Ref=25\",\"id\":\"16#6\"},\"labels\":[\"ἄλοκι\",\"#{#bb0000}NOUN\",\"#{#0000bb}appos\"],\"hint\":\"lemma=αὖλαξ\\nCase=Dat\\nGender=Fem\\nNumber=Sing\"}\n",
       ",{\"id\":\"n16-7\",\"parent\":\"n16-6\",\"order\":7,\"data\":{\"ord\":7,\"form\":\"νεοτόμῳ\",\"lemma\":\"νεότομος\",\"upos\":\"ADJ\",\"xpos\":\"a-s---fd-\",\"feats\":\"Case=Dat|Gender=Fem|Number=Sing\",\"deprel\":\"amod\",\"misc\":\"Ref=25|SpaceAfter=No\",\"id\":\"16#7\"},\"labels\":[\"νεοτόμῳ\",\"#{#bb0000}ADJ\",\"#{#0000bb}amod\"],\"hint\":\"lemma=νεότομος\\nCase=Dat\\nGender=Fem\\nNumber=Sing\"}\n",
       ",{\"id\":\"n16-8\",\"parent\":\"n16-1\",\"order\":8,\"data\":{\"ord\":8,\"form\":\"·\",\"lemma\":\"·\",\"upos\":\"PUNCT\",\"xpos\":\"u--------\",\"feats\":\"_\",\"deprel\":\"punct\",\"misc\":\"Ref=25\",\"id\":\"16#8\"},\"labels\":[\"·\",\"#{#bb0000}PUNCT\",\"#{#0000bb}punct\"],\"hint\":\"lemma=·\\n_\"}\n",
       "]}}}\n",
       "},\"desc\":[[\"[grc_tb]\",\"label\"],[\" \",\"space\"],[\"πρέπει\",\"n16-1\"],[\" \",\"space\"],[\"παρηὶς\",\"n16-2\"],[\" \",\"space\"],[\"φοίνισσ'\",\"n16-3\"],[\" \",\"space\"],[\"ἀμυγμοῖς\",\"n16-4\"],[\" \",\"space\"],[\"ὄνυχος\",\"n16-5\"],[\" \",\"space\"],[\"ἄλοκι\",\"n16-6\"],[\" \",\"space\"],[\"νεοτόμῳ\",\"n16-7\"],[\"·\",\"n16-8\"],[\" \",\"space\"],[\"\\n\",\"newline\"],[\"[old_tb]\",\"label\"],[\" \",\"space\"],[\"πρέπει\",\"n16-1\"],[\" \",\"space\"],[\"παρηὶς\",\"n16-2\"],[\" \",\"space\"],[\"φοινίοις\",\"n16-3\"],[\" \",\"space\"],[\"ἀμυγμοῖς\",\"n16-4\"],[\" \",\"space\"],[\"ὄνυχος\",\"n16-5\"],[\" \",\"space\"],[\"ἄλοκι\",\"n16-6\"],[\" \",\"space\"],[\"νεοτόμῳ\",\"n16-7\"],[\"·\",\"n16-8\"],[\" \",\"space\"],[\"\\n\",\"newline\"]]}\n",
       "];\n",
       "$('#treex-view').treexView(data);\n",
       "function saveTree() {\n",
       "         var svg_el = jQuery('svg');\n",
       "         if (svg_el.length) {\n",
       "            var svg = new Blob([svg_el.parent().html()], {type: \"image/svg+xml\"});\n",
       "            saveAs(svg, 'tree.svg');\n",
       "         }\n",
       "        }\n",
       "</script></body></html>\n"
      ],
      "text/plain": [
       "<IPython.core.display.HTML object>"
      ]
     },
     "metadata": {},
     "output_type": "display_data"
    }
   ],
   "source": [
    "bund2 = aligndoc.aligned_bundle([sent2, altdoc.bundles[1].get_tree()], zones)"
   ]
  },
  {
   "cell_type": "code",
   "execution_count": 94,
   "id": "94ec9312-0ee5-4bf9-accd-fc123b6b063e",
   "metadata": {
    "tags": []
   },
   "outputs": [
    {
     "data": {
      "text/html": [
       "<!DOCTYPE html><html lang=\"en\"><head><meta charset=\"UTF-8\">\n",
       "<title>Udapi viewer</title>\n",
       "<script src=\"https://code.jquery.com/jquery-2.1.4.min.js\"></script>\n",
       "<script src=\"https://cdn.rawgit.com/eligrey/FileSaver.js/1.3.4/FileSaver.min.js\"></script>\n",
       "<script src=\"https://cdn.rawgit.com/ufal/js-treex-view/gh-pages/js-treex-view.js\"></script>\n",
       "</head>\n",
       "<body>\n",
       "<button style=\"float:right\" type=\"submit\" onclick=\"saveTree()\"><span>Save as SVG</span></button><div id=\"treex-view\"></div><script>\n",
       "data=[\n",
       "{\"zones\":{\"grc_tb\":{\"sentence\":\"ἰαλτὸς ἐκ δόμων ἔβαν χοὰς προπομπὸς ὀξύχειρι σὺν κτύπῳ.\",\"trees\":{\"a\":{\"language\":\"grc_tb\",\"nodes\":[\n",
       "{\"id\":\"n15\",\"parent\":null,\"firstson\":\"n15-4\",\"labels\":[\"zone=grc_tb\",\"id=15\"]}\n",
       ",{\"id\":\"n15-1\",\"parent\":\"n15-4\",\"order\":1,\"rbrother\":\"n15-3\",\"data\":{\"ord\":1,\"form\":\"ἰαλτὸς\",\"lemma\":\"ἰαλτός\",\"upos\":\"ADJ\",\"xpos\":\"a-s---fn-\",\"feats\":\"Case=Nom|Gender=Fem|Number=Sing\",\"deprel\":\"advcl:compl\",\"misc\":\"Ref=22\",\"id\":\"15#1\"},\"labels\":[\"ἰαλτὸς\",\"#{#bb0000}ADJ\",\"#{#0000bb}advcl:compl\"],\"hint\":\"lemma=ἰαλτός\\nCase=Nom\\nGender=Fem\\nNumber=Sing\"}\n",
       ",{\"id\":\"n15-2\",\"parent\":\"n15-3\",\"order\":2,\"data\":{\"ord\":2,\"form\":\"ἐκ\",\"lemma\":\"ἐκ\",\"upos\":\"ADP\",\"xpos\":\"r--------\",\"feats\":\"_\",\"deprel\":\"case\",\"misc\":\"Ref=22\",\"id\":\"15#2\"},\"labels\":[\"ἐκ\",\"#{#bb0000}ADP\",\"#{#0000bb}case\"],\"hint\":\"lemma=ἐκ\\n_\"}\n",
       ",{\"id\":\"n15-3\",\"parent\":\"n15-4\",\"order\":3,\"firstson\":\"n15-2\",\"rbrother\":\"n15-6\",\"data\":{\"ord\":3,\"form\":\"δόμων\",\"lemma\":\"δόμος\",\"upos\":\"NOUN\",\"xpos\":\"n-p---mg-\",\"feats\":\"Case=Gen|Gender=Masc|Number=Plur\",\"deprel\":\"obl:arg\",\"misc\":\"Ref=22\",\"id\":\"15#3\"},\"labels\":[\"δόμων\",\"#{#bb0000}NOUN\",\"#{#0000bb}obl:arg\"],\"hint\":\"lemma=δόμος\\nCase=Gen\\nGender=Masc\\nNumber=Plur\"}\n",
       ",{\"id\":\"n15-4\",\"parent\":\"n15\",\"order\":4,\"firstson\":\"n15-1\",\"data\":{\"ord\":4,\"form\":\"ἔβαν\",\"lemma\":\"βαίνω\",\"upos\":\"VERB\",\"xpos\":\"v1saia---\",\"feats\":\"Mood=Ind|Number=Sing|Person=1|Tense=Past|Voice=Act\",\"deprel\":\"root\",\"misc\":\"Ref=22\",\"id\":\"15#4\"},\"labels\":[\"ἔβαν\",\"#{#bb0000}VERB\",\"#{#0000bb}root\"],\"hint\":\"lemma=βαίνω\\nMood=Ind\\nNumber=Sing\\nPerson=1\\nTense=Past\\nVoice=Act\"}\n",
       ",{\"id\":\"n15-5\",\"parent\":\"n15-6\",\"order\":5,\"rbrother\":\"n15-9\",\"data\":{\"ord\":5,\"form\":\"χοὰς\",\"lemma\":\"χοή\",\"upos\":\"NOUN\",\"xpos\":\"n-p---fa-\",\"feats\":\"Case=Acc|Gender=Fem|Number=Plur\",\"deprel\":\"obj\",\"misc\":\"Ref=23|Ruling=ArgOfAdj\",\"id\":\"15#5\"},\"labels\":[\"χοὰς\",\"#{#bb0000}NOUN\",\"#{#0000bb}obj\"],\"hint\":\"lemma=χοή\\nCase=Acc\\nGender=Fem\\nNumber=Plur\"}\n",
       ",{\"id\":\"n15-6\",\"parent\":\"n15-4\",\"order\":6,\"firstson\":\"n15-5\",\"rbrother\":\"n15-10\",\"data\":{\"ord\":6,\"form\":\"προπομπὸς\",\"lemma\":\"προπομπός\",\"upos\":\"ADJ\",\"xpos\":\"a-s---fn-\",\"feats\":\"Case=Nom|Gender=Fem|Number=Sing\",\"deprel\":\"advcl:compl\",\"misc\":\"Ref=23\",\"id\":\"15#6\"},\"labels\":[\"προπομπὸς\",\"#{#bb0000}ADJ\",\"#{#0000bb}advcl:compl\"],\"hint\":\"lemma=προπομπός\\nCase=Nom\\nGender=Fem\\nNumber=Sing\"}\n",
       ",{\"id\":\"n15-7\",\"parent\":\"n15-9\",\"order\":7,\"rbrother\":\"n15-8\",\"data\":{\"ord\":7,\"form\":\"ὀξύχειρι\",\"lemma\":\"ὀξύχειρ\",\"upos\":\"NOUN\",\"xpos\":\"n-s---md-\",\"feats\":\"Case=Dat|Gender=Masc|Number=Sing\",\"deprel\":\"nmod\",\"misc\":\"Ref=23\",\"id\":\"15#7\"},\"labels\":[\"ὀξύχειρι\",\"#{#bb0000}NOUN\",\"#{#0000bb}nmod\"],\"hint\":\"lemma=ὀξύχειρ\\nCase=Dat\\nGender=Masc\\nNumber=Sing\"}\n",
       ",{\"id\":\"n15-8\",\"parent\":\"n15-9\",\"order\":8,\"data\":{\"ord\":8,\"form\":\"σὺν\",\"lemma\":\"σύν\",\"upos\":\"ADP\",\"xpos\":\"r--------\",\"feats\":\"_\",\"deprel\":\"case\",\"misc\":\"Ref=23\",\"id\":\"15#8\"},\"labels\":[\"σὺν\",\"#{#bb0000}ADP\",\"#{#0000bb}case\"],\"hint\":\"lemma=σύν\\n_\"}\n",
       ",{\"id\":\"n15-9\",\"parent\":\"n15-6\",\"order\":9,\"firstson\":\"n15-7\",\"data\":{\"ord\":9,\"form\":\"κτύπῳ\",\"lemma\":\"κτύπος\",\"upos\":\"NOUN\",\"xpos\":\"n-s---md-\",\"feats\":\"Case=Dat|Gender=Masc|Number=Sing\",\"deprel\":\"obl\",\"misc\":\"Ref=23|SpaceAfter=No\",\"id\":\"15#9\"},\"labels\":[\"κτύπῳ\",\"#{#bb0000}NOUN\",\"#{#0000bb}obl\"],\"hint\":\"lemma=κτύπος\\nCase=Dat\\nGender=Masc\\nNumber=Sing\"}\n",
       ",{\"id\":\"n15-10\",\"parent\":\"n15-4\",\"order\":10,\"data\":{\"ord\":10,\"form\":\".\",\"lemma\":\".\",\"upos\":\"PUNCT\",\"xpos\":\"u--------\",\"feats\":\"_\",\"deprel\":\"punct\",\"misc\":\"Ref=23\",\"id\":\"15#10\"},\"labels\":[\".\",\"#{#bb0000}PUNCT\",\"#{#0000bb}punct\"],\"hint\":\"lemma=.\\n_\"}\n",
       "]}}}\n",
       ",\"old_tb\":{\"sentence\":\"ἰαλτὸς ἐκ δόμων ἔβαν χοὰς προπομποῦσ' ὀξύχειρι σὺν κόπῳ.\",\"trees\":{\"a\":{\"language\":\"old_tb\",\"nodes\":[\n",
       "{\"id\":\"n15\",\"parent\":null,\"firstson\":\"n15-4\",\"labels\":[\"zone=old_tb\",\"id=15\"]}\n",
       ",{\"id\":\"n15-1\",\"parent\":\"n15-4\",\"order\":1,\"rbrother\":\"n15-3\",\"data\":{\"ord\":1,\"form\":\"ἰαλτὸς\",\"lemma\":\"ἰαλτός\",\"upos\":\"ADJ\",\"xpos\":\"a-s---fn-\",\"feats\":\"Case=Nom|Gender=Fem|Number=Sing\",\"deprel\":\"advcl:compl\",\"misc\":\"Ref=22\",\"id\":\"15#1\"},\"labels\":[\"ἰαλτὸς\",\"#{#bb0000}ADJ\",\"#{#0000bb}advcl:compl\"],\"hint\":\"lemma=ἰαλτός\\nCase=Nom\\nGender=Fem\\nNumber=Sing\"}\n",
       ",{\"id\":\"n15-2\",\"parent\":\"n15-3\",\"order\":2,\"data\":{\"ord\":2,\"form\":\"ἐκ\",\"lemma\":\"ἐκ\",\"upos\":\"ADP\",\"xpos\":\"r--------\",\"feats\":\"_\",\"deprel\":\"case\",\"misc\":\"Ref=22\",\"id\":\"15#2\"},\"labels\":[\"ἐκ\",\"#{#bb0000}ADP\",\"#{#0000bb}case\"],\"hint\":\"lemma=ἐκ\\n_\"}\n",
       ",{\"id\":\"n15-3\",\"parent\":\"n15-4\",\"order\":3,\"firstson\":\"n15-2\",\"rbrother\":\"n15-6\",\"data\":{\"ord\":3,\"form\":\"δόμων\",\"lemma\":\"δόμος\",\"upos\":\"NOUN\",\"xpos\":\"n-p---mg-\",\"feats\":\"Case=Gen|Gender=Masc|Number=Plur\",\"deprel\":\"obl:arg\",\"misc\":\"Ref=22\",\"id\":\"15#3\"},\"labels\":[\"δόμων\",\"#{#bb0000}NOUN\",\"#{#0000bb}obl:arg\"],\"hint\":\"lemma=δόμος\\nCase=Gen\\nGender=Masc\\nNumber=Plur\"}\n",
       ",{\"id\":\"n15-4\",\"parent\":\"n15\",\"order\":4,\"firstson\":\"n15-1\",\"data\":{\"ord\":4,\"form\":\"ἔβαν\",\"lemma\":\"βαίνω\",\"upos\":\"VERB\",\"xpos\":\"v1saia---\",\"feats\":\"Mood=Ind|Number=Sing|Person=1|Tense=Past|Voice=Act\",\"deprel\":\"root\",\"misc\":\"Ref=22\",\"id\":\"15#4\"},\"labels\":[\"ἔβαν\",\"#{#bb0000}VERB\",\"#{#0000bb}root\"],\"hint\":\"lemma=βαίνω\\nMood=Ind\\nNumber=Sing\\nPerson=1\\nTense=Past\\nVoice=Act\"}\n",
       ",{\"id\":\"n15-5\",\"parent\":\"n15-6\",\"order\":5,\"rbrother\":\"n15-9\",\"data\":{\"ord\":5,\"form\":\"χοὰς\",\"lemma\":\"χοή\",\"upos\":\"NOUN\",\"xpos\":\"n-p---fa-\",\"feats\":\"Case=Acc|Gender=Fem|Number=Plur\",\"deprel\":\"obj\",\"misc\":\"Ref=23|Ruling=ArgOfAdj\",\"id\":\"15#5\"},\"labels\":[\"χοὰς\",\"#{#bb0000}NOUN\",\"#{#0000bb}obj\"],\"hint\":\"lemma=χοή\\nCase=Acc\\nGender=Fem\\nNumber=Plur\"}\n",
       ",{\"id\":\"n15-6\",\"parent\":\"n15-4\",\"order\":6,\"firstson\":\"n15-5\",\"rbrother\":\"n15-10\",\"data\":{\"ord\":6,\"form\":\"προπομποῦσ'\",\"lemma\":\"προπέμπω\",\"upos\":\"VERB\",\"xpos\":\"a-s---fn-\",\"feats\":\"Case=Nom|Gender=Fem|Number=Sing\",\"deprel\":\"advcl\",\"misc\":\"Ref=23\",\"id\":\"15#6\"},\"labels\":[\"προπομποῦσ'\",\"#{#bb0000}VERB\",\"#{#0000bb}advcl\"],\"hint\":\"lemma=προπέμπω\\nCase=Nom\\nGender=Fem\\nNumber=Sing\"}\n",
       ",{\"id\":\"n15-7\",\"parent\":\"n15-9\",\"order\":7,\"rbrother\":\"n15-8\",\"data\":{\"ord\":7,\"form\":\"ὀξύχειρι\",\"lemma\":\"ὀξύχειρ\",\"upos\":\"NOUN\",\"xpos\":\"n-s---md-\",\"feats\":\"Case=Dat|Gender=Masc|Number=Sing\",\"deprel\":\"nmod\",\"misc\":\"Ref=23\",\"id\":\"15#7\"},\"labels\":[\"ὀξύχειρι\",\"#{#bb0000}NOUN\",\"#{#0000bb}nmod\"],\"hint\":\"lemma=ὀξύχειρ\\nCase=Dat\\nGender=Masc\\nNumber=Sing\"}\n",
       ",{\"id\":\"n15-8\",\"parent\":\"n15-9\",\"order\":8,\"data\":{\"ord\":8,\"form\":\"σὺν\",\"lemma\":\"σύν\",\"upos\":\"ADP\",\"xpos\":\"r--------\",\"feats\":\"_\",\"deprel\":\"case\",\"misc\":\"Ref=23\",\"id\":\"15#8\"},\"labels\":[\"σὺν\",\"#{#bb0000}ADP\",\"#{#0000bb}case\"],\"hint\":\"lemma=σύν\\n_\"}\n",
       ",{\"id\":\"n15-9\",\"parent\":\"n15-6\",\"order\":9,\"firstson\":\"n15-7\",\"data\":{\"ord\":9,\"form\":\"κόπῳ\",\"lemma\":\"κόπος\",\"upos\":\"NOUN\",\"xpos\":\"n-s---md-\",\"feats\":\"Case=Dat|Gender=Masc|Number=Sing\",\"deprel\":\"obl\",\"misc\":\"Ref=23|SpaceAfter=No\",\"id\":\"15#9\"},\"labels\":[\"κόπῳ\",\"#{#bb0000}NOUN\",\"#{#0000bb}obl\"],\"hint\":\"lemma=κόπος\\nCase=Dat\\nGender=Masc\\nNumber=Sing\"}\n",
       ",{\"id\":\"n15-10\",\"parent\":\"n15-4\",\"order\":10,\"data\":{\"ord\":10,\"form\":\".\",\"lemma\":\".\",\"upos\":\"PUNCT\",\"xpos\":\"u--------\",\"feats\":\"_\",\"deprel\":\"punct\",\"misc\":\"Ref=23\",\"id\":\"15#10\"},\"labels\":[\".\",\"#{#bb0000}PUNCT\",\"#{#0000bb}punct\"],\"hint\":\"lemma=.\\n_\"}\n",
       "]}}}\n",
       "},\"desc\":[[\"[grc_tb]\",\"label\"],[\" \",\"space\"],[\"ἰαλτὸς\",\"n15-1\"],[\" \",\"space\"],[\"ἐκ\",\"n15-2\"],[\" \",\"space\"],[\"δόμων\",\"n15-3\"],[\" \",\"space\"],[\"ἔβαν\",\"n15-4\"],[\" \",\"space\"],[\"χοὰς\",\"n15-5\"],[\" \",\"space\"],[\"προπομπὸς\",\"n15-6\"],[\" \",\"space\"],[\"ὀξύχειρι\",\"n15-7\"],[\" \",\"space\"],[\"σὺν\",\"n15-8\"],[\" \",\"space\"],[\"κτύπῳ\",\"n15-9\"],[\".\",\"n15-10\"],[\" \",\"space\"],[\"\\n\",\"newline\"],[\"[old_tb]\",\"label\"],[\" \",\"space\"],[\"ἰαλτὸς\",\"n15-1\"],[\" \",\"space\"],[\"ἐκ\",\"n15-2\"],[\" \",\"space\"],[\"δόμων\",\"n15-3\"],[\" \",\"space\"],[\"ἔβαν\",\"n15-4\"],[\" \",\"space\"],[\"χοὰς\",\"n15-5\"],[\" \",\"space\"],[\"προπομποῦσ'\",\"n15-6\"],[\" \",\"space\"],[\"ὀξύχειρι\",\"n15-7\"],[\" \",\"space\"],[\"σὺν\",\"n15-8\"],[\" \",\"space\"],[\"κόπῳ\",\"n15-9\"],[\".\",\"n15-10\"],[\" \",\"space\"],[\"\\n\",\"newline\"]]}\n",
       ",{\"zones\":{\"grc_tb\":{\"sentence\":\"πρέπει παρηὶς φοίνισσ' ἀμυγμοῖς ὄνυχος ἄλοκι νεοτόμῳ·\",\"trees\":{\"a\":{\"language\":\"grc_tb\",\"nodes\":[\n",
       "{\"id\":\"n16\",\"parent\":null,\"firstson\":\"n16-1\",\"labels\":[\"zone=grc_tb\",\"id=16\"]}\n",
       ",{\"id\":\"n16-1\",\"parent\":\"n16\",\"order\":1,\"firstson\":\"n16-2\",\"data\":{\"ord\":1,\"form\":\"πρέπει\",\"lemma\":\"πρέπω\",\"upos\":\"VERB\",\"xpos\":\"v3spia---\",\"feats\":\"Mood=Ind|Number=Sing|Person=3|Tense=Pres|Voice=Act\",\"deprel\":\"root\",\"misc\":\"Ref=24\",\"id\":\"16#1\"},\"labels\":[\"πρέπει\",\"#{#bb0000}VERB\",\"#{#0000bb}root\"],\"hint\":\"lemma=πρέπω\\nMood=Ind\\nNumber=Sing\\nPerson=3\\nTense=Pres\\nVoice=Act\"}\n",
       ",{\"id\":\"n16-2\",\"parent\":\"n16-1\",\"order\":2,\"firstson\":\"n16-3\",\"rbrother\":\"n16-4\",\"data\":{\"ord\":2,\"form\":\"παρηὶς\",\"lemma\":\"παρηίς\",\"upos\":\"NOUN\",\"xpos\":\"n-s---fn-\",\"feats\":\"Case=Nom|Gender=Fem|Number=Sing\",\"deprel\":\"nsubj\",\"misc\":\"Ref=24\",\"id\":\"16#2\"},\"labels\":[\"παρηὶς\",\"#{#bb0000}NOUN\",\"#{#0000bb}nsubj\"],\"hint\":\"lemma=παρηίς\\nCase=Nom\\nGender=Fem\\nNumber=Sing\"}\n",
       ",{\"id\":\"n16-3\",\"parent\":\"n16-2\",\"order\":3,\"data\":{\"ord\":3,\"form\":\"φοίνισσ'\",\"lemma\":\"φοῖνιξ\",\"upos\":\"ADJ\",\"xpos\":\"a-s---fn-\",\"feats\":\"Case=Nom|Gender=Fem|Number=Sing\",\"deprel\":\"amod\",\"misc\":\"Ref=24\",\"id\":\"16#3\"},\"labels\":[\"φοίνισσ'\",\"#{#bb0000}ADJ\",\"#{#0000bb}amod\"],\"hint\":\"lemma=φοῖνιξ\\nCase=Nom\\nGender=Fem\\nNumber=Sing\"}\n",
       ",{\"id\":\"n16-4\",\"parent\":\"n16-1\",\"order\":4,\"firstson\":\"n16-6\",\"rbrother\":\"n16-8\",\"data\":{\"ord\":4,\"form\":\"ἀμυγμοῖς\",\"lemma\":\"ἀμυγμός\",\"upos\":\"NOUN\",\"xpos\":\"n-p---md-\",\"feats\":\"Case=Dat|Gender=Masc|Number=Plur\",\"deprel\":\"obl\",\"misc\":\"Ref=24\",\"id\":\"16#4\"},\"labels\":[\"ἀμυγμοῖς\",\"#{#bb0000}NOUN\",\"#{#0000bb}obl\"],\"hint\":\"lemma=ἀμυγμός\\nCase=Dat\\nGender=Masc\\nNumber=Plur\"}\n",
       ",{\"id\":\"n16-5\",\"parent\":\"n16-6\",\"order\":5,\"rbrother\":\"n16-7\",\"data\":{\"ord\":5,\"form\":\"ὄνυχος\",\"lemma\":\"ὄνυξ\",\"upos\":\"NOUN\",\"xpos\":\"n-s---mg-\",\"feats\":\"Case=Gen|Gender=Masc|Number=Sing\",\"deprel\":\"nmod\",\"misc\":\"Ref=25\",\"id\":\"16#5\"},\"labels\":[\"ὄνυχος\",\"#{#bb0000}NOUN\",\"#{#0000bb}nmod\"],\"hint\":\"lemma=ὄνυξ\\nCase=Gen\\nGender=Masc\\nNumber=Sing\"}\n",
       ",{\"id\":\"n16-6\",\"parent\":\"n16-4\",\"order\":6,\"firstson\":\"n16-5\",\"data\":{\"ord\":6,\"form\":\"ἄλοκι\",\"lemma\":\"αὖλαξ\",\"upos\":\"NOUN\",\"xpos\":\"n-s---fd-\",\"feats\":\"Case=Dat|Gender=Fem|Number=Sing\",\"deprel\":\"appos\",\"misc\":\"Ref=25\",\"id\":\"16#6\"},\"labels\":[\"ἄλοκι\",\"#{#bb0000}NOUN\",\"#{#0000bb}appos\"],\"hint\":\"lemma=αὖλαξ\\nCase=Dat\\nGender=Fem\\nNumber=Sing\"}\n",
       ",{\"id\":\"n16-7\",\"parent\":\"n16-6\",\"order\":7,\"data\":{\"ord\":7,\"form\":\"νεοτόμῳ\",\"lemma\":\"νεότομος\",\"upos\":\"ADJ\",\"xpos\":\"a-s---fd-\",\"feats\":\"Case=Dat|Gender=Fem|Number=Sing\",\"deprel\":\"amod\",\"misc\":\"Ref=25|SpaceAfter=No\",\"id\":\"16#7\"},\"labels\":[\"νεοτόμῳ\",\"#{#bb0000}ADJ\",\"#{#0000bb}amod\"],\"hint\":\"lemma=νεότομος\\nCase=Dat\\nGender=Fem\\nNumber=Sing\"}\n",
       ",{\"id\":\"n16-8\",\"parent\":\"n16-1\",\"order\":8,\"data\":{\"ord\":8,\"form\":\"·\",\"lemma\":\"·\",\"upos\":\"PUNCT\",\"xpos\":\"u--------\",\"feats\":\"_\",\"deprel\":\"punct\",\"misc\":\"Ref=25\",\"id\":\"16#8\"},\"labels\":[\"·\",\"#{#bb0000}PUNCT\",\"#{#0000bb}punct\"],\"hint\":\"lemma=·\\n_\"}\n",
       "]}}}\n",
       ",\"old_tb\":{\"sentence\":\"πρέπει παρηὶς φοινίοις ἀμυγμοῖς ὄνυχος ἄλοκι νεοτόμῳ·\",\"trees\":{\"a\":{\"language\":\"old_tb\",\"nodes\":[\n",
       "{\"id\":\"n16\",\"parent\":null,\"firstson\":\"n16-1\",\"labels\":[\"zone=old_tb\",\"id=16\"]}\n",
       ",{\"id\":\"n16-1\",\"parent\":\"n16\",\"order\":1,\"firstson\":\"n16-2\",\"data\":{\"ord\":1,\"form\":\"πρέπει\",\"lemma\":\"πρέπω\",\"upos\":\"VERB\",\"xpos\":\"v3spia---\",\"feats\":\"Mood=Ind|Number=Sing|Person=3|Tense=Pres|Voice=Act\",\"deprel\":\"root\",\"misc\":\"Ref=24\",\"id\":\"16#1\"},\"labels\":[\"πρέπει\",\"#{#bb0000}VERB\",\"#{#0000bb}root\"],\"hint\":\"lemma=πρέπω\\nMood=Ind\\nNumber=Sing\\nPerson=3\\nTense=Pres\\nVoice=Act\"}\n",
       ",{\"id\":\"n16-2\",\"parent\":\"n16-1\",\"order\":2,\"rbrother\":\"n16-4\",\"data\":{\"ord\":2,\"form\":\"παρηὶς\",\"lemma\":\"παρηίς\",\"upos\":\"NOUN\",\"xpos\":\"n-s---fn-\",\"feats\":\"Case=Nom|Gender=Fem|Number=Sing\",\"deprel\":\"nsubj\",\"misc\":\"Ref=24\",\"id\":\"16#2\"},\"labels\":[\"παρηὶς\",\"#{#bb0000}NOUN\",\"#{#0000bb}nsubj\"],\"hint\":\"lemma=παρηίς\\nCase=Nom\\nGender=Fem\\nNumber=Sing\"}\n",
       ",{\"id\":\"n16-3\",\"parent\":\"n16-4\",\"order\":3,\"rbrother\":\"n16-6\",\"data\":{\"ord\":3,\"form\":\"φοινίοις\",\"lemma\":\"φοίνιος\",\"upos\":\"ADJ\",\"xpos\":\"a-p---md-\",\"feats\":\"Case=Dat|Gender=Masc|Number=Plur\",\"deprel\":\"amod\",\"misc\":\"Ref=24\",\"id\":\"16#3\"},\"labels\":[\"φοινίοις\",\"#{#bb0000}ADJ\",\"#{#0000bb}amod\"],\"hint\":\"lemma=φοίνιος\\nCase=Dat\\nGender=Masc\\nNumber=Plur\"}\n",
       ",{\"id\":\"n16-4\",\"parent\":\"n16-1\",\"order\":4,\"firstson\":\"n16-3\",\"rbrother\":\"n16-8\",\"data\":{\"ord\":4,\"form\":\"ἀμυγμοῖς\",\"lemma\":\"ἀμυγμός\",\"upos\":\"NOUN\",\"xpos\":\"n-p---md-\",\"feats\":\"Case=Dat|Gender=Masc|Number=Plur\",\"deprel\":\"obj\",\"misc\":\"Ref=24\",\"id\":\"16#4\"},\"labels\":[\"ἀμυγμοῖς\",\"#{#bb0000}NOUN\",\"#{#0000bb}obj\"],\"hint\":\"lemma=ἀμυγμός\\nCase=Dat\\nGender=Masc\\nNumber=Plur\"}\n",
       ",{\"id\":\"n16-5\",\"parent\":\"n16-6\",\"order\":5,\"rbrother\":\"n16-7\",\"data\":{\"ord\":5,\"form\":\"ὄνυχος\",\"lemma\":\"ὄνυξ\",\"upos\":\"NOUN\",\"xpos\":\"n-s---mg-\",\"feats\":\"Case=Gen|Gender=Masc|Number=Sing\",\"deprel\":\"nmod\",\"misc\":\"Ref=25\",\"id\":\"16#5\"},\"labels\":[\"ὄνυχος\",\"#{#bb0000}NOUN\",\"#{#0000bb}nmod\"],\"hint\":\"lemma=ὄνυξ\\nCase=Gen\\nGender=Masc\\nNumber=Sing\"}\n",
       ",{\"id\":\"n16-6\",\"parent\":\"n16-4\",\"order\":6,\"firstson\":\"n16-5\",\"data\":{\"ord\":6,\"form\":\"ἄλοκι\",\"lemma\":\"αὖλαξ\",\"upos\":\"NOUN\",\"xpos\":\"n-s---fd-\",\"feats\":\"Case=Dat|Gender=Fem|Number=Sing\",\"deprel\":\"appos\",\"misc\":\"Ref=25\",\"id\":\"16#6\"},\"labels\":[\"ἄλοκι\",\"#{#bb0000}NOUN\",\"#{#0000bb}appos\"],\"hint\":\"lemma=αὖλαξ\\nCase=Dat\\nGender=Fem\\nNumber=Sing\"}\n",
       ",{\"id\":\"n16-7\",\"parent\":\"n16-6\",\"order\":7,\"data\":{\"ord\":7,\"form\":\"νεοτόμῳ\",\"lemma\":\"νεότομος\",\"upos\":\"ADJ\",\"xpos\":\"a-s---fd-\",\"feats\":\"Case=Dat|Gender=Fem|Number=Sing\",\"deprel\":\"amod\",\"misc\":\"Ref=25|SpaceAfter=No\",\"id\":\"16#7\"},\"labels\":[\"νεοτόμῳ\",\"#{#bb0000}ADJ\",\"#{#0000bb}amod\"],\"hint\":\"lemma=νεότομος\\nCase=Dat\\nGender=Fem\\nNumber=Sing\"}\n",
       ",{\"id\":\"n16-8\",\"parent\":\"n16-1\",\"order\":8,\"data\":{\"ord\":8,\"form\":\"·\",\"lemma\":\"·\",\"upos\":\"PUNCT\",\"xpos\":\"u--------\",\"feats\":\"_\",\"deprel\":\"punct\",\"misc\":\"Ref=25\",\"id\":\"16#8\"},\"labels\":[\"·\",\"#{#bb0000}PUNCT\",\"#{#0000bb}punct\"],\"hint\":\"lemma=·\\n_\"}\n",
       "]}}}\n",
       "},\"desc\":[[\"[grc_tb]\",\"label\"],[\" \",\"space\"],[\"πρέπει\",\"n16-1\"],[\" \",\"space\"],[\"παρηὶς\",\"n16-2\"],[\" \",\"space\"],[\"φοίνισσ'\",\"n16-3\"],[\" \",\"space\"],[\"ἀμυγμοῖς\",\"n16-4\"],[\" \",\"space\"],[\"ὄνυχος\",\"n16-5\"],[\" \",\"space\"],[\"ἄλοκι\",\"n16-6\"],[\" \",\"space\"],[\"νεοτόμῳ\",\"n16-7\"],[\"·\",\"n16-8\"],[\" \",\"space\"],[\"\\n\",\"newline\"],[\"[old_tb]\",\"label\"],[\" \",\"space\"],[\"πρέπει\",\"n16-1\"],[\" \",\"space\"],[\"παρηὶς\",\"n16-2\"],[\" \",\"space\"],[\"φοινίοις\",\"n16-3\"],[\" \",\"space\"],[\"ἀμυγμοῖς\",\"n16-4\"],[\" \",\"space\"],[\"ὄνυχος\",\"n16-5\"],[\" \",\"space\"],[\"ἄλοκι\",\"n16-6\"],[\" \",\"space\"],[\"νεοτόμῳ\",\"n16-7\"],[\"·\",\"n16-8\"],[\" \",\"space\"],[\"\\n\",\"newline\"]]}\n",
       "];\n",
       "$('#treex-view').treexView(data);\n",
       "function saveTree() {\n",
       "         var svg_el = jQuery('svg');\n",
       "         if (svg_el.length) {\n",
       "            var svg = new Blob([svg_el.parent().html()], {type: \"image/svg+xml\"});\n",
       "            saveAs(svg, 'tree.svg');\n",
       "         }\n",
       "        }\n",
       "</script></body></html>\n"
      ],
      "text/plain": [
       "<IPython.core.display.HTML object>"
      ]
     },
     "metadata": {},
     "output_type": "display_data"
    }
   ],
   "source": [
    "display(HTML(aligndoc.to_html_string()))"
   ]
  },
  {
   "cell_type": "markdown",
   "id": "28283b69-3273-4cd1-9405-68fa03e0834c",
   "metadata": {},
   "source": [
    "### Sentence 19"
   ]
  },
  {
   "cell_type": "code",
   "execution_count": null,
   "id": "77cbbdd7-ce0d-46f9-a5bb-b1b76f122d91",
   "metadata": {},
   "outputs": [],
   "source": []
  },
  {
   "cell_type": "code",
   "execution_count": 96,
   "id": "875957df-4132-470c-8b5f-78a9bdb0079f",
   "metadata": {},
   "outputs": [],
   "source": [
    "bund3 = aligndoc.aligned_bundle([sent3, altdoc.bundles[2].get_tree(), altdoc.bundles[3].get_tree()], zones + ['gar_tb'])"
   ]
  },
  {
   "cell_type": "code",
   "execution_count": 98,
   "id": "4890807f-97ed-4138-8b5d-caf1ee6c1090",
   "metadata": {
    "tags": []
   },
   "outputs": [
    {
     "data": {
      "text/html": [
       "<!DOCTYPE html><html lang=\"en\"><head><meta charset=\"UTF-8\">\n",
       "<title>Udapi viewer</title>\n",
       "<script src=\"https://code.jquery.com/jquery-2.1.4.min.js\"></script>\n",
       "<script src=\"https://cdn.rawgit.com/eligrey/FileSaver.js/1.3.4/FileSaver.min.js\"></script>\n",
       "<script src=\"https://cdn.rawgit.com/ufal/js-treex-view/gh-pages/js-treex-view.js\"></script>\n",
       "</head>\n",
       "<body>\n",
       "<button style=\"float:right\" type=\"submit\" onclick=\"saveTree()\"><span>Save as SVG</span></button><div id=\"treex-view\"></div><script>\n",
       "data=[\n",
       "{\"zones\":{\"grc_tb\":{\"sentence\":\"ἰαλτὸς ἐκ δόμων ἔβαν χοὰς προπομπὸς ὀξύχειρι σὺν κτύπῳ.\",\"trees\":{\"a\":{\"language\":\"grc_tb\",\"nodes\":[\n",
       "{\"id\":\"n15\",\"parent\":null,\"firstson\":\"n15-4\",\"labels\":[\"zone=grc_tb\",\"id=15\"]}\n",
       ",{\"id\":\"n15-1\",\"parent\":\"n15-4\",\"order\":1,\"rbrother\":\"n15-3\",\"data\":{\"ord\":1,\"form\":\"ἰαλτὸς\",\"lemma\":\"ἰαλτός\",\"upos\":\"ADJ\",\"xpos\":\"a-s---fn-\",\"feats\":\"Case=Nom|Gender=Fem|Number=Sing\",\"deprel\":\"advcl:compl\",\"misc\":\"Ref=22\",\"id\":\"15#1\"},\"labels\":[\"ἰαλτὸς\",\"#{#bb0000}ADJ\",\"#{#0000bb}advcl:compl\"],\"hint\":\"lemma=ἰαλτός\\nCase=Nom\\nGender=Fem\\nNumber=Sing\"}\n",
       ",{\"id\":\"n15-2\",\"parent\":\"n15-3\",\"order\":2,\"data\":{\"ord\":2,\"form\":\"ἐκ\",\"lemma\":\"ἐκ\",\"upos\":\"ADP\",\"xpos\":\"r--------\",\"feats\":\"_\",\"deprel\":\"case\",\"misc\":\"Ref=22\",\"id\":\"15#2\"},\"labels\":[\"ἐκ\",\"#{#bb0000}ADP\",\"#{#0000bb}case\"],\"hint\":\"lemma=ἐκ\\n_\"}\n",
       ",{\"id\":\"n15-3\",\"parent\":\"n15-4\",\"order\":3,\"firstson\":\"n15-2\",\"rbrother\":\"n15-6\",\"data\":{\"ord\":3,\"form\":\"δόμων\",\"lemma\":\"δόμος\",\"upos\":\"NOUN\",\"xpos\":\"n-p---mg-\",\"feats\":\"Case=Gen|Gender=Masc|Number=Plur\",\"deprel\":\"obl:arg\",\"misc\":\"Ref=22\",\"id\":\"15#3\"},\"labels\":[\"δόμων\",\"#{#bb0000}NOUN\",\"#{#0000bb}obl:arg\"],\"hint\":\"lemma=δόμος\\nCase=Gen\\nGender=Masc\\nNumber=Plur\"}\n",
       ",{\"id\":\"n15-4\",\"parent\":\"n15\",\"order\":4,\"firstson\":\"n15-1\",\"data\":{\"ord\":4,\"form\":\"ἔβαν\",\"lemma\":\"βαίνω\",\"upos\":\"VERB\",\"xpos\":\"v1saia---\",\"feats\":\"Mood=Ind|Number=Sing|Person=1|Tense=Past|Voice=Act\",\"deprel\":\"root\",\"misc\":\"Ref=22\",\"id\":\"15#4\"},\"labels\":[\"ἔβαν\",\"#{#bb0000}VERB\",\"#{#0000bb}root\"],\"hint\":\"lemma=βαίνω\\nMood=Ind\\nNumber=Sing\\nPerson=1\\nTense=Past\\nVoice=Act\"}\n",
       ",{\"id\":\"n15-5\",\"parent\":\"n15-6\",\"order\":5,\"rbrother\":\"n15-9\",\"data\":{\"ord\":5,\"form\":\"χοὰς\",\"lemma\":\"χοή\",\"upos\":\"NOUN\",\"xpos\":\"n-p---fa-\",\"feats\":\"Case=Acc|Gender=Fem|Number=Plur\",\"deprel\":\"obj\",\"misc\":\"Ref=23|Ruling=ArgOfAdj\",\"id\":\"15#5\"},\"labels\":[\"χοὰς\",\"#{#bb0000}NOUN\",\"#{#0000bb}obj\"],\"hint\":\"lemma=χοή\\nCase=Acc\\nGender=Fem\\nNumber=Plur\"}\n",
       ",{\"id\":\"n15-6\",\"parent\":\"n15-4\",\"order\":6,\"firstson\":\"n15-5\",\"rbrother\":\"n15-10\",\"data\":{\"ord\":6,\"form\":\"προπομπὸς\",\"lemma\":\"προπομπός\",\"upos\":\"ADJ\",\"xpos\":\"a-s---fn-\",\"feats\":\"Case=Nom|Gender=Fem|Number=Sing\",\"deprel\":\"advcl:compl\",\"misc\":\"Ref=23\",\"id\":\"15#6\"},\"labels\":[\"προπομπὸς\",\"#{#bb0000}ADJ\",\"#{#0000bb}advcl:compl\"],\"hint\":\"lemma=προπομπός\\nCase=Nom\\nGender=Fem\\nNumber=Sing\"}\n",
       ",{\"id\":\"n15-7\",\"parent\":\"n15-9\",\"order\":7,\"rbrother\":\"n15-8\",\"data\":{\"ord\":7,\"form\":\"ὀξύχειρι\",\"lemma\":\"ὀξύχειρ\",\"upos\":\"NOUN\",\"xpos\":\"n-s---md-\",\"feats\":\"Case=Dat|Gender=Masc|Number=Sing\",\"deprel\":\"nmod\",\"misc\":\"Ref=23\",\"id\":\"15#7\"},\"labels\":[\"ὀξύχειρι\",\"#{#bb0000}NOUN\",\"#{#0000bb}nmod\"],\"hint\":\"lemma=ὀξύχειρ\\nCase=Dat\\nGender=Masc\\nNumber=Sing\"}\n",
       ",{\"id\":\"n15-8\",\"parent\":\"n15-9\",\"order\":8,\"data\":{\"ord\":8,\"form\":\"σὺν\",\"lemma\":\"σύν\",\"upos\":\"ADP\",\"xpos\":\"r--------\",\"feats\":\"_\",\"deprel\":\"case\",\"misc\":\"Ref=23\",\"id\":\"15#8\"},\"labels\":[\"σὺν\",\"#{#bb0000}ADP\",\"#{#0000bb}case\"],\"hint\":\"lemma=σύν\\n_\"}\n",
       ",{\"id\":\"n15-9\",\"parent\":\"n15-6\",\"order\":9,\"firstson\":\"n15-7\",\"data\":{\"ord\":9,\"form\":\"κτύπῳ\",\"lemma\":\"κτύπος\",\"upos\":\"NOUN\",\"xpos\":\"n-s---md-\",\"feats\":\"Case=Dat|Gender=Masc|Number=Sing\",\"deprel\":\"obl\",\"misc\":\"Ref=23|SpaceAfter=No\",\"id\":\"15#9\"},\"labels\":[\"κτύπῳ\",\"#{#bb0000}NOUN\",\"#{#0000bb}obl\"],\"hint\":\"lemma=κτύπος\\nCase=Dat\\nGender=Masc\\nNumber=Sing\"}\n",
       ",{\"id\":\"n15-10\",\"parent\":\"n15-4\",\"order\":10,\"data\":{\"ord\":10,\"form\":\".\",\"lemma\":\".\",\"upos\":\"PUNCT\",\"xpos\":\"u--------\",\"feats\":\"_\",\"deprel\":\"punct\",\"misc\":\"Ref=23\",\"id\":\"15#10\"},\"labels\":[\".\",\"#{#bb0000}PUNCT\",\"#{#0000bb}punct\"],\"hint\":\"lemma=.\\n_\"}\n",
       "]}}}\n",
       ",\"old_tb\":{\"sentence\":\"ἰαλτὸς ἐκ δόμων ἔβαν χοὰς προπομποῦσ' ὀξύχειρι σὺν κόπῳ.\",\"trees\":{\"a\":{\"language\":\"old_tb\",\"nodes\":[\n",
       "{\"id\":\"n15\",\"parent\":null,\"firstson\":\"n15-4\",\"labels\":[\"zone=old_tb\",\"id=15\"]}\n",
       ",{\"id\":\"n15-1\",\"parent\":\"n15-4\",\"order\":1,\"rbrother\":\"n15-3\",\"data\":{\"ord\":1,\"form\":\"ἰαλτὸς\",\"lemma\":\"ἰαλτός\",\"upos\":\"ADJ\",\"xpos\":\"a-s---fn-\",\"feats\":\"Case=Nom|Gender=Fem|Number=Sing\",\"deprel\":\"advcl:compl\",\"misc\":\"Ref=22\",\"id\":\"15#1\"},\"labels\":[\"ἰαλτὸς\",\"#{#bb0000}ADJ\",\"#{#0000bb}advcl:compl\"],\"hint\":\"lemma=ἰαλτός\\nCase=Nom\\nGender=Fem\\nNumber=Sing\"}\n",
       ",{\"id\":\"n15-2\",\"parent\":\"n15-3\",\"order\":2,\"data\":{\"ord\":2,\"form\":\"ἐκ\",\"lemma\":\"ἐκ\",\"upos\":\"ADP\",\"xpos\":\"r--------\",\"feats\":\"_\",\"deprel\":\"case\",\"misc\":\"Ref=22\",\"id\":\"15#2\"},\"labels\":[\"ἐκ\",\"#{#bb0000}ADP\",\"#{#0000bb}case\"],\"hint\":\"lemma=ἐκ\\n_\"}\n",
       ",{\"id\":\"n15-3\",\"parent\":\"n15-4\",\"order\":3,\"firstson\":\"n15-2\",\"rbrother\":\"n15-6\",\"data\":{\"ord\":3,\"form\":\"δόμων\",\"lemma\":\"δόμος\",\"upos\":\"NOUN\",\"xpos\":\"n-p---mg-\",\"feats\":\"Case=Gen|Gender=Masc|Number=Plur\",\"deprel\":\"obl:arg\",\"misc\":\"Ref=22\",\"id\":\"15#3\"},\"labels\":[\"δόμων\",\"#{#bb0000}NOUN\",\"#{#0000bb}obl:arg\"],\"hint\":\"lemma=δόμος\\nCase=Gen\\nGender=Masc\\nNumber=Plur\"}\n",
       ",{\"id\":\"n15-4\",\"parent\":\"n15\",\"order\":4,\"firstson\":\"n15-1\",\"data\":{\"ord\":4,\"form\":\"ἔβαν\",\"lemma\":\"βαίνω\",\"upos\":\"VERB\",\"xpos\":\"v1saia---\",\"feats\":\"Mood=Ind|Number=Sing|Person=1|Tense=Past|Voice=Act\",\"deprel\":\"root\",\"misc\":\"Ref=22\",\"id\":\"15#4\"},\"labels\":[\"ἔβαν\",\"#{#bb0000}VERB\",\"#{#0000bb}root\"],\"hint\":\"lemma=βαίνω\\nMood=Ind\\nNumber=Sing\\nPerson=1\\nTense=Past\\nVoice=Act\"}\n",
       ",{\"id\":\"n15-5\",\"parent\":\"n15-6\",\"order\":5,\"rbrother\":\"n15-9\",\"data\":{\"ord\":5,\"form\":\"χοὰς\",\"lemma\":\"χοή\",\"upos\":\"NOUN\",\"xpos\":\"n-p---fa-\",\"feats\":\"Case=Acc|Gender=Fem|Number=Plur\",\"deprel\":\"obj\",\"misc\":\"Ref=23|Ruling=ArgOfAdj\",\"id\":\"15#5\"},\"labels\":[\"χοὰς\",\"#{#bb0000}NOUN\",\"#{#0000bb}obj\"],\"hint\":\"lemma=χοή\\nCase=Acc\\nGender=Fem\\nNumber=Plur\"}\n",
       ",{\"id\":\"n15-6\",\"parent\":\"n15-4\",\"order\":6,\"firstson\":\"n15-5\",\"rbrother\":\"n15-10\",\"data\":{\"ord\":6,\"form\":\"προπομποῦσ'\",\"lemma\":\"προπέμπω\",\"upos\":\"VERB\",\"xpos\":\"a-s---fn-\",\"feats\":\"Case=Nom|Gender=Fem|Number=Sing\",\"deprel\":\"advcl\",\"misc\":\"Ref=23\",\"id\":\"15#6\"},\"labels\":[\"προπομποῦσ'\",\"#{#bb0000}VERB\",\"#{#0000bb}advcl\"],\"hint\":\"lemma=προπέμπω\\nCase=Nom\\nGender=Fem\\nNumber=Sing\"}\n",
       ",{\"id\":\"n15-7\",\"parent\":\"n15-9\",\"order\":7,\"rbrother\":\"n15-8\",\"data\":{\"ord\":7,\"form\":\"ὀξύχειρι\",\"lemma\":\"ὀξύχειρ\",\"upos\":\"NOUN\",\"xpos\":\"n-s---md-\",\"feats\":\"Case=Dat|Gender=Masc|Number=Sing\",\"deprel\":\"nmod\",\"misc\":\"Ref=23\",\"id\":\"15#7\"},\"labels\":[\"ὀξύχειρι\",\"#{#bb0000}NOUN\",\"#{#0000bb}nmod\"],\"hint\":\"lemma=ὀξύχειρ\\nCase=Dat\\nGender=Masc\\nNumber=Sing\"}\n",
       ",{\"id\":\"n15-8\",\"parent\":\"n15-9\",\"order\":8,\"data\":{\"ord\":8,\"form\":\"σὺν\",\"lemma\":\"σύν\",\"upos\":\"ADP\",\"xpos\":\"r--------\",\"feats\":\"_\",\"deprel\":\"case\",\"misc\":\"Ref=23\",\"id\":\"15#8\"},\"labels\":[\"σὺν\",\"#{#bb0000}ADP\",\"#{#0000bb}case\"],\"hint\":\"lemma=σύν\\n_\"}\n",
       ",{\"id\":\"n15-9\",\"parent\":\"n15-6\",\"order\":9,\"firstson\":\"n15-7\",\"data\":{\"ord\":9,\"form\":\"κόπῳ\",\"lemma\":\"κόπος\",\"upos\":\"NOUN\",\"xpos\":\"n-s---md-\",\"feats\":\"Case=Dat|Gender=Masc|Number=Sing\",\"deprel\":\"obl\",\"misc\":\"Ref=23|SpaceAfter=No\",\"id\":\"15#9\"},\"labels\":[\"κόπῳ\",\"#{#bb0000}NOUN\",\"#{#0000bb}obl\"],\"hint\":\"lemma=κόπος\\nCase=Dat\\nGender=Masc\\nNumber=Sing\"}\n",
       ",{\"id\":\"n15-10\",\"parent\":\"n15-4\",\"order\":10,\"data\":{\"ord\":10,\"form\":\".\",\"lemma\":\".\",\"upos\":\"PUNCT\",\"xpos\":\"u--------\",\"feats\":\"_\",\"deprel\":\"punct\",\"misc\":\"Ref=23\",\"id\":\"15#10\"},\"labels\":[\".\",\"#{#bb0000}PUNCT\",\"#{#0000bb}punct\"],\"hint\":\"lemma=.\\n_\"}\n",
       "]}}}\n",
       "},\"desc\":[[\"[grc_tb]\",\"label\"],[\" \",\"space\"],[\"ἰαλτὸς\",\"n15-1\"],[\" \",\"space\"],[\"ἐκ\",\"n15-2\"],[\" \",\"space\"],[\"δόμων\",\"n15-3\"],[\" \",\"space\"],[\"ἔβαν\",\"n15-4\"],[\" \",\"space\"],[\"χοὰς\",\"n15-5\"],[\" \",\"space\"],[\"προπομπὸς\",\"n15-6\"],[\" \",\"space\"],[\"ὀξύχειρι\",\"n15-7\"],[\" \",\"space\"],[\"σὺν\",\"n15-8\"],[\" \",\"space\"],[\"κτύπῳ\",\"n15-9\"],[\".\",\"n15-10\"],[\" \",\"space\"],[\"\\n\",\"newline\"],[\"[old_tb]\",\"label\"],[\" \",\"space\"],[\"ἰαλτὸς\",\"n15-1\"],[\" \",\"space\"],[\"ἐκ\",\"n15-2\"],[\" \",\"space\"],[\"δόμων\",\"n15-3\"],[\" \",\"space\"],[\"ἔβαν\",\"n15-4\"],[\" \",\"space\"],[\"χοὰς\",\"n15-5\"],[\" \",\"space\"],[\"προπομποῦσ'\",\"n15-6\"],[\" \",\"space\"],[\"ὀξύχειρι\",\"n15-7\"],[\" \",\"space\"],[\"σὺν\",\"n15-8\"],[\" \",\"space\"],[\"κόπῳ\",\"n15-9\"],[\".\",\"n15-10\"],[\" \",\"space\"],[\"\\n\",\"newline\"]]}\n",
       ",{\"zones\":{\"grc_tb\":{\"sentence\":\"πρέπει παρηὶς φοίνισσ' ἀμυγμοῖς ὄνυχος ἄλοκι νεοτόμῳ·\",\"trees\":{\"a\":{\"language\":\"grc_tb\",\"nodes\":[\n",
       "{\"id\":\"n16\",\"parent\":null,\"firstson\":\"n16-1\",\"labels\":[\"zone=grc_tb\",\"id=16\"]}\n",
       ",{\"id\":\"n16-1\",\"parent\":\"n16\",\"order\":1,\"firstson\":\"n16-2\",\"data\":{\"ord\":1,\"form\":\"πρέπει\",\"lemma\":\"πρέπω\",\"upos\":\"VERB\",\"xpos\":\"v3spia---\",\"feats\":\"Mood=Ind|Number=Sing|Person=3|Tense=Pres|Voice=Act\",\"deprel\":\"root\",\"misc\":\"Ref=24\",\"id\":\"16#1\"},\"labels\":[\"πρέπει\",\"#{#bb0000}VERB\",\"#{#0000bb}root\"],\"hint\":\"lemma=πρέπω\\nMood=Ind\\nNumber=Sing\\nPerson=3\\nTense=Pres\\nVoice=Act\"}\n",
       ",{\"id\":\"n16-2\",\"parent\":\"n16-1\",\"order\":2,\"firstson\":\"n16-3\",\"rbrother\":\"n16-4\",\"data\":{\"ord\":2,\"form\":\"παρηὶς\",\"lemma\":\"παρηίς\",\"upos\":\"NOUN\",\"xpos\":\"n-s---fn-\",\"feats\":\"Case=Nom|Gender=Fem|Number=Sing\",\"deprel\":\"nsubj\",\"misc\":\"Ref=24\",\"id\":\"16#2\"},\"labels\":[\"παρηὶς\",\"#{#bb0000}NOUN\",\"#{#0000bb}nsubj\"],\"hint\":\"lemma=παρηίς\\nCase=Nom\\nGender=Fem\\nNumber=Sing\"}\n",
       ",{\"id\":\"n16-3\",\"parent\":\"n16-2\",\"order\":3,\"data\":{\"ord\":3,\"form\":\"φοίνισσ'\",\"lemma\":\"φοῖνιξ\",\"upos\":\"ADJ\",\"xpos\":\"a-s---fn-\",\"feats\":\"Case=Nom|Gender=Fem|Number=Sing\",\"deprel\":\"amod\",\"misc\":\"Ref=24\",\"id\":\"16#3\"},\"labels\":[\"φοίνισσ'\",\"#{#bb0000}ADJ\",\"#{#0000bb}amod\"],\"hint\":\"lemma=φοῖνιξ\\nCase=Nom\\nGender=Fem\\nNumber=Sing\"}\n",
       ",{\"id\":\"n16-4\",\"parent\":\"n16-1\",\"order\":4,\"firstson\":\"n16-6\",\"rbrother\":\"n16-8\",\"data\":{\"ord\":4,\"form\":\"ἀμυγμοῖς\",\"lemma\":\"ἀμυγμός\",\"upos\":\"NOUN\",\"xpos\":\"n-p---md-\",\"feats\":\"Case=Dat|Gender=Masc|Number=Plur\",\"deprel\":\"obl\",\"misc\":\"Ref=24\",\"id\":\"16#4\"},\"labels\":[\"ἀμυγμοῖς\",\"#{#bb0000}NOUN\",\"#{#0000bb}obl\"],\"hint\":\"lemma=ἀμυγμός\\nCase=Dat\\nGender=Masc\\nNumber=Plur\"}\n",
       ",{\"id\":\"n16-5\",\"parent\":\"n16-6\",\"order\":5,\"rbrother\":\"n16-7\",\"data\":{\"ord\":5,\"form\":\"ὄνυχος\",\"lemma\":\"ὄνυξ\",\"upos\":\"NOUN\",\"xpos\":\"n-s---mg-\",\"feats\":\"Case=Gen|Gender=Masc|Number=Sing\",\"deprel\":\"nmod\",\"misc\":\"Ref=25\",\"id\":\"16#5\"},\"labels\":[\"ὄνυχος\",\"#{#bb0000}NOUN\",\"#{#0000bb}nmod\"],\"hint\":\"lemma=ὄνυξ\\nCase=Gen\\nGender=Masc\\nNumber=Sing\"}\n",
       ",{\"id\":\"n16-6\",\"parent\":\"n16-4\",\"order\":6,\"firstson\":\"n16-5\",\"data\":{\"ord\":6,\"form\":\"ἄλοκι\",\"lemma\":\"αὖλαξ\",\"upos\":\"NOUN\",\"xpos\":\"n-s---fd-\",\"feats\":\"Case=Dat|Gender=Fem|Number=Sing\",\"deprel\":\"appos\",\"misc\":\"Ref=25\",\"id\":\"16#6\"},\"labels\":[\"ἄλοκι\",\"#{#bb0000}NOUN\",\"#{#0000bb}appos\"],\"hint\":\"lemma=αὖλαξ\\nCase=Dat\\nGender=Fem\\nNumber=Sing\"}\n",
       ",{\"id\":\"n16-7\",\"parent\":\"n16-6\",\"order\":7,\"data\":{\"ord\":7,\"form\":\"νεοτόμῳ\",\"lemma\":\"νεότομος\",\"upos\":\"ADJ\",\"xpos\":\"a-s---fd-\",\"feats\":\"Case=Dat|Gender=Fem|Number=Sing\",\"deprel\":\"amod\",\"misc\":\"Ref=25|SpaceAfter=No\",\"id\":\"16#7\"},\"labels\":[\"νεοτόμῳ\",\"#{#bb0000}ADJ\",\"#{#0000bb}amod\"],\"hint\":\"lemma=νεότομος\\nCase=Dat\\nGender=Fem\\nNumber=Sing\"}\n",
       ",{\"id\":\"n16-8\",\"parent\":\"n16-1\",\"order\":8,\"data\":{\"ord\":8,\"form\":\"·\",\"lemma\":\"·\",\"upos\":\"PUNCT\",\"xpos\":\"u--------\",\"feats\":\"_\",\"deprel\":\"punct\",\"misc\":\"Ref=25\",\"id\":\"16#8\"},\"labels\":[\"·\",\"#{#bb0000}PUNCT\",\"#{#0000bb}punct\"],\"hint\":\"lemma=·\\n_\"}\n",
       "]}}}\n",
       ",\"old_tb\":{\"sentence\":\"πρέπει παρηὶς φοινίοις ἀμυγμοῖς ὄνυχος ἄλοκι νεοτόμῳ·\",\"trees\":{\"a\":{\"language\":\"old_tb\",\"nodes\":[\n",
       "{\"id\":\"n16\",\"parent\":null,\"firstson\":\"n16-1\",\"labels\":[\"zone=old_tb\",\"id=16\"]}\n",
       ",{\"id\":\"n16-1\",\"parent\":\"n16\",\"order\":1,\"firstson\":\"n16-2\",\"data\":{\"ord\":1,\"form\":\"πρέπει\",\"lemma\":\"πρέπω\",\"upos\":\"VERB\",\"xpos\":\"v3spia---\",\"feats\":\"Mood=Ind|Number=Sing|Person=3|Tense=Pres|Voice=Act\",\"deprel\":\"root\",\"misc\":\"Ref=24\",\"id\":\"16#1\"},\"labels\":[\"πρέπει\",\"#{#bb0000}VERB\",\"#{#0000bb}root\"],\"hint\":\"lemma=πρέπω\\nMood=Ind\\nNumber=Sing\\nPerson=3\\nTense=Pres\\nVoice=Act\"}\n",
       ",{\"id\":\"n16-2\",\"parent\":\"n16-1\",\"order\":2,\"rbrother\":\"n16-4\",\"data\":{\"ord\":2,\"form\":\"παρηὶς\",\"lemma\":\"παρηίς\",\"upos\":\"NOUN\",\"xpos\":\"n-s---fn-\",\"feats\":\"Case=Nom|Gender=Fem|Number=Sing\",\"deprel\":\"nsubj\",\"misc\":\"Ref=24\",\"id\":\"16#2\"},\"labels\":[\"παρηὶς\",\"#{#bb0000}NOUN\",\"#{#0000bb}nsubj\"],\"hint\":\"lemma=παρηίς\\nCase=Nom\\nGender=Fem\\nNumber=Sing\"}\n",
       ",{\"id\":\"n16-3\",\"parent\":\"n16-4\",\"order\":3,\"rbrother\":\"n16-6\",\"data\":{\"ord\":3,\"form\":\"φοινίοις\",\"lemma\":\"φοίνιος\",\"upos\":\"ADJ\",\"xpos\":\"a-p---md-\",\"feats\":\"Case=Dat|Gender=Masc|Number=Plur\",\"deprel\":\"amod\",\"misc\":\"Ref=24\",\"id\":\"16#3\"},\"labels\":[\"φοινίοις\",\"#{#bb0000}ADJ\",\"#{#0000bb}amod\"],\"hint\":\"lemma=φοίνιος\\nCase=Dat\\nGender=Masc\\nNumber=Plur\"}\n",
       ",{\"id\":\"n16-4\",\"parent\":\"n16-1\",\"order\":4,\"firstson\":\"n16-3\",\"rbrother\":\"n16-8\",\"data\":{\"ord\":4,\"form\":\"ἀμυγμοῖς\",\"lemma\":\"ἀμυγμός\",\"upos\":\"NOUN\",\"xpos\":\"n-p---md-\",\"feats\":\"Case=Dat|Gender=Masc|Number=Plur\",\"deprel\":\"obj\",\"misc\":\"Ref=24\",\"id\":\"16#4\"},\"labels\":[\"ἀμυγμοῖς\",\"#{#bb0000}NOUN\",\"#{#0000bb}obj\"],\"hint\":\"lemma=ἀμυγμός\\nCase=Dat\\nGender=Masc\\nNumber=Plur\"}\n",
       ",{\"id\":\"n16-5\",\"parent\":\"n16-6\",\"order\":5,\"rbrother\":\"n16-7\",\"data\":{\"ord\":5,\"form\":\"ὄνυχος\",\"lemma\":\"ὄνυξ\",\"upos\":\"NOUN\",\"xpos\":\"n-s---mg-\",\"feats\":\"Case=Gen|Gender=Masc|Number=Sing\",\"deprel\":\"nmod\",\"misc\":\"Ref=25\",\"id\":\"16#5\"},\"labels\":[\"ὄνυχος\",\"#{#bb0000}NOUN\",\"#{#0000bb}nmod\"],\"hint\":\"lemma=ὄνυξ\\nCase=Gen\\nGender=Masc\\nNumber=Sing\"}\n",
       ",{\"id\":\"n16-6\",\"parent\":\"n16-4\",\"order\":6,\"firstson\":\"n16-5\",\"data\":{\"ord\":6,\"form\":\"ἄλοκι\",\"lemma\":\"αὖλαξ\",\"upos\":\"NOUN\",\"xpos\":\"n-s---fd-\",\"feats\":\"Case=Dat|Gender=Fem|Number=Sing\",\"deprel\":\"appos\",\"misc\":\"Ref=25\",\"id\":\"16#6\"},\"labels\":[\"ἄλοκι\",\"#{#bb0000}NOUN\",\"#{#0000bb}appos\"],\"hint\":\"lemma=αὖλαξ\\nCase=Dat\\nGender=Fem\\nNumber=Sing\"}\n",
       ",{\"id\":\"n16-7\",\"parent\":\"n16-6\",\"order\":7,\"data\":{\"ord\":7,\"form\":\"νεοτόμῳ\",\"lemma\":\"νεότομος\",\"upos\":\"ADJ\",\"xpos\":\"a-s---fd-\",\"feats\":\"Case=Dat|Gender=Fem|Number=Sing\",\"deprel\":\"amod\",\"misc\":\"Ref=25|SpaceAfter=No\",\"id\":\"16#7\"},\"labels\":[\"νεοτόμῳ\",\"#{#bb0000}ADJ\",\"#{#0000bb}amod\"],\"hint\":\"lemma=νεότομος\\nCase=Dat\\nGender=Fem\\nNumber=Sing\"}\n",
       ",{\"id\":\"n16-8\",\"parent\":\"n16-1\",\"order\":8,\"data\":{\"ord\":8,\"form\":\"·\",\"lemma\":\"·\",\"upos\":\"PUNCT\",\"xpos\":\"u--------\",\"feats\":\"_\",\"deprel\":\"punct\",\"misc\":\"Ref=25\",\"id\":\"16#8\"},\"labels\":[\"·\",\"#{#bb0000}PUNCT\",\"#{#0000bb}punct\"],\"hint\":\"lemma=·\\n_\"}\n",
       "]}}}\n",
       "},\"desc\":[[\"[grc_tb]\",\"label\"],[\" \",\"space\"],[\"πρέπει\",\"n16-1\"],[\" \",\"space\"],[\"παρηὶς\",\"n16-2\"],[\" \",\"space\"],[\"φοίνισσ'\",\"n16-3\"],[\" \",\"space\"],[\"ἀμυγμοῖς\",\"n16-4\"],[\" \",\"space\"],[\"ὄνυχος\",\"n16-5\"],[\" \",\"space\"],[\"ἄλοκι\",\"n16-6\"],[\" \",\"space\"],[\"νεοτόμῳ\",\"n16-7\"],[\"·\",\"n16-8\"],[\" \",\"space\"],[\"\\n\",\"newline\"],[\"[old_tb]\",\"label\"],[\" \",\"space\"],[\"πρέπει\",\"n16-1\"],[\" \",\"space\"],[\"παρηὶς\",\"n16-2\"],[\" \",\"space\"],[\"φοινίοις\",\"n16-3\"],[\" \",\"space\"],[\"ἀμυγμοῖς\",\"n16-4\"],[\" \",\"space\"],[\"ὄνυχος\",\"n16-5\"],[\" \",\"space\"],[\"ἄλοκι\",\"n16-6\"],[\" \",\"space\"],[\"νεοτόμῳ\",\"n16-7\"],[\"·\",\"n16-8\"],[\" \",\"space\"],[\"\\n\",\"newline\"]]}\n",
       ",{\"zones\":{\"grc_tb\":{\"sentence\":\"τορὸς γὰρ ὀρθόθριξ δόμων ὀνειρόμαντις, ἐξ ὕπνου κότον πνέων, ἀωρόνυκτον ἀμβόαμα μυχόθεν ἔλακε περὶ φόβῳ, γυναικείοισιν ἐν δώμασιν βαρὺς πίτνων.\",\"trees\":{\"a\":{\"language\":\"grc_tb\",\"nodes\":[\n",
       "{\"id\":\"n19\",\"parent\":null,\"firstson\":\"n19-15\",\"labels\":[\"zone=grc_tb\",\"id=19\"]}\n",
       ",{\"id\":\"n19-1\",\"parent\":\"n19-3\",\"order\":1,\"data\":{\"ord\":1,\"form\":\"τορὸς\",\"lemma\":\"τορός\",\"upos\":\"ADJ\",\"xpos\":\"a-s---mn-\",\"feats\":\"Case=Nom|Gender=Masc|Number=Sing\",\"deprel\":\"acl:compl\",\"misc\":\"Ref=32\",\"id\":\"19#1\"},\"labels\":[\"τορὸς\",\"#{#bb0000}ADJ\",\"#{#0000bb}acl:compl\"],\"hint\":\"lemma=τορός\\nCase=Nom\\nGender=Masc\\nNumber=Sing\"}\n",
       ",{\"id\":\"n19-2\",\"parent\":\"n19-15\",\"order\":2,\"rbrother\":\"n19-5\",\"data\":{\"ord\":2,\"form\":\"γὰρ\",\"lemma\":\"γάρ\",\"upos\":\"ADV\",\"xpos\":\"g--------\",\"feats\":\"PartType=Ptcl\",\"deprel\":\"advmod\",\"misc\":\"Ref=32\",\"id\":\"19#2\"},\"labels\":[\"γὰρ\",\"#{#bb0000}ADV\",\"#{#0000bb}advmod\"],\"hint\":\"lemma=γάρ\\nPartType=Ptcl\"}\n",
       ",{\"id\":\"n19-3\",\"parent\":\"n19-5\",\"order\":3,\"firstson\":\"n19-1\",\"rbrother\":\"n19-4\",\"data\":{\"ord\":3,\"form\":\"ὀρθόθριξ\",\"lemma\":\"ὀρθόθριξ\",\"upos\":\"NOUN\",\"xpos\":\"n-s---mn-\",\"feats\":\"Case=Nom|Gender=Masc|Number=Sing\",\"deprel\":\"nmod\",\"misc\":\"Ref=32\",\"id\":\"19#3\"},\"labels\":[\"ὀρθόθριξ\",\"#{#bb0000}NOUN\",\"#{#0000bb}nmod\"],\"hint\":\"lemma=ὀρθόθριξ\\nCase=Nom\\nGender=Masc\\nNumber=Sing\"}\n",
       ",{\"id\":\"n19-4\",\"parent\":\"n19-5\",\"order\":4,\"data\":{\"ord\":4,\"form\":\"δόμων\",\"lemma\":\"δόμος\",\"upos\":\"NOUN\",\"xpos\":\"n-p---mg-\",\"feats\":\"Case=Gen|Gender=Masc|Number=Plur\",\"deprel\":\"nmod\",\"misc\":\"Ref=33\",\"id\":\"19#4\"},\"labels\":[\"δόμων\",\"#{#bb0000}NOUN\",\"#{#0000bb}nmod\"],\"hint\":\"lemma=δόμος\\nCase=Gen\\nGender=Masc\\nNumber=Plur\"}\n",
       ",{\"id\":\"n19-5\",\"parent\":\"n19-15\",\"order\":5,\"firstson\":\"n19-3\",\"rbrother\":\"n19-10\",\"data\":{\"ord\":5,\"form\":\"ὀνειρόμαντις\",\"lemma\":\"ὀνειρόμαντις\",\"upos\":\"NOUN\",\"xpos\":\"n-s---mn-\",\"feats\":\"Case=Nom|Gender=Masc|Number=Sing\",\"deprel\":\"nmod\",\"misc\":\"Ref=33|SpaceAfter=No\",\"id\":\"19#5\"},\"labels\":[\"ὀνειρόμαντις\",\"#{#bb0000}NOUN\",\"#{#0000bb}nmod\"],\"hint\":\"lemma=ὀνειρόμαντις\\nCase=Nom\\nGender=Masc\\nNumber=Sing\"}\n",
       ",{\"id\":\"n19-6\",\"parent\":\"n19-10\",\"order\":6,\"rbrother\":\"n19-8\",\"data\":{\"ord\":6,\"form\":\",\",\"lemma\":\",\",\"upos\":\"PUNCT\",\"xpos\":\"u--------\",\"feats\":\"_\",\"deprel\":\"punct\",\"misc\":\"Ref=33\",\"id\":\"19#6\"},\"labels\":[\",\",\"#{#bb0000}PUNCT\",\"#{#0000bb}punct\"],\"hint\":\"lemma=,\\n_\"}\n",
       ",{\"id\":\"n19-7\",\"parent\":\"n19-8\",\"order\":7,\"data\":{\"ord\":7,\"form\":\"ἐξ\",\"lemma\":\"ἐκ\",\"upos\":\"ADP\",\"xpos\":\"r--------\",\"feats\":\"_\",\"deprel\":\"case\",\"misc\":\"Ref=33\",\"id\":\"19#7\"},\"labels\":[\"ἐξ\",\"#{#bb0000}ADP\",\"#{#0000bb}case\"],\"hint\":\"lemma=ἐκ\\n_\"}\n",
       ",{\"id\":\"n19-8\",\"parent\":\"n19-10\",\"order\":8,\"firstson\":\"n19-7\",\"rbrother\":\"n19-9\",\"data\":{\"ord\":8,\"form\":\"ὕπνου\",\"lemma\":\"ὕπνος\",\"upos\":\"NOUN\",\"xpos\":\"n-s---mg-\",\"feats\":\"Case=Gen|Gender=Masc|Number=Sing\",\"deprel\":\"obl\",\"misc\":\"Ref=33\",\"id\":\"19#8\"},\"labels\":[\"ὕπνου\",\"#{#bb0000}NOUN\",\"#{#0000bb}obl\"],\"hint\":\"lemma=ὕπνος\\nCase=Gen\\nGender=Masc\\nNumber=Sing\"}\n",
       ",{\"id\":\"n19-9\",\"parent\":\"n19-10\",\"order\":9,\"rbrother\":\"n19-11\",\"data\":{\"ord\":9,\"form\":\"κότον\",\"lemma\":\"κότος\",\"upos\":\"NOUN\",\"xpos\":\"n-s---ma-\",\"feats\":\"Case=Acc|Gender=Masc|Number=Sing\",\"deprel\":\"obj\",\"misc\":\"Ref=33\",\"id\":\"19#9\"},\"labels\":[\"κότον\",\"#{#bb0000}NOUN\",\"#{#0000bb}obj\"],\"hint\":\"lemma=κότος\\nCase=Acc\\nGender=Masc\\nNumber=Sing\"}\n",
       ",{\"id\":\"n19-10\",\"parent\":\"n19-15\",\"order\":10,\"firstson\":\"n19-6\",\"rbrother\":\"n19-13\",\"data\":{\"ord\":10,\"form\":\"πνέων\",\"lemma\":\"πνέω\",\"upos\":\"VERB\",\"xpos\":\"v-sppamn-\",\"feats\":\"Case=Nom|Gender=Masc|Number=Sing|Tense=Pres|VerbForm=Part|Voice=Pass\",\"deprel\":\"advcl\",\"misc\":\"Ref=34|SpaceAfter=No\",\"id\":\"19#10\"},\"labels\":[\"πνέων\",\"#{#bb0000}VERB\",\"#{#0000bb}advcl\"],\"hint\":\"lemma=πνέω\\nCase=Nom\\nGender=Masc\\nNumber=Sing\\nTense=Pres\\nVerbForm=Part\\nVoice=Pass\"}\n",
       ",{\"id\":\"n19-11\",\"parent\":\"n19-10\",\"order\":11,\"data\":{\"ord\":11,\"form\":\",\",\"lemma\":\",\",\"upos\":\"PUNCT\",\"xpos\":\"u--------\",\"feats\":\"_\",\"deprel\":\"punct\",\"misc\":\"Ref=34\",\"id\":\"19#11\"},\"labels\":[\",\",\"#{#bb0000}PUNCT\",\"#{#0000bb}punct\"],\"hint\":\"lemma=,\\n_\"}\n",
       ",{\"id\":\"n19-12\",\"parent\":\"n19-13\",\"order\":12,\"data\":{\"ord\":12,\"form\":\"ἀωρόνυκτον\",\"lemma\":\"ἀωρόνυκτος\",\"upos\":\"ADJ\",\"xpos\":\"a-s---na-\",\"feats\":\"Case=Acc|Gender=Neut|Number=Sing\",\"deprel\":\"amod\",\"misc\":\"Ref=34\",\"id\":\"19#12\"},\"labels\":[\"ἀωρόνυκτον\",\"#{#bb0000}ADJ\",\"#{#0000bb}amod\"],\"hint\":\"lemma=ἀωρόνυκτος\\nCase=Acc\\nGender=Neut\\nNumber=Sing\"}\n",
       ",{\"id\":\"n19-13\",\"parent\":\"n19-15\",\"order\":13,\"firstson\":\"n19-12\",\"rbrother\":\"n19-14\",\"data\":{\"ord\":13,\"form\":\"ἀμβόαμα\",\"lemma\":\"ἀναβόαμα\",\"upos\":\"NOUN\",\"xpos\":\"n-s---na-\",\"feats\":\"Case=Acc|Gender=Neut|Number=Sing\",\"deprel\":\"obj\",\"misc\":\"Ref=34\",\"id\":\"19#13\"},\"labels\":[\"ἀμβόαμα\",\"#{#bb0000}NOUN\",\"#{#0000bb}obj\"],\"hint\":\"lemma=ἀναβόαμα\\nCase=Acc\\nGender=Neut\\nNumber=Sing\"}\n",
       ",{\"id\":\"n19-14\",\"parent\":\"n19-15\",\"order\":14,\"rbrother\":\"n19-17\",\"data\":{\"ord\":14,\"form\":\"μυχόθεν\",\"lemma\":\"μυχόθεν\",\"upos\":\"ADV\",\"xpos\":\"d--------\",\"feats\":\"_\",\"deprel\":\"advmod\",\"misc\":\"Ref=35\",\"id\":\"19#14\"},\"labels\":[\"μυχόθεν\",\"#{#bb0000}ADV\",\"#{#0000bb}advmod\"],\"hint\":\"lemma=μυχόθεν\\n_\"}\n",
       ",{\"id\":\"n19-15\",\"parent\":\"n19\",\"order\":15,\"firstson\":\"n19-2\",\"data\":{\"ord\":15,\"form\":\"ἔλακε\",\"lemma\":\"λάσκω\",\"upos\":\"VERB\",\"xpos\":\"v3saia---\",\"feats\":\"Mood=Ind|Number=Sing|Person=3|Tense=Past|Voice=Act\",\"deprel\":\"root\",\"misc\":\"Ref=35\",\"id\":\"19#15\"},\"labels\":[\"ἔλακε\",\"#{#bb0000}VERB\",\"#{#0000bb}root\"],\"hint\":\"lemma=λάσκω\\nMood=Ind\\nNumber=Sing\\nPerson=3\\nTense=Past\\nVoice=Act\"}\n",
       ",{\"id\":\"n19-16\",\"parent\":\"n19-17\",\"order\":16,\"data\":{\"ord\":16,\"form\":\"περὶ\",\"lemma\":\"περί\",\"upos\":\"ADP\",\"xpos\":\"r--------\",\"feats\":\"_\",\"deprel\":\"case\",\"misc\":\"Ref=35\",\"id\":\"19#16\"},\"labels\":[\"περὶ\",\"#{#bb0000}ADP\",\"#{#0000bb}case\"],\"hint\":\"lemma=περί\\n_\"}\n",
       ",{\"id\":\"n19-17\",\"parent\":\"n19-15\",\"order\":17,\"firstson\":\"n19-16\",\"rbrother\":\"n19-23\",\"data\":{\"ord\":17,\"form\":\"φόβῳ\",\"lemma\":\"φόβος\",\"upos\":\"NOUN\",\"xpos\":\"n-s---md-\",\"feats\":\"Case=Dat|Gender=Masc|Number=Sing\",\"deprel\":\"obl\",\"misc\":\"Ref=35|SpaceAfter=No\",\"id\":\"19#17\"},\"labels\":[\"φόβῳ\",\"#{#bb0000}NOUN\",\"#{#0000bb}obl\"],\"hint\":\"lemma=φόβος\\nCase=Dat\\nGender=Masc\\nNumber=Sing\"}\n",
       ",{\"id\":\"n19-18\",\"parent\":\"n19-23\",\"order\":18,\"rbrother\":\"n19-21\",\"data\":{\"ord\":18,\"form\":\",\",\"lemma\":\",\",\"upos\":\"PUNCT\",\"xpos\":\"u--------\",\"feats\":\"_\",\"deprel\":\"punct\",\"misc\":\"Ref=35\",\"id\":\"19#18\"},\"labels\":[\",\",\"#{#bb0000}PUNCT\",\"#{#0000bb}punct\"],\"hint\":\"lemma=,\\n_\"}\n",
       ",{\"id\":\"n19-19\",\"parent\":\"n19-21\",\"order\":19,\"rbrother\":\"n19-20\",\"data\":{\"ord\":19,\"form\":\"γυναικείοισιν\",\"lemma\":\"γυναικεῖος\",\"upos\":\"ADJ\",\"xpos\":\"a-p---nd-\",\"feats\":\"Case=Dat|Gender=Neut|Number=Plur\",\"deprel\":\"amod\",\"misc\":\"Ref=36\",\"id\":\"19#19\"},\"labels\":[\"γυναικείοισιν\",\"#{#bb0000}ADJ\",\"#{#0000bb}amod\"],\"hint\":\"lemma=γυναικεῖος\\nCase=Dat\\nGender=Neut\\nNumber=Plur\"}\n",
       ",{\"id\":\"n19-20\",\"parent\":\"n19-21\",\"order\":20,\"data\":{\"ord\":20,\"form\":\"ἐν\",\"lemma\":\"ἐν\",\"upos\":\"ADP\",\"xpos\":\"r--------\",\"feats\":\"_\",\"deprel\":\"case\",\"misc\":\"Ref=36\",\"id\":\"19#20\"},\"labels\":[\"ἐν\",\"#{#bb0000}ADP\",\"#{#0000bb}case\"],\"hint\":\"lemma=ἐν\\n_\"}\n",
       ",{\"id\":\"n19-21\",\"parent\":\"n19-23\",\"order\":21,\"firstson\":\"n19-19\",\"rbrother\":\"n19-22\",\"data\":{\"ord\":21,\"form\":\"δώμασιν\",\"lemma\":\"δῶμα\",\"upos\":\"NOUN\",\"xpos\":\"n-p---nd-\",\"feats\":\"Case=Dat|Gender=Neut|Number=Plur\",\"deprel\":\"obl:arg\",\"misc\":\"Ref=36\",\"id\":\"19#21\"},\"labels\":[\"δώμασιν\",\"#{#bb0000}NOUN\",\"#{#0000bb}obl:arg\"],\"hint\":\"lemma=δῶμα\\nCase=Dat\\nGender=Neut\\nNumber=Plur\"}\n",
       ",{\"id\":\"n19-22\",\"parent\":\"n19-23\",\"order\":22,\"data\":{\"ord\":22,\"form\":\"βαρὺς\",\"lemma\":\"βαρύς\",\"upos\":\"ADJ\",\"xpos\":\"a-s---mn-\",\"feats\":\"Case=Nom|Gender=Masc|Number=Sing\",\"deprel\":\"advcl:compl\",\"misc\":\"Ref=36\",\"id\":\"19#22\"},\"labels\":[\"βαρὺς\",\"#{#bb0000}ADJ\",\"#{#0000bb}advcl:compl\"],\"hint\":\"lemma=βαρύς\\nCase=Nom\\nGender=Masc\\nNumber=Sing\"}\n",
       ",{\"id\":\"n19-23\",\"parent\":\"n19-15\",\"order\":23,\"firstson\":\"n19-18\",\"rbrother\":\"n19-24\",\"data\":{\"ord\":23,\"form\":\"πίτνων\",\"lemma\":\"πίπτω\",\"upos\":\"VERB\",\"xpos\":\"v-sppamn-\",\"feats\":\"Case=Nom|Gender=Masc|Number=Sing|Tense=Pres|VerbForm=Part|Voice=Pass\",\"deprel\":\"advcl\",\"misc\":\"Ref=36|SpaceAfter=No\",\"id\":\"19#23\"},\"labels\":[\"πίτνων\",\"#{#bb0000}VERB\",\"#{#0000bb}advcl\"],\"hint\":\"lemma=πίπτω\\nCase=Nom\\nGender=Masc\\nNumber=Sing\\nTense=Pres\\nVerbForm=Part\\nVoice=Pass\"}\n",
       ",{\"id\":\"n19-24\",\"parent\":\"n19-15\",\"order\":24,\"data\":{\"ord\":24,\"form\":\".\",\"lemma\":\".\",\"upos\":\"PUNCT\",\"xpos\":\"u--------\",\"feats\":\"_\",\"deprel\":\"punct\",\"misc\":\"Ref=36\",\"id\":\"19#24\"},\"labels\":[\".\",\"#{#bb0000}PUNCT\",\"#{#0000bb}punct\"],\"hint\":\"lemma=.\\n_\"}\n",
       "]}}}\n",
       ",\"old_tb\":{\"sentence\":\"τορὸς δὲ Φοῖβος ὀρθόθριξ δόμων ὀνειρόμαντις, ἐξ ὕπνου κότον πνέων, ἀωρόνυκτον ἀμβόαμα μυχόθεν ἔλακε περὶ φόβῳ, γυναικείοισιν ἐν δώμασιν βαρὺς πίτνων.\",\"trees\":{\"a\":{\"language\":\"old_tb\",\"nodes\":[\n",
       "{\"id\":\"n19\",\"parent\":null,\"firstson\":\"n19-16\",\"labels\":[\"zone=old_tb\",\"id=19\"]}\n",
       ",{\"id\":\"n19-1\",\"parent\":\"n19-3\",\"order\":1,\"rbrother\":\"n19-4\",\"data\":{\"ord\":1,\"form\":\"τορὸς\",\"lemma\":\"τορός\",\"upos\":\"ADJ\",\"xpos\":\"a-s---mn-\",\"feats\":\"Case=Nom|Gender=Masc|Number=Sing\",\"deprel\":\"acl:compl\",\"misc\":\"Ref=32\",\"id\":\"19#1\"},\"labels\":[\"τορὸς\",\"#{#bb0000}ADJ\",\"#{#0000bb}acl:compl\"],\"hint\":\"lemma=τορός\\nCase=Nom\\nGender=Masc\\nNumber=Sing\"}\n",
       ",{\"id\":\"n19-2\",\"parent\":\"n19-16\",\"order\":2,\"rbrother\":\"n19-3\",\"data\":{\"ord\":2,\"form\":\"δὲ\",\"lemma\":\"δέ\",\"upos\":\"ADV\",\"xpos\":\"g--------\",\"feats\":\"PartType=Ptcl\",\"deprel\":\"advmod\",\"misc\":\"Ref=32\",\"id\":\"19#2\"},\"labels\":[\"δὲ\",\"#{#bb0000}ADV\",\"#{#0000bb}advmod\"],\"hint\":\"lemma=δέ\\nPartType=Ptcl\"}\n",
       ",{\"id\":\"n19-3\",\"parent\":\"n19-16\",\"order\":3,\"firstson\":\"n19-1\",\"rbrother\":\"n19-11\",\"data\":{\"ord\":3,\"form\":\"Φοῖβος\",\"lemma\":\"Φοῖβος\",\"upos\":\"PROPN\",\"xpos\":\"n-s---mn-\",\"feats\":\"Case=Nom|Gender=Masc|Number=Sing\",\"deprel\":\"nsubj\",\"misc\":\"Ref=32\",\"id\":\"19#3\"},\"labels\":[\"Φοῖβος\",\"#{#bb0000}PROPN\",\"#{#0000bb}nsubj\"],\"hint\":\"lemma=Φοῖβος\\nCase=Nom\\nGender=Masc\\nNumber=Sing\"}\n",
       ",{\"id\":\"n19-4\",\"parent\":\"n19-3\",\"order\":4,\"rbrother\":\"n19-6\",\"data\":{\"ord\":4,\"form\":\"ὀρθόθριξ\",\"lemma\":\"ὀρθόθριξ\",\"upos\":\"NOUN\",\"xpos\":\"n-s---mn-\",\"feats\":\"Case=Nom|Gender=Masc|Number=Sing\",\"deprel\":\"nmod\",\"misc\":\"Ref=32\",\"id\":\"19#4\"},\"labels\":[\"ὀρθόθριξ\",\"#{#bb0000}NOUN\",\"#{#0000bb}nmod\"],\"hint\":\"lemma=ὀρθόθριξ\\nCase=Nom\\nGender=Masc\\nNumber=Sing\"}\n",
       ",{\"id\":\"n19-5\",\"parent\":\"n19-6\",\"order\":5,\"data\":{\"ord\":5,\"form\":\"δόμων\",\"lemma\":\"δόμος\",\"upos\":\"NOUN\",\"xpos\":\"n-p---mg-\",\"feats\":\"Case=Gen|Gender=Masc|Number=Plur\",\"deprel\":\"nmod\",\"misc\":\"Ref=33\",\"id\":\"19#5\"},\"labels\":[\"δόμων\",\"#{#bb0000}NOUN\",\"#{#0000bb}nmod\"],\"hint\":\"lemma=δόμος\\nCase=Gen\\nGender=Masc\\nNumber=Plur\"}\n",
       ",{\"id\":\"n19-6\",\"parent\":\"n19-3\",\"order\":6,\"firstson\":\"n19-5\",\"data\":{\"ord\":6,\"form\":\"ὀνειρόμαντις\",\"lemma\":\"ὀνειρόμαντις\",\"upos\":\"NOUN\",\"xpos\":\"n-s---mn-\",\"feats\":\"Case=Nom|Gender=Masc|Number=Sing\",\"deprel\":\"nmod\",\"misc\":\"Ref=33|SpaceAfter=No\",\"id\":\"19#6\"},\"labels\":[\"ὀνειρόμαντις\",\"#{#bb0000}NOUN\",\"#{#0000bb}nmod\"],\"hint\":\"lemma=ὀνειρόμαντις\\nCase=Nom\\nGender=Masc\\nNumber=Sing\"}\n",
       ",{\"id\":\"n19-7\",\"parent\":\"n19-11\",\"order\":7,\"rbrother\":\"n19-9\",\"data\":{\"ord\":7,\"form\":\",\",\"lemma\":\",\",\"upos\":\"PUNCT\",\"xpos\":\"u--------\",\"feats\":\"_\",\"deprel\":\"punct\",\"misc\":\"Ref=33\",\"id\":\"19#7\"},\"labels\":[\",\",\"#{#bb0000}PUNCT\",\"#{#0000bb}punct\"],\"hint\":\"lemma=,\\n_\"}\n",
       ",{\"id\":\"n19-8\",\"parent\":\"n19-9\",\"order\":8,\"data\":{\"ord\":8,\"form\":\"ἐξ\",\"lemma\":\"ἐκ\",\"upos\":\"ADP\",\"xpos\":\"r--------\",\"feats\":\"_\",\"deprel\":\"case\",\"misc\":\"Ref=33\",\"id\":\"19#8\"},\"labels\":[\"ἐξ\",\"#{#bb0000}ADP\",\"#{#0000bb}case\"],\"hint\":\"lemma=ἐκ\\n_\"}\n",
       ",{\"id\":\"n19-9\",\"parent\":\"n19-11\",\"order\":9,\"firstson\":\"n19-8\",\"rbrother\":\"n19-10\",\"data\":{\"ord\":9,\"form\":\"ὕπνου\",\"lemma\":\"ὕπνος\",\"upos\":\"NOUN\",\"xpos\":\"n-s---mg-\",\"feats\":\"Case=Gen|Gender=Masc|Number=Sing\",\"deprel\":\"obl\",\"misc\":\"Ref=33\",\"id\":\"19#9\"},\"labels\":[\"ὕπνου\",\"#{#bb0000}NOUN\",\"#{#0000bb}obl\"],\"hint\":\"lemma=ὕπνος\\nCase=Gen\\nGender=Masc\\nNumber=Sing\"}\n",
       ",{\"id\":\"n19-10\",\"parent\":\"n19-11\",\"order\":10,\"rbrother\":\"n19-12\",\"data\":{\"ord\":10,\"form\":\"κότον\",\"lemma\":\"κότος\",\"upos\":\"NOUN\",\"xpos\":\"n-s---ma-\",\"feats\":\"Case=Acc|Gender=Masc|Number=Sing\",\"deprel\":\"obj\",\"misc\":\"Ref=33\",\"id\":\"19#10\"},\"labels\":[\"κότον\",\"#{#bb0000}NOUN\",\"#{#0000bb}obj\"],\"hint\":\"lemma=κότος\\nCase=Acc\\nGender=Masc\\nNumber=Sing\"}\n",
       ",{\"id\":\"n19-11\",\"parent\":\"n19-16\",\"order\":11,\"firstson\":\"n19-7\",\"rbrother\":\"n19-14\",\"data\":{\"ord\":11,\"form\":\"πνέων\",\"lemma\":\"πνέω\",\"upos\":\"VERB\",\"xpos\":\"v-sppamn-\",\"feats\":\"Case=Nom|Gender=Masc|Number=Sing|Tense=Pres|VerbForm=Part|Voice=Pass\",\"deprel\":\"advcl\",\"misc\":\"Ref=34|SpaceAfter=No\",\"id\":\"19#11\"},\"labels\":[\"πνέων\",\"#{#bb0000}VERB\",\"#{#0000bb}advcl\"],\"hint\":\"lemma=πνέω\\nCase=Nom\\nGender=Masc\\nNumber=Sing\\nTense=Pres\\nVerbForm=Part\\nVoice=Pass\"}\n",
       ",{\"id\":\"n19-12\",\"parent\":\"n19-11\",\"order\":12,\"data\":{\"ord\":12,\"form\":\",\",\"lemma\":\",\",\"upos\":\"PUNCT\",\"xpos\":\"u--------\",\"feats\":\"_\",\"deprel\":\"punct\",\"misc\":\"Ref=34\",\"id\":\"19#12\"},\"labels\":[\",\",\"#{#bb0000}PUNCT\",\"#{#0000bb}punct\"],\"hint\":\"lemma=,\\n_\"}\n",
       ",{\"id\":\"n19-13\",\"parent\":\"n19-14\",\"order\":13,\"data\":{\"ord\":13,\"form\":\"ἀωρόνυκτον\",\"lemma\":\"ἀωρόνυκτος\",\"upos\":\"ADJ\",\"xpos\":\"a-s---na-\",\"feats\":\"Case=Acc|Gender=Neut|Number=Sing\",\"deprel\":\"amod\",\"misc\":\"Ref=34\",\"id\":\"19#13\"},\"labels\":[\"ἀωρόνυκτον\",\"#{#bb0000}ADJ\",\"#{#0000bb}amod\"],\"hint\":\"lemma=ἀωρόνυκτος\\nCase=Acc\\nGender=Neut\\nNumber=Sing\"}\n",
       ",{\"id\":\"n19-14\",\"parent\":\"n19-16\",\"order\":14,\"firstson\":\"n19-13\",\"rbrother\":\"n19-15\",\"data\":{\"ord\":14,\"form\":\"ἀμβόαμα\",\"lemma\":\"ἀναβόαμα\",\"upos\":\"NOUN\",\"xpos\":\"n-s---na-\",\"feats\":\"Case=Acc|Gender=Neut|Number=Sing\",\"deprel\":\"obj\",\"misc\":\"Ref=34\",\"id\":\"19#14\"},\"labels\":[\"ἀμβόαμα\",\"#{#bb0000}NOUN\",\"#{#0000bb}obj\"],\"hint\":\"lemma=ἀναβόαμα\\nCase=Acc\\nGender=Neut\\nNumber=Sing\"}\n",
       ",{\"id\":\"n19-15\",\"parent\":\"n19-16\",\"order\":15,\"rbrother\":\"n19-18\",\"data\":{\"ord\":15,\"form\":\"μυχόθεν\",\"lemma\":\"μυχόθεν\",\"upos\":\"ADV\",\"xpos\":\"d--------\",\"feats\":\"_\",\"deprel\":\"advmod\",\"misc\":\"Ref=35\",\"id\":\"19#15\"},\"labels\":[\"μυχόθεν\",\"#{#bb0000}ADV\",\"#{#0000bb}advmod\"],\"hint\":\"lemma=μυχόθεν\\n_\"}\n",
       ",{\"id\":\"n19-16\",\"parent\":\"n19\",\"order\":16,\"firstson\":\"n19-2\",\"data\":{\"ord\":16,\"form\":\"ἔλακε\",\"lemma\":\"λάσκω\",\"upos\":\"VERB\",\"xpos\":\"v3saia---\",\"feats\":\"Mood=Ind|Number=Sing|Person=3|Tense=Past|Voice=Act\",\"deprel\":\"root\",\"misc\":\"Ref=35\",\"id\":\"19#16\"},\"labels\":[\"ἔλακε\",\"#{#bb0000}VERB\",\"#{#0000bb}root\"],\"hint\":\"lemma=λάσκω\\nMood=Ind\\nNumber=Sing\\nPerson=3\\nTense=Past\\nVoice=Act\"}\n",
       ",{\"id\":\"n19-17\",\"parent\":\"n19-18\",\"order\":17,\"data\":{\"ord\":17,\"form\":\"περὶ\",\"lemma\":\"περί\",\"upos\":\"ADP\",\"xpos\":\"r--------\",\"feats\":\"_\",\"deprel\":\"case\",\"misc\":\"Ref=35\",\"id\":\"19#17\"},\"labels\":[\"περὶ\",\"#{#bb0000}ADP\",\"#{#0000bb}case\"],\"hint\":\"lemma=περί\\n_\"}\n",
       ",{\"id\":\"n19-18\",\"parent\":\"n19-16\",\"order\":18,\"firstson\":\"n19-17\",\"rbrother\":\"n19-24\",\"data\":{\"ord\":18,\"form\":\"φόβῳ\",\"lemma\":\"φόβος\",\"upos\":\"NOUN\",\"xpos\":\"n-s---md-\",\"feats\":\"Case=Dat|Gender=Masc|Number=Sing\",\"deprel\":\"obl\",\"misc\":\"Ref=35|SpaceAfter=No\",\"id\":\"19#18\"},\"labels\":[\"φόβῳ\",\"#{#bb0000}NOUN\",\"#{#0000bb}obl\"],\"hint\":\"lemma=φόβος\\nCase=Dat\\nGender=Masc\\nNumber=Sing\"}\n",
       ",{\"id\":\"n19-19\",\"parent\":\"n19-24\",\"order\":19,\"rbrother\":\"n19-22\",\"data\":{\"ord\":19,\"form\":\",\",\"lemma\":\",\",\"upos\":\"PUNCT\",\"xpos\":\"u--------\",\"feats\":\"_\",\"deprel\":\"punct\",\"misc\":\"Ref=35\",\"id\":\"19#19\"},\"labels\":[\",\",\"#{#bb0000}PUNCT\",\"#{#0000bb}punct\"],\"hint\":\"lemma=,\\n_\"}\n",
       ",{\"id\":\"n19-20\",\"parent\":\"n19-22\",\"order\":20,\"rbrother\":\"n19-21\",\"data\":{\"ord\":20,\"form\":\"γυναικείοισιν\",\"lemma\":\"γυναικεῖος\",\"upos\":\"ADJ\",\"xpos\":\"a-p---nd-\",\"feats\":\"Case=Dat|Gender=Neut|Number=Plur\",\"deprel\":\"amod\",\"misc\":\"Ref=36\",\"id\":\"19#20\"},\"labels\":[\"γυναικείοισιν\",\"#{#bb0000}ADJ\",\"#{#0000bb}amod\"],\"hint\":\"lemma=γυναικεῖος\\nCase=Dat\\nGender=Neut\\nNumber=Plur\"}\n",
       ",{\"id\":\"n19-21\",\"parent\":\"n19-22\",\"order\":21,\"data\":{\"ord\":21,\"form\":\"ἐν\",\"lemma\":\"ἐν\",\"upos\":\"ADP\",\"xpos\":\"r--------\",\"feats\":\"_\",\"deprel\":\"case\",\"misc\":\"Ref=36\",\"id\":\"19#21\"},\"labels\":[\"ἐν\",\"#{#bb0000}ADP\",\"#{#0000bb}case\"],\"hint\":\"lemma=ἐν\\n_\"}\n",
       ",{\"id\":\"n19-22\",\"parent\":\"n19-24\",\"order\":22,\"firstson\":\"n19-20\",\"rbrother\":\"n19-23\",\"data\":{\"ord\":22,\"form\":\"δώμασιν\",\"lemma\":\"δῶμα\",\"upos\":\"NOUN\",\"xpos\":\"n-p---nd-\",\"feats\":\"Case=Dat|Gender=Neut|Number=Plur\",\"deprel\":\"obl:arg\",\"misc\":\"Ref=36\",\"id\":\"19#22\"},\"labels\":[\"δώμασιν\",\"#{#bb0000}NOUN\",\"#{#0000bb}obl:arg\"],\"hint\":\"lemma=δῶμα\\nCase=Dat\\nGender=Neut\\nNumber=Plur\"}\n",
       ",{\"id\":\"n19-23\",\"parent\":\"n19-24\",\"order\":23,\"data\":{\"ord\":23,\"form\":\"βαρὺς\",\"lemma\":\"βαρύς\",\"upos\":\"ADJ\",\"xpos\":\"a-s---mn-\",\"feats\":\"Case=Nom|Gender=Masc|Number=Sing\",\"deprel\":\"advcl:compl\",\"misc\":\"Ref=36\",\"id\":\"19#23\"},\"labels\":[\"βαρὺς\",\"#{#bb0000}ADJ\",\"#{#0000bb}advcl:compl\"],\"hint\":\"lemma=βαρύς\\nCase=Nom\\nGender=Masc\\nNumber=Sing\"}\n",
       ",{\"id\":\"n19-24\",\"parent\":\"n19-16\",\"order\":24,\"firstson\":\"n19-19\",\"rbrother\":\"n19-25\",\"data\":{\"ord\":24,\"form\":\"πίτνων\",\"lemma\":\"πίπτω\",\"upos\":\"VERB\",\"xpos\":\"v-sppamn-\",\"feats\":\"Case=Nom|Gender=Masc|Number=Sing|Tense=Pres|VerbForm=Part|Voice=Pass\",\"deprel\":\"advcl\",\"misc\":\"Ref=36|SpaceAfter=No\",\"id\":\"19#24\"},\"labels\":[\"πίτνων\",\"#{#bb0000}VERB\",\"#{#0000bb}advcl\"],\"hint\":\"lemma=πίπτω\\nCase=Nom\\nGender=Masc\\nNumber=Sing\\nTense=Pres\\nVerbForm=Part\\nVoice=Pass\"}\n",
       ",{\"id\":\"n19-25\",\"parent\":\"n19-16\",\"order\":25,\"data\":{\"ord\":25,\"form\":\".\",\"lemma\":\".\",\"upos\":\"PUNCT\",\"xpos\":\"u--------\",\"feats\":\"_\",\"deprel\":\"punct\",\"misc\":\"Ref=36\",\"id\":\"19#25\"},\"labels\":[\".\",\"#{#bb0000}PUNCT\",\"#{#0000bb}punct\"],\"hint\":\"lemma=.\\n_\"}\n",
       "]}}}\n",
       ",\"gar_tb\":{\"sentence\":\"τορὸς γὰρ ὀρθόθριξ φόβος δόμων ὀνειρόμαντις, ἐξ ὕπνου κότον πνέων, ἀωρόνυκτον ἀμβόαμα μυχόθεν ἔλακε περὶ φόβῳ, γυναικείοισιν ἐν δώμασιν βαρὺς πίτνων.\",\"trees\":{\"a\":{\"language\":\"gar_tb\",\"nodes\":[\n",
       "{\"id\":\"n19g\",\"parent\":null,\"firstson\":\"n19g-16\",\"labels\":[\"zone=gar_tb\",\"id=19g\"]}\n",
       ",{\"id\":\"n19g-1\",\"parent\":\"n19g-3\",\"order\":1,\"data\":{\"ord\":1,\"form\":\"τορὸς\",\"lemma\":\"τορός\",\"upos\":\"ADJ\",\"xpos\":\"a-s---mn-\",\"feats\":\"Case=Nom|Gender=Masc|Number=Sing\",\"deprel\":\"acl:compl\",\"misc\":\"Ref=32\",\"id\":\"19g#1\"},\"labels\":[\"τορὸς\",\"#{#bb0000}ADJ\",\"#{#0000bb}acl:compl\"],\"hint\":\"lemma=τορός\\nCase=Nom\\nGender=Masc\\nNumber=Sing\"}\n",
       ",{\"id\":\"n19g-2\",\"parent\":\"n19g-16\",\"order\":2,\"rbrother\":\"n19g-4\",\"data\":{\"ord\":2,\"form\":\"γὰρ\",\"lemma\":\"γάρ\",\"upos\":\"ADV\",\"xpos\":\"g--------\",\"feats\":\"PartType=Ptcl\",\"deprel\":\"advmod\",\"misc\":\"Ref=32\",\"id\":\"19g#2\"},\"labels\":[\"γὰρ\",\"#{#bb0000}ADV\",\"#{#0000bb}advmod\"],\"hint\":\"lemma=γάρ\\nPartType=Ptcl\"}\n",
       ",{\"id\":\"n19g-3\",\"parent\":\"n19g-4\",\"order\":3,\"firstson\":\"n19g-1\",\"rbrother\":\"n19g-6\",\"data\":{\"ord\":3,\"form\":\"ὀρθόθριξ\",\"lemma\":\"ὀρθόθριξ\",\"upos\":\"ADJ\",\"xpos\":\"n-s---mn-\",\"feats\":\"Case=Nom|Gender=Masc|Number=Sing\",\"deprel\":\"amod\",\"misc\":\"Ref=32\",\"id\":\"19g#3\"},\"labels\":[\"ὀρθόθριξ\",\"#{#bb0000}ADJ\",\"#{#0000bb}amod\"],\"hint\":\"lemma=ὀρθόθριξ\\nCase=Nom\\nGender=Masc\\nNumber=Sing\"}\n",
       ",{\"id\":\"n19g-4\",\"parent\":\"n19g-16\",\"order\":4,\"firstson\":\"n19g-3\",\"rbrother\":\"n19g-11\",\"data\":{\"ord\":4,\"form\":\"φόβος\",\"lemma\":\"φόβος\",\"upos\":\"NOUN\",\"xpos\":\"n-s---mn-\",\"feats\":\"Case=Nom|Gender=Masc|Number=Sing\",\"deprel\":\"nsubj\",\"misc\":\"Ref=32\",\"id\":\"19g#4\"},\"labels\":[\"φόβος\",\"#{#bb0000}NOUN\",\"#{#0000bb}nsubj\"],\"hint\":\"lemma=φόβος\\nCase=Nom\\nGender=Masc\\nNumber=Sing\"}\n",
       ",{\"id\":\"n19g-5\",\"parent\":\"n19g-6\",\"order\":5,\"data\":{\"ord\":5,\"form\":\"δόμων\",\"lemma\":\"δόμος\",\"upos\":\"NOUN\",\"xpos\":\"n-p---mg-\",\"feats\":\"Case=Gen|Gender=Masc|Number=Plur\",\"deprel\":\"nmod\",\"misc\":\"Ref=33\",\"id\":\"19g#5\"},\"labels\":[\"δόμων\",\"#{#bb0000}NOUN\",\"#{#0000bb}nmod\"],\"hint\":\"lemma=δόμος\\nCase=Gen\\nGender=Masc\\nNumber=Plur\"}\n",
       ",{\"id\":\"n19g-6\",\"parent\":\"n19g-4\",\"order\":6,\"firstson\":\"n19g-5\",\"data\":{\"ord\":6,\"form\":\"ὀνειρόμαντις\",\"lemma\":\"ὀνειρόμαντις\",\"upos\":\"NOUN\",\"xpos\":\"n-s---mn-\",\"feats\":\"Case=Nom|Gender=Masc|Number=Sing\",\"deprel\":\"nmod\",\"misc\":\"Ref=33|SpaceAfter=No\",\"id\":\"19g#6\"},\"labels\":[\"ὀνειρόμαντις\",\"#{#bb0000}NOUN\",\"#{#0000bb}nmod\"],\"hint\":\"lemma=ὀνειρόμαντις\\nCase=Nom\\nGender=Masc\\nNumber=Sing\"}\n",
       ",{\"id\":\"n19g-7\",\"parent\":\"n19g-11\",\"order\":7,\"rbrother\":\"n19g-9\",\"data\":{\"ord\":7,\"form\":\",\",\"lemma\":\",\",\"upos\":\"PUNCT\",\"xpos\":\"u--------\",\"feats\":\"_\",\"deprel\":\"punct\",\"misc\":\"Ref=33\",\"id\":\"19g#7\"},\"labels\":[\",\",\"#{#bb0000}PUNCT\",\"#{#0000bb}punct\"],\"hint\":\"lemma=,\\n_\"}\n",
       ",{\"id\":\"n19g-8\",\"parent\":\"n19g-9\",\"order\":8,\"data\":{\"ord\":8,\"form\":\"ἐξ\",\"lemma\":\"ἐκ\",\"upos\":\"ADP\",\"xpos\":\"r--------\",\"feats\":\"_\",\"deprel\":\"case\",\"misc\":\"Ref=33\",\"id\":\"19g#8\"},\"labels\":[\"ἐξ\",\"#{#bb0000}ADP\",\"#{#0000bb}case\"],\"hint\":\"lemma=ἐκ\\n_\"}\n",
       ",{\"id\":\"n19g-9\",\"parent\":\"n19g-11\",\"order\":9,\"firstson\":\"n19g-8\",\"rbrother\":\"n19g-10\",\"data\":{\"ord\":9,\"form\":\"ὕπνου\",\"lemma\":\"ὕπνος\",\"upos\":\"NOUN\",\"xpos\":\"n-s---mg-\",\"feats\":\"Case=Gen|Gender=Masc|Number=Sing\",\"deprel\":\"obl\",\"misc\":\"Ref=33\",\"id\":\"19g#9\"},\"labels\":[\"ὕπνου\",\"#{#bb0000}NOUN\",\"#{#0000bb}obl\"],\"hint\":\"lemma=ὕπνος\\nCase=Gen\\nGender=Masc\\nNumber=Sing\"}\n",
       ",{\"id\":\"n19g-10\",\"parent\":\"n19g-11\",\"order\":10,\"rbrother\":\"n19g-12\",\"data\":{\"ord\":10,\"form\":\"κότον\",\"lemma\":\"κότος\",\"upos\":\"NOUN\",\"xpos\":\"n-s---ma-\",\"feats\":\"Case=Acc|Gender=Masc|Number=Sing\",\"deprel\":\"obj\",\"misc\":\"Ref=33\",\"id\":\"19g#10\"},\"labels\":[\"κότον\",\"#{#bb0000}NOUN\",\"#{#0000bb}obj\"],\"hint\":\"lemma=κότος\\nCase=Acc\\nGender=Masc\\nNumber=Sing\"}\n",
       ",{\"id\":\"n19g-11\",\"parent\":\"n19g-16\",\"order\":11,\"firstson\":\"n19g-7\",\"rbrother\":\"n19g-14\",\"data\":{\"ord\":11,\"form\":\"πνέων\",\"lemma\":\"πνέω\",\"upos\":\"VERB\",\"xpos\":\"v-sppamn-\",\"feats\":\"Case=Nom|Gender=Masc|Number=Sing|Tense=Pres|VerbForm=Part|Voice=Pass\",\"deprel\":\"advcl\",\"misc\":\"Ref=34|SpaceAfter=No\",\"id\":\"19g#11\"},\"labels\":[\"πνέων\",\"#{#bb0000}VERB\",\"#{#0000bb}advcl\"],\"hint\":\"lemma=πνέω\\nCase=Nom\\nGender=Masc\\nNumber=Sing\\nTense=Pres\\nVerbForm=Part\\nVoice=Pass\"}\n",
       ",{\"id\":\"n19g-12\",\"parent\":\"n19g-11\",\"order\":12,\"data\":{\"ord\":12,\"form\":\",\",\"lemma\":\",\",\"upos\":\"PUNCT\",\"xpos\":\"u--------\",\"feats\":\"_\",\"deprel\":\"punct\",\"misc\":\"Ref=34\",\"id\":\"19g#12\"},\"labels\":[\",\",\"#{#bb0000}PUNCT\",\"#{#0000bb}punct\"],\"hint\":\"lemma=,\\n_\"}\n",
       ",{\"id\":\"n19g-13\",\"parent\":\"n19g-14\",\"order\":13,\"data\":{\"ord\":13,\"form\":\"ἀωρόνυκτον\",\"lemma\":\"ἀωρόνυκτος\",\"upos\":\"ADJ\",\"xpos\":\"a-s---na-\",\"feats\":\"Case=Acc|Gender=Neut|Number=Sing\",\"deprel\":\"amod\",\"misc\":\"Ref=34\",\"id\":\"19g#13\"},\"labels\":[\"ἀωρόνυκτον\",\"#{#bb0000}ADJ\",\"#{#0000bb}amod\"],\"hint\":\"lemma=ἀωρόνυκτος\\nCase=Acc\\nGender=Neut\\nNumber=Sing\"}\n",
       ",{\"id\":\"n19g-14\",\"parent\":\"n19g-16\",\"order\":14,\"firstson\":\"n19g-13\",\"rbrother\":\"n19g-15\",\"data\":{\"ord\":14,\"form\":\"ἀμβόαμα\",\"lemma\":\"ἀναβόαμα\",\"upos\":\"NOUN\",\"xpos\":\"n-s---na-\",\"feats\":\"Case=Acc|Gender=Neut|Number=Sing\",\"deprel\":\"obj\",\"misc\":\"Ref=34\",\"id\":\"19g#14\"},\"labels\":[\"ἀμβόαμα\",\"#{#bb0000}NOUN\",\"#{#0000bb}obj\"],\"hint\":\"lemma=ἀναβόαμα\\nCase=Acc\\nGender=Neut\\nNumber=Sing\"}\n",
       ",{\"id\":\"n19g-15\",\"parent\":\"n19g-16\",\"order\":15,\"rbrother\":\"n19g-18\",\"data\":{\"ord\":15,\"form\":\"μυχόθεν\",\"lemma\":\"μυχόθεν\",\"upos\":\"ADV\",\"xpos\":\"d--------\",\"feats\":\"_\",\"deprel\":\"advmod\",\"misc\":\"Ref=35\",\"id\":\"19g#15\"},\"labels\":[\"μυχόθεν\",\"#{#bb0000}ADV\",\"#{#0000bb}advmod\"],\"hint\":\"lemma=μυχόθεν\\n_\"}\n",
       ",{\"id\":\"n19g-16\",\"parent\":\"n19g\",\"order\":16,\"firstson\":\"n19g-2\",\"data\":{\"ord\":16,\"form\":\"ἔλακε\",\"lemma\":\"λάσκω\",\"upos\":\"VERB\",\"xpos\":\"v3saia---\",\"feats\":\"Mood=Ind|Number=Sing|Person=3|Tense=Past|Voice=Act\",\"deprel\":\"root\",\"misc\":\"Ref=35\",\"id\":\"19g#16\"},\"labels\":[\"ἔλακε\",\"#{#bb0000}VERB\",\"#{#0000bb}root\"],\"hint\":\"lemma=λάσκω\\nMood=Ind\\nNumber=Sing\\nPerson=3\\nTense=Past\\nVoice=Act\"}\n",
       ",{\"id\":\"n19g-17\",\"parent\":\"n19g-18\",\"order\":17,\"data\":{\"ord\":17,\"form\":\"περὶ\",\"lemma\":\"περί\",\"upos\":\"ADP\",\"xpos\":\"r--------\",\"feats\":\"_\",\"deprel\":\"case\",\"misc\":\"Ref=35\",\"id\":\"19g#17\"},\"labels\":[\"περὶ\",\"#{#bb0000}ADP\",\"#{#0000bb}case\"],\"hint\":\"lemma=περί\\n_\"}\n",
       ",{\"id\":\"n19g-18\",\"parent\":\"n19g-16\",\"order\":18,\"firstson\":\"n19g-17\",\"rbrother\":\"n19g-24\",\"data\":{\"ord\":18,\"form\":\"φόβῳ\",\"lemma\":\"φόβος\",\"upos\":\"NOUN\",\"xpos\":\"n-s---md-\",\"feats\":\"Case=Dat|Gender=Masc|Number=Sing\",\"deprel\":\"obl\",\"misc\":\"Ref=35|SpaceAfter=No\",\"id\":\"19g#18\"},\"labels\":[\"φόβῳ\",\"#{#bb0000}NOUN\",\"#{#0000bb}obl\"],\"hint\":\"lemma=φόβος\\nCase=Dat\\nGender=Masc\\nNumber=Sing\"}\n",
       ",{\"id\":\"n19g-19\",\"parent\":\"n19g-24\",\"order\":19,\"rbrother\":\"n19g-22\",\"data\":{\"ord\":19,\"form\":\",\",\"lemma\":\",\",\"upos\":\"PUNCT\",\"xpos\":\"u--------\",\"feats\":\"_\",\"deprel\":\"punct\",\"misc\":\"Ref=35\",\"id\":\"19g#19\"},\"labels\":[\",\",\"#{#bb0000}PUNCT\",\"#{#0000bb}punct\"],\"hint\":\"lemma=,\\n_\"}\n",
       ",{\"id\":\"n19g-20\",\"parent\":\"n19g-22\",\"order\":20,\"rbrother\":\"n19g-21\",\"data\":{\"ord\":20,\"form\":\"γυναικείοισιν\",\"lemma\":\"γυναικεῖος\",\"upos\":\"ADJ\",\"xpos\":\"a-p---nd-\",\"feats\":\"Case=Dat|Gender=Neut|Number=Plur\",\"deprel\":\"amod\",\"misc\":\"Ref=36\",\"id\":\"19g#20\"},\"labels\":[\"γυναικείοισιν\",\"#{#bb0000}ADJ\",\"#{#0000bb}amod\"],\"hint\":\"lemma=γυναικεῖος\\nCase=Dat\\nGender=Neut\\nNumber=Plur\"}\n",
       ",{\"id\":\"n19g-21\",\"parent\":\"n19g-22\",\"order\":21,\"data\":{\"ord\":21,\"form\":\"ἐν\",\"lemma\":\"ἐν\",\"upos\":\"ADP\",\"xpos\":\"r--------\",\"feats\":\"_\",\"deprel\":\"case\",\"misc\":\"Ref=36\",\"id\":\"19g#21\"},\"labels\":[\"ἐν\",\"#{#bb0000}ADP\",\"#{#0000bb}case\"],\"hint\":\"lemma=ἐν\\n_\"}\n",
       ",{\"id\":\"n19g-22\",\"parent\":\"n19g-24\",\"order\":22,\"firstson\":\"n19g-20\",\"rbrother\":\"n19g-23\",\"data\":{\"ord\":22,\"form\":\"δώμασιν\",\"lemma\":\"δῶμα\",\"upos\":\"NOUN\",\"xpos\":\"n-p---nd-\",\"feats\":\"Case=Dat|Gender=Neut|Number=Plur\",\"deprel\":\"obl:arg\",\"misc\":\"Ref=36\",\"id\":\"19g#22\"},\"labels\":[\"δώμασιν\",\"#{#bb0000}NOUN\",\"#{#0000bb}obl:arg\"],\"hint\":\"lemma=δῶμα\\nCase=Dat\\nGender=Neut\\nNumber=Plur\"}\n",
       ",{\"id\":\"n19g-23\",\"parent\":\"n19g-24\",\"order\":23,\"data\":{\"ord\":23,\"form\":\"βαρὺς\",\"lemma\":\"βαρύς\",\"upos\":\"ADJ\",\"xpos\":\"a-s---mn-\",\"feats\":\"Case=Nom|Gender=Masc|Number=Sing\",\"deprel\":\"advcl:compl\",\"misc\":\"Ref=36\",\"id\":\"19g#23\"},\"labels\":[\"βαρὺς\",\"#{#bb0000}ADJ\",\"#{#0000bb}advcl:compl\"],\"hint\":\"lemma=βαρύς\\nCase=Nom\\nGender=Masc\\nNumber=Sing\"}\n",
       ",{\"id\":\"n19g-24\",\"parent\":\"n19g-16\",\"order\":24,\"firstson\":\"n19g-19\",\"rbrother\":\"n19g-25\",\"data\":{\"ord\":24,\"form\":\"πίτνων\",\"lemma\":\"πίπτω\",\"upos\":\"VERB\",\"xpos\":\"v-sppamn-\",\"feats\":\"Case=Nom|Gender=Masc|Number=Sing|Tense=Pres|VerbForm=Part|Voice=Pass\",\"deprel\":\"advcl\",\"misc\":\"Ref=36|SpaceAfter=No\",\"id\":\"19g#24\"},\"labels\":[\"πίτνων\",\"#{#bb0000}VERB\",\"#{#0000bb}advcl\"],\"hint\":\"lemma=πίπτω\\nCase=Nom\\nGender=Masc\\nNumber=Sing\\nTense=Pres\\nVerbForm=Part\\nVoice=Pass\"}\n",
       ",{\"id\":\"n19g-25\",\"parent\":\"n19g-16\",\"order\":25,\"data\":{\"ord\":25,\"form\":\".\",\"lemma\":\".\",\"upos\":\"PUNCT\",\"xpos\":\"u--------\",\"feats\":\"_\",\"deprel\":\"punct\",\"misc\":\"Ref=36\",\"id\":\"19g#25\"},\"labels\":[\".\",\"#{#bb0000}PUNCT\",\"#{#0000bb}punct\"],\"hint\":\"lemma=.\\n_\"}\n",
       "]}}}\n",
       "},\"desc\":[[\"[grc_tb]\",\"label\"],[\" \",\"space\"],[\"τορὸς\",\"n19-1\"],[\" \",\"space\"],[\"γὰρ\",\"n19-2\"],[\" \",\"space\"],[\"ὀρθόθριξ\",\"n19-3\"],[\" \",\"space\"],[\"δόμων\",\"n19-4\"],[\" \",\"space\"],[\"ὀνειρόμαντις\",\"n19-5\"],[\",\",\"n19-6\"],[\" \",\"space\"],[\"ἐξ\",\"n19-7\"],[\" \",\"space\"],[\"ὕπνου\",\"n19-8\"],[\" \",\"space\"],[\"κότον\",\"n19-9\"],[\" \",\"space\"],[\"πνέων\",\"n19-10\"],[\",\",\"n19-11\"],[\" \",\"space\"],[\"ἀωρόνυκτον\",\"n19-12\"],[\" \",\"space\"],[\"ἀμβόαμα\",\"n19-13\"],[\" \",\"space\"],[\"μυχόθεν\",\"n19-14\"],[\" \",\"space\"],[\"ἔλακε\",\"n19-15\"],[\" \",\"space\"],[\"περὶ\",\"n19-16\"],[\" \",\"space\"],[\"φόβῳ\",\"n19-17\"],[\",\",\"n19-18\"],[\" \",\"space\"],[\"γυναικείοισιν\",\"n19-19\"],[\" \",\"space\"],[\"ἐν\",\"n19-20\"],[\" \",\"space\"],[\"δώμασιν\",\"n19-21\"],[\" \",\"space\"],[\"βαρὺς\",\"n19-22\"],[\" \",\"space\"],[\"πίτνων\",\"n19-23\"],[\".\",\"n19-24\"],[\" \",\"space\"],[\"\\n\",\"newline\"],[\"[old_tb]\",\"label\"],[\" \",\"space\"],[\"τορὸς\",\"n19-1\"],[\" \",\"space\"],[\"δὲ\",\"n19-2\"],[\" \",\"space\"],[\"Φοῖβος\",\"n19-3\"],[\" \",\"space\"],[\"ὀρθόθριξ\",\"n19-4\"],[\" \",\"space\"],[\"δόμων\",\"n19-5\"],[\" \",\"space\"],[\"ὀνειρόμαντις\",\"n19-6\"],[\",\",\"n19-7\"],[\" \",\"space\"],[\"ἐξ\",\"n19-8\"],[\" \",\"space\"],[\"ὕπνου\",\"n19-9\"],[\" \",\"space\"],[\"κότον\",\"n19-10\"],[\" \",\"space\"],[\"πνέων\",\"n19-11\"],[\",\",\"n19-12\"],[\" \",\"space\"],[\"ἀωρόνυκτον\",\"n19-13\"],[\" \",\"space\"],[\"ἀμβόαμα\",\"n19-14\"],[\" \",\"space\"],[\"μυχόθεν\",\"n19-15\"],[\" \",\"space\"],[\"ἔλακε\",\"n19-16\"],[\" \",\"space\"],[\"περὶ\",\"n19-17\"],[\" \",\"space\"],[\"φόβῳ\",\"n19-18\"],[\",\",\"n19-19\"],[\" \",\"space\"],[\"γυναικείοισιν\",\"n19-20\"],[\" \",\"space\"],[\"ἐν\",\"n19-21\"],[\" \",\"space\"],[\"δώμασιν\",\"n19-22\"],[\" \",\"space\"],[\"βαρὺς\",\"n19-23\"],[\" \",\"space\"],[\"πίτνων\",\"n19-24\"],[\".\",\"n19-25\"],[\" \",\"space\"],[\"\\n\",\"newline\"],[\"[gar_tb]\",\"label\"],[\" \",\"space\"],[\"τορὸς\",\"n19g-1\"],[\" \",\"space\"],[\"γὰρ\",\"n19g-2\"],[\" \",\"space\"],[\"ὀρθόθριξ\",\"n19g-3\"],[\" \",\"space\"],[\"φόβος\",\"n19g-4\"],[\" \",\"space\"],[\"δόμων\",\"n19g-5\"],[\" \",\"space\"],[\"ὀνειρόμαντις\",\"n19g-6\"],[\",\",\"n19g-7\"],[\" \",\"space\"],[\"ἐξ\",\"n19g-8\"],[\" \",\"space\"],[\"ὕπνου\",\"n19g-9\"],[\" \",\"space\"],[\"κότον\",\"n19g-10\"],[\" \",\"space\"],[\"πνέων\",\"n19g-11\"],[\",\",\"n19g-12\"],[\" \",\"space\"],[\"ἀωρόνυκτον\",\"n19g-13\"],[\" \",\"space\"],[\"ἀμβόαμα\",\"n19g-14\"],[\" \",\"space\"],[\"μυχόθεν\",\"n19g-15\"],[\" \",\"space\"],[\"ἔλακε\",\"n19g-16\"],[\" \",\"space\"],[\"περὶ\",\"n19g-17\"],[\" \",\"space\"],[\"φόβῳ\",\"n19g-18\"],[\",\",\"n19g-19\"],[\" \",\"space\"],[\"γυναικείοισιν\",\"n19g-20\"],[\" \",\"space\"],[\"ἐν\",\"n19g-21\"],[\" \",\"space\"],[\"δώμασιν\",\"n19g-22\"],[\" \",\"space\"],[\"βαρὺς\",\"n19g-23\"],[\" \",\"space\"],[\"πίτνων\",\"n19g-24\"],[\".\",\"n19g-25\"],[\" \",\"space\"],[\"\\n\",\"newline\"]]}\n",
       "];\n",
       "$('#treex-view').treexView(data);\n",
       "function saveTree() {\n",
       "         var svg_el = jQuery('svg');\n",
       "         if (svg_el.length) {\n",
       "            var svg = new Blob([svg_el.parent().html()], {type: \"image/svg+xml\"});\n",
       "            saveAs(svg, 'tree.svg');\n",
       "         }\n",
       "        }\n",
       "</script></body></html>\n"
      ],
      "text/plain": [
       "<IPython.core.display.HTML object>"
      ]
     },
     "metadata": {},
     "output_type": "display_data"
    }
   ],
   "source": [
    "display(HTML(aligndoc.to_html_string()))"
   ]
  },
  {
   "cell_type": "code",
   "execution_count": 99,
   "id": "fcf6eb6f-9f1e-4a77-9f34-d6c311333516",
   "metadata": {},
   "outputs": [],
   "source": [
    "writer = HtmlWriter(files='data/a_cho/firt_stanzas.html')\n",
    "writer.apply_on_document(aligndoc)"
   ]
  },
  {
   "cell_type": "code",
   "execution_count": null,
   "id": "e8775516-484f-4df3-92dc-4a7c9cb585ea",
   "metadata": {},
   "outputs": [],
   "source": []
  },
  {
   "cell_type": "markdown",
   "id": "20db8f8a-3a0d-4cd8-bfba-32b4a4d9004b",
   "metadata": {},
   "source": [
    "---"
   ]
  }
 ],
 "metadata": {
  "kernelspec": {
   "display_name": "Python 3",
   "language": "python",
   "name": "python3"
  },
  "language_info": {
   "codemirror_mode": {
    "name": "ipython",
    "version": 3
   },
   "file_extension": ".py",
   "mimetype": "text/x-python",
   "name": "python",
   "nbconvert_exporter": "python",
   "pygments_lexer": "ipython3",
   "version": "3.8.5"
  }
 },
 "nbformat": 4,
 "nbformat_minor": 5
}
